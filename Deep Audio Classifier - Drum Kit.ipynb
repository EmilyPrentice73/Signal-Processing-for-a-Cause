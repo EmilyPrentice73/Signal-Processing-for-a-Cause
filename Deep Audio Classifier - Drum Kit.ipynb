{
  "nbformat": 4,
  "nbformat_minor": 0,
  "metadata": {
    "colab": {
      "name": "[Newest]_Drum_Kit_Deep_Audio_Classifier.ipynb",
      "provenance": [],
      "machine_shape": "hm",
      "collapsed_sections": [
        "Dx00juL2yDKW",
        "_ruD5-OUya0a",
        "23uJQNFwyfLQ",
        "z7bVC4KSylzz",
        "aE6KdkzMyxSd",
        "KUTPTgGAzHqo",
        "Pc6807srzhqu",
        "90b7yZAi03tY",
        "7Ztg-e-61BFr",
        "iz0Tq_Ig1QAP",
        "tirZLrrC1sLH",
        "gJDYT8dE17Rs",
        "Hagvxq-w2Cyw"
      ]
    },
    "kernelspec": {
      "name": "python3",
      "display_name": "Python 3"
    },
    "language_info": {
      "name": "python"
    },
    "gpuClass": "standard",
    "accelerator": "GPU"
  },
  "cells": [
    {
      "cell_type": "markdown",
      "source": [
        "## 1. Import and Install Dependencies"
      ],
      "metadata": {
        "id": "3KANuendfX40"
      }
    },
    {
      "cell_type": "markdown",
      "source": [
        "### 1.1 Install Dependencies"
      ],
      "metadata": {
        "id": "eC6TJji0fkVg"
      }
    },
    {
      "cell_type": "code",
      "execution_count": 37,
      "metadata": {
        "id": "yeBgQfb0cWkm",
        "colab": {
          "base_uri": "https://localhost:8080/"
        },
        "outputId": "587ced57-02c1-4dc6-acee-52cfe638bf29"
      },
      "outputs": [
        {
          "output_type": "stream",
          "name": "stdout",
          "text": [
            "Looking in indexes: https://pypi.org/simple, https://us-python.pkg.dev/colab-wheels/public/simple/\n",
            "Requirement already satisfied: tensorflow in /usr/local/lib/python3.7/dist-packages (2.8.2+zzzcolab20220629235552)\n",
            "Requirement already satisfied: tensorflow-gpu in /usr/local/lib/python3.7/dist-packages (2.8.2)\n",
            "Requirement already satisfied: tensorflow-io in /usr/local/lib/python3.7/dist-packages (0.23.1)\n",
            "Requirement already satisfied: matplotlib in /usr/local/lib/python3.7/dist-packages (3.2.2)\n",
            "Requirement already satisfied: keras<2.9,>=2.8.0rc0 in /usr/local/lib/python3.7/dist-packages (from tensorflow) (2.8.0)\n",
            "Requirement already satisfied: google-pasta>=0.1.1 in /usr/local/lib/python3.7/dist-packages (from tensorflow) (0.2.0)\n",
            "Requirement already satisfied: opt-einsum>=2.3.2 in /usr/local/lib/python3.7/dist-packages (from tensorflow) (3.3.0)\n",
            "Requirement already satisfied: protobuf<3.20,>=3.9.2 in /usr/local/lib/python3.7/dist-packages (from tensorflow) (3.17.3)\n",
            "Requirement already satisfied: grpcio<2.0,>=1.24.3 in /usr/local/lib/python3.7/dist-packages (from tensorflow) (1.47.0)\n",
            "Requirement already satisfied: setuptools in /usr/local/lib/python3.7/dist-packages (from tensorflow) (57.4.0)\n",
            "Requirement already satisfied: tensorflow-estimator<2.9,>=2.8 in /usr/local/lib/python3.7/dist-packages (from tensorflow) (2.8.0)\n",
            "Requirement already satisfied: h5py>=2.9.0 in /usr/local/lib/python3.7/dist-packages (from tensorflow) (3.1.0)\n",
            "Requirement already satisfied: tensorflow-io-gcs-filesystem>=0.23.1 in /usr/local/lib/python3.7/dist-packages (from tensorflow) (0.23.1)\n",
            "Requirement already satisfied: termcolor>=1.1.0 in /usr/local/lib/python3.7/dist-packages (from tensorflow) (1.1.0)\n",
            "Requirement already satisfied: keras-preprocessing>=1.1.1 in /usr/local/lib/python3.7/dist-packages (from tensorflow) (1.1.2)\n",
            "Requirement already satisfied: typing-extensions>=3.6.6 in /usr/local/lib/python3.7/dist-packages (from tensorflow) (4.1.1)\n",
            "Requirement already satisfied: wrapt>=1.11.0 in /usr/local/lib/python3.7/dist-packages (from tensorflow) (1.14.1)\n",
            "Requirement already satisfied: gast>=0.2.1 in /usr/local/lib/python3.7/dist-packages (from tensorflow) (0.5.3)\n",
            "Requirement already satisfied: absl-py>=0.4.0 in /usr/local/lib/python3.7/dist-packages (from tensorflow) (1.1.0)\n",
            "Requirement already satisfied: libclang>=9.0.1 in /usr/local/lib/python3.7/dist-packages (from tensorflow) (14.0.1)\n",
            "Requirement already satisfied: numpy>=1.20 in /usr/local/lib/python3.7/dist-packages (from tensorflow) (1.21.6)\n",
            "Requirement already satisfied: tensorboard<2.9,>=2.8 in /usr/local/lib/python3.7/dist-packages (from tensorflow) (2.8.0)\n",
            "Requirement already satisfied: astunparse>=1.6.0 in /usr/local/lib/python3.7/dist-packages (from tensorflow) (1.6.3)\n",
            "Requirement already satisfied: six>=1.12.0 in /usr/local/lib/python3.7/dist-packages (from tensorflow) (1.15.0)\n",
            "Requirement already satisfied: flatbuffers>=1.12 in /usr/local/lib/python3.7/dist-packages (from tensorflow) (2.0)\n",
            "Requirement already satisfied: wheel<1.0,>=0.23.0 in /usr/local/lib/python3.7/dist-packages (from astunparse>=1.6.0->tensorflow) (0.37.1)\n",
            "Requirement already satisfied: cached-property in /usr/local/lib/python3.7/dist-packages (from h5py>=2.9.0->tensorflow) (1.5.2)\n",
            "Requirement already satisfied: tensorboard-data-server<0.7.0,>=0.6.0 in /usr/local/lib/python3.7/dist-packages (from tensorboard<2.9,>=2.8->tensorflow) (0.6.1)\n",
            "Requirement already satisfied: requests<3,>=2.21.0 in /usr/local/lib/python3.7/dist-packages (from tensorboard<2.9,>=2.8->tensorflow) (2.23.0)\n",
            "Requirement already satisfied: google-auth-oauthlib<0.5,>=0.4.1 in /usr/local/lib/python3.7/dist-packages (from tensorboard<2.9,>=2.8->tensorflow) (0.4.6)\n",
            "Requirement already satisfied: markdown>=2.6.8 in /usr/local/lib/python3.7/dist-packages (from tensorboard<2.9,>=2.8->tensorflow) (3.3.7)\n",
            "Requirement already satisfied: tensorboard-plugin-wit>=1.6.0 in /usr/local/lib/python3.7/dist-packages (from tensorboard<2.9,>=2.8->tensorflow) (1.8.1)\n",
            "Requirement already satisfied: werkzeug>=0.11.15 in /usr/local/lib/python3.7/dist-packages (from tensorboard<2.9,>=2.8->tensorflow) (1.0.1)\n",
            "Requirement already satisfied: google-auth<3,>=1.6.3 in /usr/local/lib/python3.7/dist-packages (from tensorboard<2.9,>=2.8->tensorflow) (1.35.0)\n",
            "Requirement already satisfied: rsa<5,>=3.1.4 in /usr/local/lib/python3.7/dist-packages (from google-auth<3,>=1.6.3->tensorboard<2.9,>=2.8->tensorflow) (4.8)\n",
            "Requirement already satisfied: pyasn1-modules>=0.2.1 in /usr/local/lib/python3.7/dist-packages (from google-auth<3,>=1.6.3->tensorboard<2.9,>=2.8->tensorflow) (0.2.8)\n",
            "Requirement already satisfied: cachetools<5.0,>=2.0.0 in /usr/local/lib/python3.7/dist-packages (from google-auth<3,>=1.6.3->tensorboard<2.9,>=2.8->tensorflow) (4.2.4)\n",
            "Requirement already satisfied: requests-oauthlib>=0.7.0 in /usr/local/lib/python3.7/dist-packages (from google-auth-oauthlib<0.5,>=0.4.1->tensorboard<2.9,>=2.8->tensorflow) (1.3.1)\n",
            "Requirement already satisfied: importlib-metadata>=4.4 in /usr/local/lib/python3.7/dist-packages (from markdown>=2.6.8->tensorboard<2.9,>=2.8->tensorflow) (4.12.0)\n",
            "Requirement already satisfied: zipp>=0.5 in /usr/local/lib/python3.7/dist-packages (from importlib-metadata>=4.4->markdown>=2.6.8->tensorboard<2.9,>=2.8->tensorflow) (3.8.0)\n",
            "Requirement already satisfied: pyasn1<0.5.0,>=0.4.6 in /usr/local/lib/python3.7/dist-packages (from pyasn1-modules>=0.2.1->google-auth<3,>=1.6.3->tensorboard<2.9,>=2.8->tensorflow) (0.4.8)\n",
            "Requirement already satisfied: certifi>=2017.4.17 in /usr/local/lib/python3.7/dist-packages (from requests<3,>=2.21.0->tensorboard<2.9,>=2.8->tensorflow) (2022.6.15)\n",
            "Requirement already satisfied: urllib3!=1.25.0,!=1.25.1,<1.26,>=1.21.1 in /usr/local/lib/python3.7/dist-packages (from requests<3,>=2.21.0->tensorboard<2.9,>=2.8->tensorflow) (1.24.3)\n",
            "Requirement already satisfied: idna<3,>=2.5 in /usr/local/lib/python3.7/dist-packages (from requests<3,>=2.21.0->tensorboard<2.9,>=2.8->tensorflow) (2.10)\n",
            "Requirement already satisfied: chardet<4,>=3.0.2 in /usr/local/lib/python3.7/dist-packages (from requests<3,>=2.21.0->tensorboard<2.9,>=2.8->tensorflow) (3.0.4)\n",
            "Requirement already satisfied: oauthlib>=3.0.0 in /usr/local/lib/python3.7/dist-packages (from requests-oauthlib>=0.7.0->google-auth-oauthlib<0.5,>=0.4.1->tensorboard<2.9,>=2.8->tensorflow) (3.2.0)\n",
            "Requirement already satisfied: pyparsing!=2.0.4,!=2.1.2,!=2.1.6,>=2.0.1 in /usr/local/lib/python3.7/dist-packages (from matplotlib) (3.0.9)\n",
            "Requirement already satisfied: kiwisolver>=1.0.1 in /usr/local/lib/python3.7/dist-packages (from matplotlib) (1.4.3)\n",
            "Requirement already satisfied: cycler>=0.10 in /usr/local/lib/python3.7/dist-packages (from matplotlib) (0.11.0)\n",
            "Requirement already satisfied: python-dateutil>=2.1 in /usr/local/lib/python3.7/dist-packages (from matplotlib) (2.8.2)\n"
          ]
        }
      ],
      "source": [
        "!pip install tensorflow tensorflow-gpu tensorflow-io matplotlib\n",
        "# tensorflow-gpu will be needed since a cuda enabled gpu is being used\n",
        "# tensorflow-io will be used for audio processing\n",
        "# matplot lib will be used to visualize the results"
      ]
    },
    {
      "cell_type": "markdown",
      "source": [
        "### 1.2 Load Dependencies"
      ],
      "metadata": {
        "id": "vnB93lZXg2QU"
      }
    },
    {
      "cell_type": "code",
      "source": [
        "import os\n",
        "# This dependency will make it easier to navigate through the directories.\n",
        "from matplotlib import pyplot as plt\n",
        "# This dependency will make it easier to visualize the results and the waveforms\n",
        "# once the audio files have been converted.\n",
        "import tensorflow as tf\n",
        "# This dependency will be used to build the deep learning model.\n",
        "import tensorflow_io as tfio\n",
        "# This dependency makes it easier to process the audio clips and convert them\n",
        "# into a usable format."
      ],
      "metadata": {
        "id": "sPTxLWYwfq41"
      },
      "execution_count": 38,
      "outputs": []
    },
    {
      "cell_type": "markdown",
      "source": [
        "## 2. Build Data Loading Function"
      ],
      "metadata": {
        "id": "fOD9EW8VhDI9"
      }
    },
    {
      "cell_type": "markdown",
      "source": [
        "### 2.1 Define Paths to Files"
      ],
      "metadata": {
        "id": "kdjSHYtkhGuw"
      }
    },
    {
      "cell_type": "code",
      "source": [
        "# Here a path will be defined to a single clip and confirming the path works.\n",
        "# We will create paths to both the male vocal files and the drum kit files."
      ],
      "metadata": {
        "id": "XZ1flcEsg_pL"
      },
      "execution_count": null,
      "outputs": []
    },
    {
      "cell_type": "code",
      "source": [
        "from google.colab import drive\n",
        "drive.mount('/content/drive')\n",
        "# Since Google Colab is being used, the corresponding Google Drive will need to \n",
        "# be mounted to the project in order to access the data saved on it."
      ],
      "metadata": {
        "colab": {
          "base_uri": "https://localhost:8080/"
        },
        "id": "I82ZSZ_KhPO9",
        "outputId": "e94fe34a-f250-4797-dc4f-9a2e3c66006f"
      },
      "execution_count": 39,
      "outputs": [
        {
          "output_type": "stream",
          "name": "stdout",
          "text": [
            "Drive already mounted at /content/drive; to attempt to forcibly remount, call drive.mount(\"/content/drive\", force_remount=True).\n"
          ]
        }
      ]
    },
    {
      "cell_type": "code",
      "source": [
        "# Below code below is defining the paths to the files and testing them."
      ],
      "metadata": {
        "id": "Y9XtnDBohR_k"
      },
      "execution_count": null,
      "outputs": []
    },
    {
      "cell_type": "code",
      "source": [
        "DRUM_PATH = '/content/drive/My Drive/Colab Notebooks/Data 2/Drum Kit/'"
      ],
      "metadata": {
        "id": "wsEj0n9dltKV"
      },
      "execution_count": 40,
      "outputs": []
    },
    {
      "cell_type": "code",
      "source": [
        "DRUM_KIT_FILE = os.path.join(DRUM_PATH, '0c67f402 1.wav')"
      ],
      "metadata": {
        "id": "sXhLWhsUhhal"
      },
      "execution_count": 41,
      "outputs": []
    },
    {
      "cell_type": "code",
      "source": [
        "DRUM_KIT_FILE"
      ],
      "metadata": {
        "colab": {
          "base_uri": "https://localhost:8080/",
          "height": 35
        },
        "id": "3mmCvhe0pswW",
        "outputId": "99f5c426-7dcc-47a6-c839-12c248e2bf14"
      },
      "execution_count": 42,
      "outputs": [
        {
          "output_type": "execute_result",
          "data": {
            "text/plain": [
              "'/content/drive/My Drive/Colab Notebooks/Data 2/Drum Kit/0c67f402 1.wav'"
            ],
            "application/vnd.google.colaboratory.intrinsic+json": {
              "type": "string"
            }
          },
          "metadata": {},
          "execution_count": 42
        }
      ]
    },
    {
      "cell_type": "code",
      "source": [
        "MALE_PATH = '/content/drive/My Drive/Colab Notebooks/Data 2/Male Vocal/'"
      ],
      "metadata": {
        "id": "mLaOFZWAl2Q7"
      },
      "execution_count": 43,
      "outputs": []
    },
    {
      "cell_type": "code",
      "source": [
        "MALE_VOCAL_FILE = os.path.join(MALE_PATH, 'm4_arpeggios_c_slow_forte_a.wav')"
      ],
      "metadata": {
        "id": "n16z1K5UjADZ"
      },
      "execution_count": 44,
      "outputs": []
    },
    {
      "cell_type": "code",
      "source": [
        "MALE_VOCAL_FILE"
      ],
      "metadata": {
        "colab": {
          "base_uri": "https://localhost:8080/",
          "height": 35
        },
        "id": "Mgl7Deqhjz2I",
        "outputId": "b845cb23-2f11-46be-ab77-b9c80cc8ba76"
      },
      "execution_count": 45,
      "outputs": [
        {
          "output_type": "execute_result",
          "data": {
            "text/plain": [
              "'/content/drive/My Drive/Colab Notebooks/Data 2/Male Vocal/m4_arpeggios_c_slow_forte_a.wav'"
            ],
            "application/vnd.google.colaboratory.intrinsic+json": {
              "type": "string"
            }
          },
          "metadata": {},
          "execution_count": 45
        }
      ]
    },
    {
      "cell_type": "code",
      "source": [
        "# The paths to both types of files are set up correctly."
      ],
      "metadata": {
        "id": "YpqFi8JEj9Hx"
      },
      "execution_count": null,
      "outputs": []
    },
    {
      "cell_type": "markdown",
      "source": [
        "### 2.2 Build Dataloading Function"
      ],
      "metadata": {
        "id": "x2QyF8pWkTk0"
      }
    },
    {
      "cell_type": "code",
      "source": [
        "def load_wav_16k_mono(filename):\n",
        "# This code will load in our audio data and convert it to 16 Hz (16k) in a\n",
        "# single channel (mono).\n",
        "    file_contents = tf.io.read_file(filename)\n",
        "    wav, sample_rate = tf.audio.decode_wav(file_contents, desired_channels=1)\n",
        "    # The above two lines of code will be used to convert the audio file into a \n",
        "    # waveform.\n",
        "    wav = tf.squeeze(wav, axis=-1)\n",
        "    # This coding removes the trailing axis\n",
        "    sample_rate = tf.cast(sample_rate, dtype=tf.int64) \n",
        "    wav = tfio.audio.resample(wav, rate_in=sample_rate, rate_out=16000)\n",
        "    # The above two lines of code will convert the audio file from 44100Hz to \n",
        "    # 1600hz, which is the amplitude of the audio signal.\n",
        "    return wav \n",
        "# This code is adapted from the dataloading function found in the tensorflow \n",
        "# documentation."
      ],
      "metadata": {
        "id": "MQVnurCIqE-d"
      },
      "execution_count": 46,
      "outputs": []
    },
    {
      "cell_type": "code",
      "source": [
        "file_contents = tf.io.read_file(DRUM_KIT_FILE)"
      ],
      "metadata": {
        "id": "TlUcICdhqPvS"
      },
      "execution_count": 47,
      "outputs": []
    },
    {
      "cell_type": "code",
      "source": [
        "wav, sample_rate = tf.audio.decode_wav(file_contents, desired_channels=1)"
      ],
      "metadata": {
        "id": "SgC-5mvOqW6_"
      },
      "execution_count": 48,
      "outputs": []
    },
    {
      "cell_type": "code",
      "source": [
        "wav"
      ],
      "metadata": {
        "colab": {
          "base_uri": "https://localhost:8080/"
        },
        "id": "NGbNNKTeqaga",
        "outputId": "67aefcc1-333d-402a-f442-c3e47d10d2dc"
      },
      "execution_count": 49,
      "outputs": [
        {
          "output_type": "execute_result",
          "data": {
            "text/plain": [
              "<tf.Tensor: shape=(160000, 1), dtype=float32, numpy=\n",
              "array([[ 3.0517578e-05],\n",
              "       [-3.0517578e-05],\n",
              "       [ 0.0000000e+00],\n",
              "       ...,\n",
              "       [-3.0517578e-05],\n",
              "       [-3.0517578e-05],\n",
              "       [-3.0517578e-05]], dtype=float32)>"
            ]
          },
          "metadata": {},
          "execution_count": 49
        }
      ]
    },
    {
      "cell_type": "code",
      "source": [
        "sample_rate"
      ],
      "metadata": {
        "colab": {
          "base_uri": "https://localhost:8080/"
        },
        "id": "_0681DGeqhFs",
        "outputId": "d94f78da-4551-41bd-a52e-ffe93d547d84"
      },
      "execution_count": 50,
      "outputs": [
        {
          "output_type": "execute_result",
          "data": {
            "text/plain": [
              "<tf.Tensor: shape=(), dtype=int32, numpy=16000>"
            ]
          },
          "metadata": {},
          "execution_count": 50
        }
      ]
    },
    {
      "cell_type": "code",
      "source": [
        "len(wav)"
      ],
      "metadata": {
        "colab": {
          "base_uri": "https://localhost:8080/"
        },
        "id": "SZ8T_cvZqoJP",
        "outputId": "73652b3a-49a9-44d5-e060-06ed14886549"
      },
      "execution_count": 51,
      "outputs": [
        {
          "output_type": "execute_result",
          "data": {
            "text/plain": [
              "160000"
            ]
          },
          "metadata": {},
          "execution_count": 51
        }
      ]
    },
    {
      "cell_type": "code",
      "source": [
        "!pip install tensorflow_io==0.23.1\n",
        "# The above had to be install for the Dataloading Function to work in Google\n",
        "# Colab."
      ],
      "metadata": {
        "colab": {
          "base_uri": "https://localhost:8080/",
          "height": 409
        },
        "id": "Xa7HNV_Gkdn2",
        "outputId": "5c608095-d0fa-4cc9-91b0-63746d4fb809"
      },
      "execution_count": null,
      "outputs": [
        {
          "output_type": "stream",
          "name": "stdout",
          "text": [
            "Looking in indexes: https://pypi.org/simple, https://us-python.pkg.dev/colab-wheels/public/simple/\n",
            "Collecting tensorflow_io==0.23.1\n",
            "  Downloading tensorflow_io-0.23.1-cp37-cp37m-manylinux_2_12_x86_64.manylinux2010_x86_64.whl (23.1 MB)\n",
            "\u001b[K     |████████████████████████████████| 23.1 MB 783 kB/s \n",
            "\u001b[?25hCollecting tensorflow-io-gcs-filesystem==0.23.1\n",
            "  Downloading tensorflow_io_gcs_filesystem-0.23.1-cp37-cp37m-manylinux_2_12_x86_64.manylinux2010_x86_64.whl (2.1 MB)\n",
            "\u001b[K     |████████████████████████████████| 2.1 MB 83.2 MB/s \n",
            "\u001b[?25hInstalling collected packages: tensorflow-io-gcs-filesystem, tensorflow-io\n",
            "  Attempting uninstall: tensorflow-io-gcs-filesystem\n",
            "    Found existing installation: tensorflow-io-gcs-filesystem 0.26.0\n",
            "    Uninstalling tensorflow-io-gcs-filesystem-0.26.0:\n",
            "      Successfully uninstalled tensorflow-io-gcs-filesystem-0.26.0\n",
            "  Attempting uninstall: tensorflow-io\n",
            "    Found existing installation: tensorflow-io 0.26.0\n",
            "    Uninstalling tensorflow-io-0.26.0:\n",
            "      Successfully uninstalled tensorflow-io-0.26.0\n",
            "Successfully installed tensorflow-io-0.23.1 tensorflow-io-gcs-filesystem-0.23.1\n"
          ]
        },
        {
          "output_type": "display_data",
          "data": {
            "application/vnd.colab-display-data+json": {
              "pip_warning": {
                "packages": [
                  "tensorflow_io"
                ]
              }
            }
          },
          "metadata": {}
        }
      ]
    },
    {
      "cell_type": "code",
      "source": [
        "wav = tfio.audio.resample(wav, rate_in=44100, rate_out=16000)"
      ],
      "metadata": {
        "id": "AJV0r8odrnK7"
      },
      "execution_count": 52,
      "outputs": []
    },
    {
      "cell_type": "code",
      "source": [
        "wav"
      ],
      "metadata": {
        "colab": {
          "base_uri": "https://localhost:8080/"
        },
        "id": "OhuNGoLIrra5",
        "outputId": "093f2a42-0582-4e3d-d159-2992c482f599"
      },
      "execution_count": 53,
      "outputs": [
        {
          "output_type": "execute_result",
          "data": {
            "text/plain": [
              "<tf.Tensor: shape=(58049, 1), dtype=float32, numpy=\n",
              "array([[-2.4680361e-10],\n",
              "       [ 3.5358275e-10],\n",
              "       [-1.6573755e-09],\n",
              "       ...,\n",
              "       [-1.5153860e-05],\n",
              "       [-1.5404235e-05],\n",
              "       [ 4.2886887e-07]], dtype=float32)>"
            ]
          },
          "metadata": {},
          "execution_count": 53
        }
      ]
    },
    {
      "cell_type": "code",
      "source": [
        "# The data was loaded correctly."
      ],
      "metadata": {
        "id": "qwkujBPi3TJ-"
      },
      "execution_count": null,
      "outputs": []
    },
    {
      "cell_type": "markdown",
      "source": [
        "### 2.3 Plot Wave"
      ],
      "metadata": {
        "id": "dcI6o8JolHC-"
      }
    },
    {
      "cell_type": "code",
      "source": [
        "# First, the Male Vocal files and Drum Kit files will need to be loaded into the\n",
        "# project using the Dataloading Function created above. \n",
        "dkwave = load_wav_16k_mono(DRUM_KIT_FILE)\n",
        "mvwave = load_wav_16k_mono(MALE_VOCAL_FILE)"
      ],
      "metadata": {
        "id": "IURKJE3rkiUc",
        "colab": {
          "base_uri": "https://localhost:8080/"
        },
        "outputId": "b06a93f5-6992-46d1-9b68-5d466c335b4d"
      },
      "execution_count": 54,
      "outputs": [
        {
          "output_type": "stream",
          "name": "stdout",
          "text": [
            "WARNING:tensorflow:5 out of the last 5 calls to <function pfor.<locals>.f at 0x7f3405d07200> triggered tf.function retracing. Tracing is expensive and the excessive number of tracings could be due to (1) creating @tf.function repeatedly in a loop, (2) passing tensors with different shapes, (3) passing Python objects instead of tensors. For (1), please define your @tf.function outside of the loop. For (2), @tf.function has experimental_relax_shapes=True option that relaxes argument shapes that can avoid unnecessary retracing. For (3), please refer to https://www.tensorflow.org/guide/function#controlling_retracing and https://www.tensorflow.org/api_docs/python/tf/function for  more details.\n",
            "WARNING:tensorflow:6 out of the last 6 calls to <function pfor.<locals>.f at 0x7f3405d074d0> triggered tf.function retracing. Tracing is expensive and the excessive number of tracings could be due to (1) creating @tf.function repeatedly in a loop, (2) passing tensors with different shapes, (3) passing Python objects instead of tensors. For (1), please define your @tf.function outside of the loop. For (2), @tf.function has experimental_relax_shapes=True option that relaxes argument shapes that can avoid unnecessary retracing. For (3), please refer to https://www.tensorflow.org/guide/function#controlling_retracing and https://www.tensorflow.org/api_docs/python/tf/function for  more details.\n"
          ]
        }
      ]
    },
    {
      "cell_type": "markdown",
      "source": [
        "### Drum Kit Signal Plot"
      ],
      "metadata": {
        "id": "KNhFPhyW3hlf"
      }
    },
    {
      "cell_type": "code",
      "source": [
        "plt.plot(dkwave)\n",
        "plt.title(\"Signal Plot of Drum Kit Wav File\")\n",
        "plt.xlabel(\"Samples\")\n",
        "plt.ylabel(\"Amplitude\")\n",
        "plt.show()"
      ],
      "metadata": {
        "colab": {
          "base_uri": "https://localhost:8080/",
          "height": 295
        },
        "id": "XV7ywjeer0S5",
        "outputId": "852d6d38-4dc0-45fe-9bc3-6a9fd5ee6b79"
      },
      "execution_count": 55,
      "outputs": [
        {
          "output_type": "display_data",
          "data": {
            "text/plain": [
              "<Figure size 432x288 with 1 Axes>"
            ],
            "image/png": "[encoded data removed]"
          },
          "metadata": {
            "needs_background": "light"
          }
        }
      ]
    },
    {
      "cell_type": "code",
      "source": [
        "# The above plot is the Drum Kit wav file visualized."
      ],
      "metadata": {
        "id": "KY6qgYFLRQvE"
      },
      "execution_count": null,
      "outputs": []
    },
    {
      "cell_type": "markdown",
      "source": [
        "### Male Audio Signal Plot"
      ],
      "metadata": {
        "id": "ikVYmpVR3nax"
      }
    },
    {
      "cell_type": "code",
      "source": [
        "plt.plot(mvwave)\n",
        "plt.title(\"Signal Plot of Male Vocal Wav File\")\n",
        "plt.xlabel(\"Samples\")\n",
        "plt.ylabel(\"Amplitude\")\n",
        "plt.show()"
      ],
      "metadata": {
        "colab": {
          "base_uri": "https://localhost:8080/",
          "height": 295
        },
        "id": "0sj77BI8r5fZ",
        "outputId": "68d94cc2-2095-46a9-a472-e1b3f210270f"
      },
      "execution_count": 56,
      "outputs": [
        {
          "output_type": "display_data",
          "data": {
            "text/plain": [
              "<Figure size 432x288 with 1 Axes>"
            ],
            "image/png": "[encoded data removed]"
          },
          "metadata": {
            "needs_background": "light"
          }
        }
      ]
    },
    {
      "cell_type": "code",
      "source": [
        "# The above plot is the Male Vocal wav file visualized."
      ],
      "metadata": {
        "id": "b3GQAR2D3uJn"
      },
      "execution_count": null,
      "outputs": []
    },
    {
      "cell_type": "markdown",
      "source": [
        "## 3. Create Tensorflow Dataset"
      ],
      "metadata": {
        "id": "d9cY5kDYsBNY"
      }
    },
    {
      "cell_type": "code",
      "source": [
        "# This is where the data will be loaded, to build the deep learning model.\n",
        "# A data pipeline will be created, so that significant amounts of data will be \n",
        "# able to be loaded in."
      ],
      "metadata": {
        "id": "EvI92Af53y69"
      },
      "execution_count": null,
      "outputs": []
    },
    {
      "cell_type": "markdown",
      "source": [
        "### 3.1 Define Paths to Positive and Negative Data"
      ],
      "metadata": {
        "id": "wYsEi1XCsE5a"
      }
    },
    {
      "cell_type": "code",
      "source": [
        "DRUM_PATH_II = '/content/drive/My Drive/Colab Notebooks/Data 2/Drum Kit'\n",
        "# This will be the \"positive\" data, as this is the data the microphone will need \n",
        "# to catch and then block from the overall signal."
      ],
      "metadata": {
        "id": "-Y4v_5wBr9AY"
      },
      "execution_count": 57,
      "outputs": []
    },
    {
      "cell_type": "code",
      "source": [
        "MALE_PATH_II = '/content/drive/My Drive/Colab Notebooks/Data 2/Male Vocal'\n",
        "# This will be the \"negative\" data, as this is the data the microphone will need \n",
        "# allow to be sent through the microphone and on down the signal path."
      ],
      "metadata": {
        "id": "s_6JyC9bsPSl"
      },
      "execution_count": 58,
      "outputs": []
    },
    {
      "cell_type": "code",
      "source": [
        "DRUMKIT = os.path.join(DRUM_PATH_II)\n",
        "MALEVOCAL = os.path.join(MALE_PATH_II)"
      ],
      "metadata": {
        "id": "Uvo70vU-sVdQ"
      },
      "execution_count": 59,
      "outputs": []
    },
    {
      "cell_type": "code",
      "source": [
        "DRUMKIT"
      ],
      "metadata": {
        "colab": {
          "base_uri": "https://localhost:8080/",
          "height": 35
        },
        "id": "QCnikhBwsX6l",
        "outputId": "a11db044-4564-4a92-8b07-2b4b9d7a686c"
      },
      "execution_count": 60,
      "outputs": [
        {
          "output_type": "execute_result",
          "data": {
            "text/plain": [
              "'/content/drive/My Drive/Colab Notebooks/Data 2/Drum Kit'"
            ],
            "application/vnd.google.colaboratory.intrinsic+json": {
              "type": "string"
            }
          },
          "metadata": {},
          "execution_count": 60
        }
      ]
    },
    {
      "cell_type": "code",
      "source": [
        "MALEVOCAL"
      ],
      "metadata": {
        "colab": {
          "base_uri": "https://localhost:8080/",
          "height": 35
        },
        "id": "Ayfn3Cuysa29",
        "outputId": "0597dca7-b16c-4867-99ca-a9bfa0ff29e8"
      },
      "execution_count": 61,
      "outputs": [
        {
          "output_type": "execute_result",
          "data": {
            "text/plain": [
              "'/content/drive/My Drive/Colab Notebooks/Data 2/Male Vocal'"
            ],
            "application/vnd.google.colaboratory.intrinsic+json": {
              "type": "string"
            }
          },
          "metadata": {},
          "execution_count": 61
        }
      ]
    },
    {
      "cell_type": "code",
      "source": [
        "# Both file paths are working correctly."
      ],
      "metadata": {
        "id": "ajWDrmvf4EuR"
      },
      "execution_count": null,
      "outputs": []
    },
    {
      "cell_type": "markdown",
      "source": [
        "### 3.2 Create Tensorflow Datasets"
      ],
      "metadata": {
        "id": "7b20bKf0sgqT"
      }
    },
    {
      "cell_type": "code",
      "source": [
        "# Next, the data needs to be loaded into the Tensorflow datasets.\n",
        "# The 'list_files' method will be used to accomplish this."
      ],
      "metadata": {
        "id": "A6wa77s84L_D"
      },
      "execution_count": null,
      "outputs": []
    },
    {
      "cell_type": "code",
      "source": [
        "drumkit = tf.data.Dataset.list_files(DRUMKIT+'/*.wav')\n",
        "malevocal = tf.data.Dataset.list_files(MALEVOCAL+'/*.wav')\n",
        "# This coding gives a set of files as a string inside of a Tensorflow dataset\n",
        "# format.  This will allow for the data to be pre-processed before it is loaded\n",
        "# in."
      ],
      "metadata": {
        "id": "FzFNTWZMsdQa"
      },
      "execution_count": 62,
      "outputs": []
    },
    {
      "cell_type": "code",
      "source": [
        "drumkit.as_numpy_iterator().next()"
      ],
      "metadata": {
        "colab": {
          "base_uri": "https://localhost:8080/"
        },
        "id": "eaRaXY4jso-k",
        "outputId": "cf0006de-67f9-4d99-9837-97992d510f0c"
      },
      "execution_count": 63,
      "outputs": [
        {
          "output_type": "execute_result",
          "data": {
            "text/plain": [
              "b'/content/drive/My Drive/Colab Notebooks/Data 2/Drum Kit/Bass Sample 21 1.wav'"
            ]
          },
          "metadata": {},
          "execution_count": 63
        }
      ]
    },
    {
      "cell_type": "code",
      "source": [
        "# This shows what the Tensorflow dataset currently has set up as the audio file\n",
        "# path."
      ],
      "metadata": {
        "id": "DBACm0ZY4T4S"
      },
      "execution_count": null,
      "outputs": []
    },
    {
      "cell_type": "code",
      "source": [
        "len(drumkit)"
      ],
      "metadata": {
        "colab": {
          "base_uri": "https://localhost:8080/"
        },
        "id": "rUdn2GkxssyV",
        "outputId": "67d33ab5-6e0e-479d-fb78-17d05d2fac3f"
      },
      "execution_count": 64,
      "outputs": [
        {
          "output_type": "execute_result",
          "data": {
            "text/plain": [
              "250"
            ]
          },
          "metadata": {},
          "execution_count": 64
        }
      ]
    },
    {
      "cell_type": "code",
      "source": [
        "tf.ones(len(drumkit))"
      ],
      "metadata": {
        "colab": {
          "base_uri": "https://localhost:8080/"
        },
        "id": "bmiD521csv9e",
        "outputId": "31b4a764-667e-48f0-f9d0-8b67d4c94961"
      },
      "execution_count": 65,
      "outputs": [
        {
          "output_type": "execute_result",
          "data": {
            "text/plain": [
              "<tf.Tensor: shape=(250,), dtype=float32, numpy=\n",
              "array([1., 1., 1., 1., 1., 1., 1., 1., 1., 1., 1., 1., 1., 1., 1., 1., 1.,\n",
              "       1., 1., 1., 1., 1., 1., 1., 1., 1., 1., 1., 1., 1., 1., 1., 1., 1.,\n",
              "       1., 1., 1., 1., 1., 1., 1., 1., 1., 1., 1., 1., 1., 1., 1., 1., 1.,\n",
              "       1., 1., 1., 1., 1., 1., 1., 1., 1., 1., 1., 1., 1., 1., 1., 1., 1.,\n",
              "       1., 1., 1., 1., 1., 1., 1., 1., 1., 1., 1., 1., 1., 1., 1., 1., 1.,\n",
              "       1., 1., 1., 1., 1., 1., 1., 1., 1., 1., 1., 1., 1., 1., 1., 1., 1.,\n",
              "       1., 1., 1., 1., 1., 1., 1., 1., 1., 1., 1., 1., 1., 1., 1., 1., 1.,\n",
              "       1., 1., 1., 1., 1., 1., 1., 1., 1., 1., 1., 1., 1., 1., 1., 1., 1.,\n",
              "       1., 1., 1., 1., 1., 1., 1., 1., 1., 1., 1., 1., 1., 1., 1., 1., 1.,\n",
              "       1., 1., 1., 1., 1., 1., 1., 1., 1., 1., 1., 1., 1., 1., 1., 1., 1.,\n",
              "       1., 1., 1., 1., 1., 1., 1., 1., 1., 1., 1., 1., 1., 1., 1., 1., 1.,\n",
              "       1., 1., 1., 1., 1., 1., 1., 1., 1., 1., 1., 1., 1., 1., 1., 1., 1.,\n",
              "       1., 1., 1., 1., 1., 1., 1., 1., 1., 1., 1., 1., 1., 1., 1., 1., 1.,\n",
              "       1., 1., 1., 1., 1., 1., 1., 1., 1., 1., 1., 1., 1., 1., 1., 1., 1.,\n",
              "       1., 1., 1., 1., 1., 1., 1., 1., 1., 1., 1., 1.], dtype=float32)>"
            ]
          },
          "metadata": {},
          "execution_count": 65
        }
      ]
    },
    {
      "cell_type": "code",
      "source": [
        "# 250 samples of drum kit audio, set as the binary 1."
      ],
      "metadata": {
        "id": "oCwjTMHI4aYs"
      },
      "execution_count": null,
      "outputs": []
    },
    {
      "cell_type": "code",
      "source": [
        "len(malevocal)"
      ],
      "metadata": {
        "colab": {
          "base_uri": "https://localhost:8080/"
        },
        "id": "iMpku6suszXl",
        "outputId": "1b6eef8f-ac42-4aa8-8a5d-fb6737fec0a0"
      },
      "execution_count": 66,
      "outputs": [
        {
          "output_type": "execute_result",
          "data": {
            "text/plain": [
              "250"
            ]
          },
          "metadata": {},
          "execution_count": 66
        }
      ]
    },
    {
      "cell_type": "code",
      "source": [
        "tf.zeros(len(malevocal))"
      ],
      "metadata": {
        "colab": {
          "base_uri": "https://localhost:8080/"
        },
        "id": "BUg8latZs34t",
        "outputId": "4ec96ef1-d8bc-40eb-b955-4f7a24ba17db"
      },
      "execution_count": 67,
      "outputs": [
        {
          "output_type": "execute_result",
          "data": {
            "text/plain": [
              "<tf.Tensor: shape=(250,), dtype=float32, numpy=\n",
              "array([0., 0., 0., 0., 0., 0., 0., 0., 0., 0., 0., 0., 0., 0., 0., 0., 0.,\n",
              "       0., 0., 0., 0., 0., 0., 0., 0., 0., 0., 0., 0., 0., 0., 0., 0., 0.,\n",
              "       0., 0., 0., 0., 0., 0., 0., 0., 0., 0., 0., 0., 0., 0., 0., 0., 0.,\n",
              "       0., 0., 0., 0., 0., 0., 0., 0., 0., 0., 0., 0., 0., 0., 0., 0., 0.,\n",
              "       0., 0., 0., 0., 0., 0., 0., 0., 0., 0., 0., 0., 0., 0., 0., 0., 0.,\n",
              "       0., 0., 0., 0., 0., 0., 0., 0., 0., 0., 0., 0., 0., 0., 0., 0., 0.,\n",
              "       0., 0., 0., 0., 0., 0., 0., 0., 0., 0., 0., 0., 0., 0., 0., 0., 0.,\n",
              "       0., 0., 0., 0., 0., 0., 0., 0., 0., 0., 0., 0., 0., 0., 0., 0., 0.,\n",
              "       0., 0., 0., 0., 0., 0., 0., 0., 0., 0., 0., 0., 0., 0., 0., 0., 0.,\n",
              "       0., 0., 0., 0., 0., 0., 0., 0., 0., 0., 0., 0., 0., 0., 0., 0., 0.,\n",
              "       0., 0., 0., 0., 0., 0., 0., 0., 0., 0., 0., 0., 0., 0., 0., 0., 0.,\n",
              "       0., 0., 0., 0., 0., 0., 0., 0., 0., 0., 0., 0., 0., 0., 0., 0., 0.,\n",
              "       0., 0., 0., 0., 0., 0., 0., 0., 0., 0., 0., 0., 0., 0., 0., 0., 0.,\n",
              "       0., 0., 0., 0., 0., 0., 0., 0., 0., 0., 0., 0., 0., 0., 0., 0., 0.,\n",
              "       0., 0., 0., 0., 0., 0., 0., 0., 0., 0., 0., 0.], dtype=float32)>"
            ]
          },
          "metadata": {},
          "execution_count": 67
        }
      ]
    },
    {
      "cell_type": "code",
      "source": [
        "# 250 samples of male vocal audio, set as binary 0."
      ],
      "metadata": {
        "id": "3r8J7b8o4fnu"
      },
      "execution_count": null,
      "outputs": []
    },
    {
      "cell_type": "markdown",
      "source": [
        "### 3.3 Add labels and Combine Positive and Negative Samples"
      ],
      "metadata": {
        "id": "AXT5q3IPs9lA"
      }
    },
    {
      "cell_type": "code",
      "source": [
        "drumkits = tf.data.Dataset.zip((drumkit, tf.data.Dataset.from_tensor_slices(tf.ones(len(drumkit)))))\n",
        "malevocals = tf.data.Dataset.zip((malevocal, tf.data.Dataset.from_tensor_slices(tf.zeros(len(malevocal)))))\n",
        "data = drumkits.concatenate(malevocals)\n",
        "# Here the data is labeled as either positive (drum kit) or negative (male vocal).\n",
        "# The two sets of data will then be combined into the same variable."
      ],
      "metadata": {
        "id": "6Ihh5MtRs7ZI"
      },
      "execution_count": 68,
      "outputs": []
    },
    {
      "cell_type": "code",
      "source": [
        "drumkits.as_numpy_iterator().next()"
      ],
      "metadata": {
        "colab": {
          "base_uri": "https://localhost:8080/"
        },
        "id": "uTcIkDNltF7c",
        "outputId": "2f397405-ee73-4624-94bc-1a0b4f3b173d"
      },
      "execution_count": 69,
      "outputs": [
        {
          "output_type": "execute_result",
          "data": {
            "text/plain": [
              "(b'/content/drive/My Drive/Colab Notebooks/Data 2/Drum Kit/9adffd44 1.wav',\n",
              " 1.0)"
            ]
          },
          "metadata": {},
          "execution_count": 69
        }
      ]
    },
    {
      "cell_type": "code",
      "source": [
        "malevocals.as_numpy_iterator().next()"
      ],
      "metadata": {
        "colab": {
          "base_uri": "https://localhost:8080/"
        },
        "id": "wbv8tfNLtJqy",
        "outputId": "35693e44-4e3c-4fef-80da-30c71ee24900"
      },
      "execution_count": 70,
      "outputs": [
        {
          "output_type": "execute_result",
          "data": {
            "text/plain": [
              "(b'/content/drive/My Drive/Colab Notebooks/Data 2/Male Vocal/m4_arpeggios_lip_trill_o.wav',\n",
              " 0.0)"
            ]
          },
          "metadata": {},
          "execution_count": 70
        }
      ]
    },
    {
      "cell_type": "code",
      "source": [
        "data.as_numpy_iterator().next()"
      ],
      "metadata": {
        "colab": {
          "base_uri": "https://localhost:8080/"
        },
        "id": "04BAf1lUtNcW",
        "outputId": "f964082c-06f6-4f2e-b79c-28ee871b9e2e"
      },
      "execution_count": 71,
      "outputs": [
        {
          "output_type": "execute_result",
          "data": {
            "text/plain": [
              "(b'/content/drive/My Drive/Colab Notebooks/Data 2/Drum Kit/Snare Sample 20 1.wav',\n",
              " 1.0)"
            ]
          },
          "metadata": {},
          "execution_count": 71
        }
      ]
    },
    {
      "cell_type": "code",
      "source": [
        "data.shuffle(10000).as_numpy_iterator().next()"
      ],
      "metadata": {
        "colab": {
          "base_uri": "https://localhost:8080/"
        },
        "id": "x40zWkq3tQOz",
        "outputId": "7efb95ad-2d76-4bf4-d27f-c2de53891bcf"
      },
      "execution_count": 72,
      "outputs": [
        {
          "output_type": "execute_result",
          "data": {
            "text/plain": [
              "(b'/content/drive/My Drive/Colab Notebooks/Data 2/Drum Kit/Bass Sample 40 1.wav',\n",
              " 1.0)"
            ]
          },
          "metadata": {},
          "execution_count": 72
        }
      ]
    },
    {
      "cell_type": "code",
      "source": [
        "# Both the positive and negative data stored into one data pipeline."
      ],
      "metadata": {
        "id": "Ws8fGt_54p6q"
      },
      "execution_count": null,
      "outputs": []
    },
    {
      "cell_type": "markdown",
      "source": [
        "## 4. Determine Average Length of a Drum Kit Sample"
      ],
      "metadata": {
        "id": "rU-tqJIKtWPi"
      }
    },
    {
      "cell_type": "code",
      "source": [
        "# By determining the average length of both the drum kit and male vocal signal,\n",
        "# more accurate spectrograms will be able to be created, which will then produce\n",
        "# more accurate predictions. "
      ],
      "metadata": {
        "id": "43GHRewY4wK1"
      },
      "execution_count": null,
      "outputs": []
    },
    {
      "cell_type": "markdown",
      "source": [
        "### 4.1 Calculate Wave Cycle Length"
      ],
      "metadata": {
        "id": "PKk_5FUCthPL"
      }
    },
    {
      "cell_type": "code",
      "source": [
        "lengths = []\n",
        "for file in os.listdir(os.path.join('/content/drive/My Drive/Colab Notebooks/Data 2/Drum Kit')):\n",
        "    tensor_wave = load_wav_16k_mono(os.path.join('/content/drive/My Drive/Colab Notebooks/Data 2/Drum Kit', file))\n",
        "    lengths.append(len(tensor_wave))\n",
        "# The above code will output the length of each individual wav file."
      ],
      "metadata": {
        "id": "Vog5k-7ktUmu"
      },
      "execution_count": 73,
      "outputs": []
    },
    {
      "cell_type": "code",
      "source": [
        "os.listdir(os.path.join('/content/drive/My Drive/Colab Notebooks/Data 2/Drum Kit'))"
      ],
      "metadata": {
        "colab": {
          "base_uri": "https://localhost:8080/"
        },
        "id": "UtxFgj2GtopA",
        "outputId": "a8d9e655-5930-4326-dc7c-08cd7188df41"
      },
      "execution_count": 74,
      "outputs": [
        {
          "output_type": "execute_result",
          "data": {
            "text/plain": [
              "['0c67f402 1.wav',\n",
              " '1bc8eae1 1.wav',\n",
              " '078f7ac0 1.wav',\n",
              " '0ddb4bdf 1.wav',\n",
              " '0ed06544 1.wav',\n",
              " '06c48eab 1.wav',\n",
              " '01c2f88b 1.wav',\n",
              " '1c9a423f 1.wav',\n",
              " '09a1cfd7 1.wav',\n",
              " '03fc1f96 1.wav',\n",
              " 'aed9d22f 1.wav',\n",
              " 'a1b369d7 1.wav',\n",
              " 'ae7d1c37 1.wav',\n",
              " 'aa9ae956 1.wav',\n",
              " 'a7964699 1.wav',\n",
              " '9d308738 1.wav',\n",
              " 'a090c45a 1.wav',\n",
              " '9f84ea5a 1.wav',\n",
              " '9adffd44 1.wav',\n",
              " '9a4bfb69 1.wav',\n",
              " '99c96a07 1.wav',\n",
              " '9320c55f 1.wav',\n",
              " '921eee9d 1.wav',\n",
              " '88780eac 1.wav',\n",
              " '8cd809d3 1.wav',\n",
              " '8b6a16de 1.wav',\n",
              " '82d4fb44 1.wav',\n",
              " '7dda9dc2 1.wav',\n",
              " '809ea09e 1.wav',\n",
              " '7d11b3b4 1.wav',\n",
              " '73677128 1.wav',\n",
              " '6d21ad67 1.wav',\n",
              " '63e0ab2c 1.wav',\n",
              " '612702c3 1.wav',\n",
              " '6fca680b 1.wav',\n",
              " '6a96272b 1.wav',\n",
              " '5ec7ad26 1.wav',\n",
              " '5ce40b1b 1.wav',\n",
              " '5c33d972 1.wav',\n",
              " '565f3ee2 1.wav',\n",
              " '52e54bdd 1.wav',\n",
              " '4ba2b70e 1.wav',\n",
              " '493c247b 1.wav',\n",
              " '52300f9b 1.wav',\n",
              " '4c590f69 1.wav',\n",
              " '4c4d4797 1.wav',\n",
              " '46b52f97 1.wav',\n",
              " '468f9c4c 1.wav',\n",
              " '41897c32 1.wav',\n",
              " '3d3439f1 1.wav',\n",
              " '3aafb6ad 1.wav',\n",
              " '2503aaa1 1.wav',\n",
              " '3a9085ca 1.wav',\n",
              " '1e3391d5 1.wav',\n",
              " '3a3d0279 1.wav',\n",
              " '36d06cc0 1.wav',\n",
              " '34a90030 1.wav',\n",
              " '31db8c5e 1.wav',\n",
              " '22e1c02c 1.wav',\n",
              " '229be2be 1.wav',\n",
              " '2032be87 1.wav',\n",
              " 'e4958adc 1.wav',\n",
              " 'da4b0379 1.wav',\n",
              " 'da3f8050 1.wav',\n",
              " 'd6854eb4 1.wav',\n",
              " 'ce75b5ce 1.wav',\n",
              " 'ce3f3400 1.wav',\n",
              " 'cdfc8967 1.wav',\n",
              " 'cae0d841 1.wav',\n",
              " 'ca3f3698 1.wav',\n",
              " 'c8ecbbfd 1.wav',\n",
              " 'c53a217e 1.wav',\n",
              " 'c153f347 1.wav',\n",
              " 'c11bacda 1.wav',\n",
              " 'bea51ca5 1.wav',\n",
              " 'Bass Sample 9 1.wav',\n",
              " 'Bass Sample 8 1.wav',\n",
              " 'Bass Sample 7 1.wav',\n",
              " 'Bass Sample 6 1.wav',\n",
              " 'Bass Sample 5 1.wav',\n",
              " 'Bass Sample 40 1.wav',\n",
              " 'Bass Sample 4 1.wav',\n",
              " 'Bass Sample 39 1.wav',\n",
              " 'Bass Sample 37 1.wav',\n",
              " 'Bass Sample 38 1.wav',\n",
              " 'Bass Sample 36 1.wav',\n",
              " 'Bass Sample 33 1.wav',\n",
              " 'Bass Sample 34 1.wav',\n",
              " 'Bass Sample 35 1.wav',\n",
              " 'Bass Sample 32 1.wav',\n",
              " 'Bass Sample 31 1.wav',\n",
              " 'Bass Sample 30 1.wav',\n",
              " 'Bass Sample 3 1.wav',\n",
              " 'Bass Sample 28 1.wav',\n",
              " 'Bass Sample 29 1.wav',\n",
              " 'Bass Sample 27 1.wav',\n",
              " 'Bass Sample 26 1.wav',\n",
              " 'Bass Sample 25 1.wav',\n",
              " 'Bass Sample 24 1.wav',\n",
              " 'Bass Sample 23 1.wav',\n",
              " 'Bass Sample 22 1.wav',\n",
              " 'Bass Sample 21 1.wav',\n",
              " 'Bass Sample 20 1.wav',\n",
              " 'Bass Sample 2 1.wav',\n",
              " 'Bass Sample 19 1.wav',\n",
              " 'Bass Sample 18 1.wav',\n",
              " 'Bass Sample 17 1.wav',\n",
              " 'Bass Sample 16 1.wav',\n",
              " 'Bass Sample 15 1.wav',\n",
              " 'Bass Sample 14 1.wav',\n",
              " 'Bass Sample 13 1.wav',\n",
              " 'Bass Sample 12 1.wav',\n",
              " 'b218444c 1.wav',\n",
              " 'Bass Sample 10 1.wav',\n",
              " 'Bass Sample 11 1.wav',\n",
              " 'Bass Sample 1 1.wav',\n",
              " 'bab98261 1.wav',\n",
              " 'b86b5a96 1.wav',\n",
              " 'b6cbc6a9 1.wav',\n",
              " 'b68f10af 1.wav',\n",
              " 'b31ed1fb 1.wav',\n",
              " 'Snare Sample 16 1.wav',\n",
              " 'Snare Sample 17 1.wav',\n",
              " 'Snare Sample 18 1.wav',\n",
              " 'Snare Sample 15 1.wav',\n",
              " 'Snare Sample 14 1.wav',\n",
              " 'Snare Sample 13 1.wav',\n",
              " 'Snare Sample 12 1.wav',\n",
              " 'Snare Sample 11 1.wav',\n",
              " 'Snare Sample 10 1.wav',\n",
              " 'Snare Sample 1 1.wav',\n",
              " 'Overhead Sample 9 1.wav',\n",
              " 'Overhead Sample 7 1.wav',\n",
              " 'Overhead Sample 8 1.wav',\n",
              " 'Overhead Sample 6 1.wav',\n",
              " 'Overhead Sample 5 1.wav',\n",
              " 'Overhead Sample 40 1.wav',\n",
              " 'Overhead Sample 4 1.wav',\n",
              " 'Overhead Sample 39 1.wav',\n",
              " 'Overhead Sample 38 1.wav',\n",
              " 'Overhead Sample 37 1.wav',\n",
              " 'Overhead Sample 36 1.wav',\n",
              " 'Overhead Sample 35 1.wav',\n",
              " 'Overhead Sample 34 1.wav',\n",
              " 'Overhead Sample 33 1.wav',\n",
              " 'Overhead Sample 32 1.wav',\n",
              " 'Overhead Sample 31 1.wav',\n",
              " 'Overhead Sample 30 1.wav',\n",
              " 'Overhead Sample 3 1.wav',\n",
              " 'Overhead Sample 29 1.wav',\n",
              " 'Overhead Sample 28 1.wav',\n",
              " 'Overhead Sample 27 1.wav',\n",
              " 'Overhead Sample 26 1.wav',\n",
              " 'Overhead Sample 25 1.wav',\n",
              " 'Overhead Sample 24 1.wav',\n",
              " 'Overhead Sample 23 1.wav',\n",
              " 'Overhead Sample 22 1.wav',\n",
              " 'Overhead Sample 21 1.wav',\n",
              " 'Overhead Sample 20 1.wav',\n",
              " 'Overhead Sample 2 1.wav',\n",
              " 'Overhead Sample 19 1.wav',\n",
              " 'Overhead Sample 18 1.wav',\n",
              " 'Overhead Sample 17 1.wav',\n",
              " 'Overhead Sample 16 1.wav',\n",
              " 'Overhead Sample 15 1.wav',\n",
              " 'Overhead Sample 14 1.wav',\n",
              " 'Overhead Sample 13 1.wav',\n",
              " 'Overhead Sample 12 1.wav',\n",
              " 'Overhead Sample 11 1.wav',\n",
              " 'Overhead Sample 10 1.wav',\n",
              " 'Overhead Sample 1 1.wav',\n",
              " 'e897db78 1.wav',\n",
              " 'ff3f21e7 1.wav',\n",
              " 'ff11628d 1.wav',\n",
              " 'f8a99b37 1.wav',\n",
              " 'f26131d8 1.wav',\n",
              " 'f1754aea 1.wav',\n",
              " 'f0dfe343 1.wav',\n",
              " 'f0727eac 1.wav',\n",
              " 'e8e00924 1.wav',\n",
              " 'Tom Sample 31 1.wav',\n",
              " 'Tom Sample 30 1.wav',\n",
              " 'Tom Sample 3 1.wav',\n",
              " 'Tom Sample 29 1.wav',\n",
              " 'Tom Sample 28 1.wav',\n",
              " 'Tom Sample 27 1.wav',\n",
              " 'Tom Sample 26 1.wav',\n",
              " 'Tom Sample 24 1.wav',\n",
              " 'Tom Sample 25 1.wav',\n",
              " 'Tom Sample 23 1.wav',\n",
              " 'Tom Sample 22 1.wav',\n",
              " 'Tom Sample 21 1.wav',\n",
              " 'Tom Sample 20 1.wav',\n",
              " 'Tom Sample 2 1.wav',\n",
              " 'Tom Sample 19 1.wav',\n",
              " 'Tom Sample 18 1.wav',\n",
              " 'Tom Sample 17 1.wav',\n",
              " 'Tom Sample 16 1.wav',\n",
              " 'Tom Sample 15 1.wav',\n",
              " 'Tom Sample 14 1.wav',\n",
              " 'Tom Sample 13 1.wav',\n",
              " 'Tom Sample 12 1.wav',\n",
              " 'Tom Sample 11 1.wav',\n",
              " 'Tom Sample 10 1.wav',\n",
              " 'Tom Sample 1 1.wav',\n",
              " 'Snare Sample 9 1.wav',\n",
              " 'Snare Sample 8 1.wav',\n",
              " 'Snare Sample 7 1.wav',\n",
              " 'Snare Sample 6 1.wav',\n",
              " 'Snare Sample 5 1.wav',\n",
              " 'Snare Sample 4 1.wav',\n",
              " 'Snare Sample 40 1.wav',\n",
              " 'Snare Sample 39 1.wav',\n",
              " 'Snare Sample 38 1.wav',\n",
              " 'Snare Sample 37 1.wav',\n",
              " 'Snare Sample 35 1.wav',\n",
              " 'Snare Sample 36 1.wav',\n",
              " 'Snare Sample 34 1.wav',\n",
              " 'Snare Sample 32 1.wav',\n",
              " 'Snare Sample 33 1.wav',\n",
              " 'Snare Sample 31 1.wav',\n",
              " 'Snare Sample 30 1.wav',\n",
              " 'Snare Sample 3 1.wav',\n",
              " 'Snare Sample 29 1.wav',\n",
              " 'Snare Sample 28 1.wav',\n",
              " 'Snare Sample 27 1.wav',\n",
              " 'Snare Sample 26 1.wav',\n",
              " 'Snare Sample 23 1.wav',\n",
              " 'Snare Sample 24 1.wav',\n",
              " 'Snare Sample 25 1.wav',\n",
              " 'Snare Sample 22 1.wav',\n",
              " 'Snare Sample 21 1.wav',\n",
              " 'Snare Sample 20 1.wav',\n",
              " 'Snare Sample 2 1.wav',\n",
              " 'Snare Sample 19 1.wav',\n",
              " 'Tom Sample 9 1.wav',\n",
              " 'Tom Sample 8 1.wav',\n",
              " 'Tom Sample 7 1.wav',\n",
              " 'Tom Sample 6 1.wav',\n",
              " 'Tom Sample 5 1.wav',\n",
              " 'Tom Sample 40 1.wav',\n",
              " 'Tom Sample 4 1.wav',\n",
              " 'Tom Sample 39 1.wav',\n",
              " 'Tom Sample 38 1.wav',\n",
              " 'Tom Sample 37 1.wav',\n",
              " 'Tom Sample 36 1.wav',\n",
              " 'Tom Sample 35 1.wav',\n",
              " 'Tom Sample 34 1.wav',\n",
              " 'Tom Sample 33 1.wav',\n",
              " 'Tom Sample 32 1.wav']"
            ]
          },
          "metadata": {},
          "execution_count": 74
        }
      ]
    },
    {
      "cell_type": "code",
      "source": [
        "lengths"
      ],
      "metadata": {
        "colab": {
          "base_uri": "https://localhost:8080/"
        },
        "id": "pzHHFY5vtxsp",
        "outputId": "817962d2-d97e-4df2-919f-b75e99fdd492"
      },
      "execution_count": 75,
      "outputs": [
        {
          "output_type": "execute_result",
          "data": {
            "text/plain": [
              "[160000,\n",
              " 100160,\n",
              " 50240,\n",
              " 33280,\n",
              " 50240,\n",
              " 66880,\n",
              " 33280,\n",
              " 23360,\n",
              " 26880,\n",
              " 18880,\n",
              " 50240,\n",
              " 66880,\n",
              " 139520,\n",
              " 33280,\n",
              " 66880,\n",
              " 67520,\n",
              " 26880,\n",
              " 30080,\n",
              " 80000,\n",
              " 30080,\n",
              " 27520,\n",
              " 20160,\n",
              " 20800,\n",
              " 60480,\n",
              " 66880,\n",
              " 25280,\n",
              " 57600,\n",
              " 28480,\n",
              " 33280,\n",
              " 32000,\n",
              " 50240,\n",
              " 46400,\n",
              " 33280,\n",
              " 50240,\n",
              " 71680,\n",
              " 32000,\n",
              " 66880,\n",
              " 95680,\n",
              " 17280,\n",
              " 24960,\n",
              " 39040,\n",
              " 21440,\n",
              " 50240,\n",
              " 50240,\n",
              " 17280,\n",
              " 32000,\n",
              " 23360,\n",
              " 104960,\n",
              " 66880,\n",
              " 26880,\n",
              " 66880,\n",
              " 50240,\n",
              " 21440,\n",
              " 83200,\n",
              " 26880,\n",
              " 16320,\n",
              " 50240,\n",
              " 20160,\n",
              " 32000,\n",
              " 95680,\n",
              " 50240,\n",
              " 140800,\n",
              " 26880,\n",
              " 50240,\n",
              " 89600,\n",
              " 21440,\n",
              " 25920,\n",
              " 16000,\n",
              " 26880,\n",
              " 16000,\n",
              " 27840,\n",
              " 50240,\n",
              " 29760,\n",
              " 16320,\n",
              " 32000,\n",
              " 32000,\n",
              " 32000,\n",
              " 32000,\n",
              " 32000,\n",
              " 32000,\n",
              " 32000,\n",
              " 32000,\n",
              " 32000,\n",
              " 32000,\n",
              " 32000,\n",
              " 32000,\n",
              " 32000,\n",
              " 32000,\n",
              " 32000,\n",
              " 32000,\n",
              " 32000,\n",
              " 32000,\n",
              " 32000,\n",
              " 32000,\n",
              " 32000,\n",
              " 32000,\n",
              " 32000,\n",
              " 32000,\n",
              " 32000,\n",
              " 32000,\n",
              " 32000,\n",
              " 32000,\n",
              " 32000,\n",
              " 32000,\n",
              " 32000,\n",
              " 32000,\n",
              " 32000,\n",
              " 32000,\n",
              " 32000,\n",
              " 32000,\n",
              " 32000,\n",
              " 32000,\n",
              " 50880,\n",
              " 32000,\n",
              " 32000,\n",
              " 32000,\n",
              " 32000,\n",
              " 21440,\n",
              " 26880,\n",
              " 194880,\n",
              " 66880,\n",
              " 32000,\n",
              " 32000,\n",
              " 32000,\n",
              " 32000,\n",
              " 32000,\n",
              " 32000,\n",
              " 32000,\n",
              " 32000,\n",
              " 32000,\n",
              " 32000,\n",
              " 32000,\n",
              " 32000,\n",
              " 32000,\n",
              " 32000,\n",
              " 32000,\n",
              " 32000,\n",
              " 32000,\n",
              " 32000,\n",
              " 32000,\n",
              " 32000,\n",
              " 32000,\n",
              " 32000,\n",
              " 32000,\n",
              " 32000,\n",
              " 32000,\n",
              " 32000,\n",
              " 32000,\n",
              " 32000,\n",
              " 32000,\n",
              " 32000,\n",
              " 32000,\n",
              " 32000,\n",
              " 32000,\n",
              " 32000,\n",
              " 32000,\n",
              " 32000,\n",
              " 32000,\n",
              " 32000,\n",
              " 32000,\n",
              " 32000,\n",
              " 32000,\n",
              " 32000,\n",
              " 32000,\n",
              " 32000,\n",
              " 32000,\n",
              " 32000,\n",
              " 32000,\n",
              " 32000,\n",
              " 32000,\n",
              " 32000,\n",
              " 66880,\n",
              " 99520,\n",
              " 33280,\n",
              " 33280,\n",
              " 26240,\n",
              " 174720,\n",
              " 50240,\n",
              " 20160,\n",
              " 26880,\n",
              " 32000,\n",
              " 32000,\n",
              " 32000,\n",
              " 32000,\n",
              " 32000,\n",
              " 32000,\n",
              " 32000,\n",
              " 32000,\n",
              " 32000,\n",
              " 32000,\n",
              " 32000,\n",
              " 32000,\n",
              " 32000,\n",
              " 32000,\n",
              " 32000,\n",
              " 32000,\n",
              " 32000,\n",
              " 32000,\n",
              " 32000,\n",
              " 32000,\n",
              " 32000,\n",
              " 32000,\n",
              " 32000,\n",
              " 32000,\n",
              " 32000,\n",
              " 32000,\n",
              " 32000,\n",
              " 32000,\n",
              " 32000,\n",
              " 32000,\n",
              " 32000,\n",
              " 32000,\n",
              " 32000,\n",
              " 32000,\n",
              " 32000,\n",
              " 32000,\n",
              " 32000,\n",
              " 32000,\n",
              " 32000,\n",
              " 32000,\n",
              " 32000,\n",
              " 32000,\n",
              " 32000,\n",
              " 32000,\n",
              " 32000,\n",
              " 32000,\n",
              " 32000,\n",
              " 32000,\n",
              " 32000,\n",
              " 32000,\n",
              " 32000,\n",
              " 32000,\n",
              " 32000,\n",
              " 32000,\n",
              " 32000,\n",
              " 32000,\n",
              " 32000,\n",
              " 32000,\n",
              " 32000,\n",
              " 32000,\n",
              " 32000,\n",
              " 32000,\n",
              " 32000,\n",
              " 32000,\n",
              " 32000,\n",
              " 32000,\n",
              " 32000,\n",
              " 32000,\n",
              " 32000,\n",
              " 32000]"
            ]
          },
          "metadata": {},
          "execution_count": 75
        }
      ]
    },
    {
      "cell_type": "markdown",
      "source": [
        "### 4.2 Calculate Mean, Min, and Max"
      ],
      "metadata": {
        "id": "kOglwR4bt8tt"
      }
    },
    {
      "cell_type": "code",
      "source": [
        "tf.math.reduce_mean(lengths)"
      ],
      "metadata": {
        "colab": {
          "base_uri": "https://localhost:8080/"
        },
        "id": "yn148L0Kt4s1",
        "outputId": "1ce4a88a-7aeb-41c1-c22e-568f667633b6"
      },
      "execution_count": 76,
      "outputs": [
        {
          "output_type": "execute_result",
          "data": {
            "text/plain": [
              "<tf.Tensor: shape=(), dtype=int32, numpy=38301>"
            ]
          },
          "metadata": {},
          "execution_count": 76
        }
      ]
    },
    {
      "cell_type": "code",
      "source": [
        "# The average length of the drum kit samples is 38301 values."
      ],
      "metadata": {
        "id": "gDL1u7Bt4_V6"
      },
      "execution_count": null,
      "outputs": []
    },
    {
      "cell_type": "code",
      "source": [
        "# Since the audio files were converted to 16000Hz, the average length in\n",
        "# seconds can be determined.\n",
        "# 16000hz, means there are 16000 cycles per second.\n",
        "# The 38301 values can be divided by 16000 cycles to determine the length in \n",
        "# seconds."
      ],
      "metadata": {
        "id": "gJrq1bsD5Aff"
      },
      "execution_count": null,
      "outputs": []
    },
    {
      "cell_type": "code",
      "source": [
        "38201/16000"
      ],
      "metadata": {
        "colab": {
          "base_uri": "https://localhost:8080/"
        },
        "id": "jjBhBfGXuDq9",
        "outputId": "4c22714e-37ee-409a-f968-05eb0aeba99e"
      },
      "execution_count": 77,
      "outputs": [
        {
          "output_type": "execute_result",
          "data": {
            "text/plain": [
              "2.3875625"
            ]
          },
          "metadata": {},
          "execution_count": 77
        }
      ]
    },
    {
      "cell_type": "code",
      "source": [
        "# The average length of the drum kit audio clips is 2.39 seconds long."
      ],
      "metadata": {
        "id": "0w1jdb905Gmh"
      },
      "execution_count": null,
      "outputs": []
    },
    {
      "cell_type": "code",
      "source": [
        "tf.math.reduce_min(lengths)"
      ],
      "metadata": {
        "colab": {
          "base_uri": "https://localhost:8080/"
        },
        "id": "wDWIjFufuGna",
        "outputId": "e61d310f-3e2c-4a1e-8ab7-2baac46c3a61"
      },
      "execution_count": 78,
      "outputs": [
        {
          "output_type": "execute_result",
          "data": {
            "text/plain": [
              "<tf.Tensor: shape=(), dtype=int32, numpy=16000>"
            ]
          },
          "metadata": {},
          "execution_count": 78
        }
      ]
    },
    {
      "cell_type": "code",
      "source": [
        "16000/16000"
      ],
      "metadata": {
        "colab": {
          "base_uri": "https://localhost:8080/"
        },
        "id": "hRB1ndZtNgdN",
        "outputId": "591c1905-6e78-418c-a355-2ed5d21c636b"
      },
      "execution_count": 79,
      "outputs": [
        {
          "output_type": "execute_result",
          "data": {
            "text/plain": [
              "1.0"
            ]
          },
          "metadata": {},
          "execution_count": 79
        }
      ]
    },
    {
      "cell_type": "code",
      "source": [
        "# The minimum length of the drum kit audio clips is 16000 units or 1 second \n",
        "# long. "
      ],
      "metadata": {
        "id": "WxWRvvB75OG7"
      },
      "execution_count": null,
      "outputs": []
    },
    {
      "cell_type": "code",
      "source": [
        "tf.math.reduce_max(lengths)"
      ],
      "metadata": {
        "colab": {
          "base_uri": "https://localhost:8080/"
        },
        "id": "9GXdBacsuK1p",
        "outputId": "d353b794-a34a-4a47-c137-2129bca06688"
      },
      "execution_count": 80,
      "outputs": [
        {
          "output_type": "execute_result",
          "data": {
            "text/plain": [
              "<tf.Tensor: shape=(), dtype=int32, numpy=194880>"
            ]
          },
          "metadata": {},
          "execution_count": 80
        }
      ]
    },
    {
      "cell_type": "code",
      "source": [
        "194880/16000"
      ],
      "metadata": {
        "colab": {
          "base_uri": "https://localhost:8080/"
        },
        "id": "0ezkjW9VNjO0",
        "outputId": "9505005b-809e-427d-c716-d5394b2beac6"
      },
      "execution_count": 81,
      "outputs": [
        {
          "output_type": "execute_result",
          "data": {
            "text/plain": [
              "12.18"
            ]
          },
          "metadata": {},
          "execution_count": 81
        }
      ]
    },
    {
      "cell_type": "code",
      "source": [
        "# The maximum length of the drum kit audio clips is 195258 units or 12.2\n",
        "# seconds long. "
      ],
      "metadata": {
        "id": "VEMGTyFa5V3b"
      },
      "execution_count": null,
      "outputs": []
    },
    {
      "cell_type": "code",
      "source": [
        "# The larger the spectrograms, the more variables there will be for the deep\n",
        "# learning model, which means the more time it will take to take to train,\n",
        "# which means the higher amount of latency there will be."
      ],
      "metadata": {
        "id": "gQhxJMuy5XAW"
      },
      "execution_count": null,
      "outputs": []
    },
    {
      "cell_type": "code",
      "source": [
        "# The processing needs to be quick so 48,000 will be used."
      ],
      "metadata": {
        "id": "WX3-L_zL5ZVE"
      },
      "execution_count": null,
      "outputs": []
    },
    {
      "cell_type": "markdown",
      "source": [
        "## 5. Build Preprocessing Function to Convert to Spectrogram"
      ],
      "metadata": {
        "id": "VaJCmG9ouQAo"
      }
    },
    {
      "cell_type": "markdown",
      "source": [
        "### 5.1 Build Preprocessing Function"
      ],
      "metadata": {
        "id": "nAerwuJWuWSA"
      }
    },
    {
      "cell_type": "code",
      "source": [
        "# The short time forier transfer will be used for conversion into a spectrogram.\n",
        "# The labels assigned (0.0 or 1.0) will be used to make sure the designation\n",
        "# is still there after the data goes through the preprocess function."
      ],
      "metadata": {
        "id": "g1zk-8-B5hsM"
      },
      "execution_count": null,
      "outputs": []
    },
    {
      "cell_type": "code",
      "source": [
        "def preprocess(file_path, label): \n",
        "    wav = load_wav_16k_mono(file_path)\n",
        "    # The data will be loaded into the wav form.\n",
        "    wav = wav[:48000]\n",
        "    # The first 88000 steps will be grabbed for an example from each one \n",
        "    # of the signals.\n",
        "    zero_padding = tf.zeros([48000] - tf.shape(wav), dtype=tf.float32)\n",
        "    wav = tf.concat([zero_padding, wav],0)\n",
        "    # Not everyone of the clips are going to meet that limit.  Anything that \n",
        "    # doesn't meet the full length of the clip, will be padded with 0s.\n",
        "    spectrogram = tf.signal.stft(wav, frame_length=320, frame_step=32)\n",
        "    spectrogram = tf.abs(spectrogram)\n",
        "    # This removes any negative numbers, and outputs only positive examples.\n",
        "    spectrogram = tf.expand_dims(spectrogram, axis=2)\n",
        "    # This encapsulates the spectrogram in another set of arrays, to ensure the\n",
        "    # proper format is available to produce a deep learning model.\n",
        "    return spectrogram, label"
      ],
      "metadata": {
        "id": "xic63TNCuOnH"
      },
      "execution_count": 82,
      "outputs": []
    },
    {
      "cell_type": "code",
      "source": [
        "wav = load_wav_16k_mono(DRUM_KIT_FILE)\n",
        "wav"
      ],
      "metadata": {
        "colab": {
          "base_uri": "https://localhost:8080/"
        },
        "id": "NUl7x7OGuekS",
        "outputId": "ae365d26-dbca-4c78-d1fc-9424fb1d1727"
      },
      "execution_count": 83,
      "outputs": [
        {
          "output_type": "execute_result",
          "data": {
            "text/plain": [
              "<tf.Tensor: shape=(160000,), dtype=float32, numpy=\n",
              "array([ 1.7656580e-10, -8.8017410e-10,  2.5306810e-09, ...,\n",
              "       -6.2267485e-05, -2.9347979e-05, -1.1128018e-06], dtype=float32)>"
            ]
          },
          "metadata": {},
          "execution_count": 83
        }
      ]
    },
    {
      "cell_type": "markdown",
      "source": [
        "### 5.2 Test Out the Function and Viz the Spectrogram"
      ],
      "metadata": {
        "id": "fDHVVIz4uqRP"
      }
    },
    {
      "cell_type": "code",
      "source": [
        "dkfilepath, dklabel = drumkits.shuffle(buffer_size = 10000).as_numpy_iterator().next()"
      ],
      "metadata": {
        "id": "8bJ73vY5umFp"
      },
      "execution_count": 84,
      "outputs": []
    },
    {
      "cell_type": "code",
      "source": [
        "dkspectrogram, dklabel = preprocess(dkfilepath, dklabel)"
      ],
      "metadata": {
        "id": "Uz6JgcgDuyW_"
      },
      "execution_count": 85,
      "outputs": []
    },
    {
      "cell_type": "code",
      "source": [
        "dkspectrogram"
      ],
      "metadata": {
        "colab": {
          "base_uri": "https://localhost:8080/"
        },
        "id": "br5L34K6u2T-",
        "outputId": "42f318fb-4b7a-4b2b-9dcc-28fd48f8ec7a"
      },
      "execution_count": 86,
      "outputs": [
        {
          "output_type": "execute_result",
          "data": {
            "text/plain": [
              "<tf.Tensor: shape=(1491, 257, 1), dtype=float32, numpy=\n",
              "array([[[0.0000000e+00],\n",
              "        [0.0000000e+00],\n",
              "        [0.0000000e+00],\n",
              "        ...,\n",
              "        [0.0000000e+00],\n",
              "        [0.0000000e+00],\n",
              "        [0.0000000e+00]],\n",
              "\n",
              "       [[0.0000000e+00],\n",
              "        [0.0000000e+00],\n",
              "        [0.0000000e+00],\n",
              "        ...,\n",
              "        [0.0000000e+00],\n",
              "        [0.0000000e+00],\n",
              "        [0.0000000e+00]],\n",
              "\n",
              "       [[0.0000000e+00],\n",
              "        [0.0000000e+00],\n",
              "        [0.0000000e+00],\n",
              "        ...,\n",
              "        [0.0000000e+00],\n",
              "        [0.0000000e+00],\n",
              "        [0.0000000e+00]],\n",
              "\n",
              "       ...,\n",
              "\n",
              "       [[1.5937524e-03],\n",
              "        [5.9714341e-03],\n",
              "        [1.3667408e-02],\n",
              "        ...,\n",
              "        [2.3815501e-06],\n",
              "        [2.7295621e-06],\n",
              "        [2.8706854e-06]],\n",
              "\n",
              "       [[1.2140833e-03],\n",
              "        [5.9971986e-03],\n",
              "        [1.4561006e-02],\n",
              "        ...,\n",
              "        [2.2425834e-06],\n",
              "        [2.5571949e-06],\n",
              "        [2.4317414e-06]],\n",
              "\n",
              "       [[5.0907035e-04],\n",
              "        [7.1352199e-03],\n",
              "        [1.5109981e-02],\n",
              "        ...,\n",
              "        [2.1010762e-06],\n",
              "        [2.1530693e-06],\n",
              "        [1.2882811e-06]]], dtype=float32)>"
            ]
          },
          "metadata": {},
          "execution_count": 86
        }
      ]
    },
    {
      "cell_type": "markdown",
      "source": [
        "### Drum Kit Spectrogram"
      ],
      "metadata": {
        "id": "JOTSkBFo6FWM"
      }
    },
    {
      "cell_type": "code",
      "source": [
        "plt.figure(figsize=(30,20))\n",
        "plt.imshow(tf.transpose(dkspectrogram)[0])\n",
        "plt.title(\"Drum Kit Spectrogram\")\n",
        "plt.xlabel(\"Time (ms)\")\n",
        "plt.ylabel(\"Frequency (kHz)\")\n",
        "plt.show()"
      ],
      "metadata": {
        "colab": {
          "base_uri": "https://localhost:8080/",
          "height": 267
        },
        "id": "rOiEbIUCu5A5",
        "outputId": "e67b1261-bc2e-4cfd-b69c-03ebd030bc9f"
      },
      "execution_count": 87,
      "outputs": [
        {
          "output_type": "display_data",
          "data": {
            "text/plain": [
              "<Figure size 2160x1440 with 1 Axes>"
            ],
            "image/png": "[encoded data removed]"
          },
          "metadata": {
            "needs_background": "light"
          }
        }
      ]
    },
    {
      "cell_type": "code",
      "source": [
        "# Visual representation of what the drum kit sample sounds like."
      ],
      "metadata": {
        "id": "B1o_-AFe6Cwx"
      },
      "execution_count": null,
      "outputs": []
    },
    {
      "cell_type": "code",
      "source": [
        "mvfilepath, mvlabel = malevocals.shuffle(buffer_size = 10000).as_numpy_iterator().next()"
      ],
      "metadata": {
        "id": "dkD0nVYRvAAQ"
      },
      "execution_count": 88,
      "outputs": []
    },
    {
      "cell_type": "code",
      "source": [
        "mvspectrogram, mvlabel = preprocess(mvfilepath, mvlabel)"
      ],
      "metadata": {
        "id": "j9DekafvvFFt"
      },
      "execution_count": 89,
      "outputs": []
    },
    {
      "cell_type": "code",
      "source": [
        "mvspectrogram"
      ],
      "metadata": {
        "colab": {
          "base_uri": "https://localhost:8080/"
        },
        "id": "cJ8XwBhgvIKO",
        "outputId": "fc68e832-16be-415f-8117-6203f0da6d16"
      },
      "execution_count": 90,
      "outputs": [
        {
          "output_type": "execute_result",
          "data": {
            "text/plain": [
              "<tf.Tensor: shape=(1491, 257, 1), dtype=float32, numpy=\n",
              "array([[[1.6527560e-02],\n",
              "        [1.7007520e-02],\n",
              "        [1.5108290e-02],\n",
              "        ...,\n",
              "        [1.0928208e-06],\n",
              "        [4.2708686e-07],\n",
              "        [0.0000000e+00]],\n",
              "\n",
              "       [[8.8078612e-03],\n",
              "        [1.1890479e-02],\n",
              "        [1.2517569e-02],\n",
              "        ...,\n",
              "        [1.0445750e-06],\n",
              "        [4.0464820e-07],\n",
              "        [4.3772161e-08]],\n",
              "\n",
              "       [[1.4850111e-03],\n",
              "        [7.3813596e-03],\n",
              "        [9.5362999e-03],\n",
              "        ...,\n",
              "        [8.1846161e-07],\n",
              "        [4.4434205e-07],\n",
              "        [2.0285370e-07]],\n",
              "\n",
              "       ...,\n",
              "\n",
              "       [[2.4668045e-02],\n",
              "        [2.7108453e-02],\n",
              "        [2.3106091e-02],\n",
              "        ...,\n",
              "        [1.8698292e-06],\n",
              "        [1.4934797e-06],\n",
              "        [8.9779496e-07]],\n",
              "\n",
              "       [[3.3560101e-02],\n",
              "        [2.7814582e-02],\n",
              "        [2.3606569e-02],\n",
              "        ...,\n",
              "        [2.1201074e-06],\n",
              "        [1.5252406e-06],\n",
              "        [9.1269612e-07]],\n",
              "\n",
              "       [[2.8270669e-02],\n",
              "        [3.0518025e-02],\n",
              "        [2.2063399e-02],\n",
              "        ...,\n",
              "        [1.0372179e-06],\n",
              "        [1.1897326e-06],\n",
              "        [1.5646219e-06]]], dtype=float32)>"
            ]
          },
          "metadata": {},
          "execution_count": 90
        }
      ]
    },
    {
      "cell_type": "markdown",
      "source": [
        "### Male Vocal Spectrogram"
      ],
      "metadata": {
        "id": "-7PzeU0p6RVa"
      }
    },
    {
      "cell_type": "code",
      "source": [
        "plt.figure(figsize=(30,20))\n",
        "plt.imshow(tf.transpose(mvspectrogram)[0])\n",
        "plt.title(\"Male Vocal Spectrogram\")\n",
        "plt.xlabel(\"Time (ms)\")\n",
        "plt.ylabel(\"Frequency (kHz)\")\n",
        "plt.show()"
      ],
      "metadata": {
        "colab": {
          "base_uri": "https://localhost:8080/",
          "height": 267
        },
        "id": "0k57e98xvLNa",
        "outputId": "923b2f7a-a853-4250-cb64-3bd59438a1c1"
      },
      "execution_count": 91,
      "outputs": [
        {
          "output_type": "display_data",
          "data": {
            "text/plain": [
              "<Figure size 2160x1440 with 1 Axes>"
            ],
            "image/png": "[encoded data removed]"
          },
          "metadata": {
            "needs_background": "light"
          }
        }
      ]
    },
    {
      "cell_type": "code",
      "source": [
        "# Visual representation of what the male vocal sample sounds like."
      ],
      "metadata": {
        "id": "xEaNQTuhOFry"
      },
      "execution_count": null,
      "outputs": []
    },
    {
      "cell_type": "markdown",
      "source": [
        "## 6. Create Training and Testing Partitions"
      ],
      "metadata": {
        "id": "Jm_iq9C3vUQz"
      }
    },
    {
      "cell_type": "markdown",
      "source": [
        "### 6.1 Create a Tensorflow Data Pipeline"
      ],
      "metadata": {
        "id": "HRhaCvZqvZYw"
      }
    },
    {
      "cell_type": "code",
      "source": [
        "data = data.map(preprocess)\n",
        "# The above code runs the data through the spectrogram function.\n",
        "data = data.cache()\n",
        "data = data.shuffle(buffer_size=1000)\n",
        "# This code provides a mixed bag to draw from out of the drum kit audio samples\n",
        "# (positive) and male audio samples (negative).  This ensures that there's no\n",
        "# overfitting, and no unnecessary bias or variance is introduced into our \n",
        "# model.\n",
        "data = data.batch(16)\n",
        "# Training will be on 16 samples at a time.\n",
        "data = data.prefetch(8)\n",
        "# 8 examples will be prefetched to elimate any CPU bottlenecking."
      ],
      "metadata": {
        "colab": {
          "base_uri": "https://localhost:8080/"
        },
        "id": "GurhC2iavR44",
        "outputId": "ce34912a-6d3d-47cf-9ee8-8a095d09e972"
      },
      "execution_count": 92,
      "outputs": [
        {
          "output_type": "stream",
          "name": "stdout",
          "text": [
            "WARNING:tensorflow:Using a while_loop for converting IO>AudioResample\n"
          ]
        }
      ]
    },
    {
      "cell_type": "markdown",
      "source": [
        "### 6.2 Split into Training and Testing Partitions"
      ],
      "metadata": {
        "id": "DGt7R3nNvjsR"
      }
    },
    {
      "cell_type": "code",
      "source": [
        "len(data)*.7"
      ],
      "metadata": {
        "colab": {
          "base_uri": "https://localhost:8080/"
        },
        "id": "m_X9OQAdvgH4",
        "outputId": "aa31c5a6-0eb6-49ee-e88d-909f02553681"
      },
      "execution_count": 93,
      "outputs": [
        {
          "output_type": "execute_result",
          "data": {
            "text/plain": [
              "22.4"
            ]
          },
          "metadata": {},
          "execution_count": 93
        }
      ]
    },
    {
      "cell_type": "code",
      "source": [
        "len(data)*.3"
      ],
      "metadata": {
        "colab": {
          "base_uri": "https://localhost:8080/"
        },
        "id": "LYw6pPGEOtev",
        "outputId": "b90fbf34-804c-4ae9-94aa-cf9f08751fcb"
      },
      "execution_count": 94,
      "outputs": [
        {
          "output_type": "execute_result",
          "data": {
            "text/plain": [
              "9.6"
            ]
          },
          "metadata": {},
          "execution_count": 94
        }
      ]
    },
    {
      "cell_type": "code",
      "source": [
        "# 70% of our data produces a value of 23.\n",
        "# 30 percent of our data produces a value of 10.\n",
        "# The above values will be used in teh training and testing partitions."
      ],
      "metadata": {
        "id": "3ggC6aaJ7bwC"
      },
      "execution_count": null,
      "outputs": []
    },
    {
      "cell_type": "code",
      "source": [
        "train = data.take(23)\n",
        "test = data.skip(23).take(10)"
      ],
      "metadata": {
        "id": "Co11nTVnvqI-"
      },
      "execution_count": 95,
      "outputs": []
    },
    {
      "cell_type": "code",
      "source": [
        "# The above code outputs the training and testing partition."
      ],
      "metadata": {
        "id": "9TRxeLGn7o7a"
      },
      "execution_count": null,
      "outputs": []
    },
    {
      "cell_type": "markdown",
      "source": [
        "### 6.3 Test One Batch"
      ],
      "metadata": {
        "id": "Z74UPEFGvxz_"
      }
    },
    {
      "cell_type": "code",
      "source": [
        "samples, labels = train.as_numpy_iterator().next()"
      ],
      "metadata": {
        "id": "MVU19pQNvtPf"
      },
      "execution_count": 96,
      "outputs": []
    },
    {
      "cell_type": "code",
      "source": [
        "samples.shape"
      ],
      "metadata": {
        "colab": {
          "base_uri": "https://localhost:8080/"
        },
        "id": "YlpSrXcGv2oy",
        "outputId": "91bb7960-1846-45b4-e026-497c54728b59"
      },
      "execution_count": 97,
      "outputs": [
        {
          "output_type": "execute_result",
          "data": {
            "text/plain": [
              "(16, 1491, 257, 1)"
            ]
          },
          "metadata": {},
          "execution_count": 97
        }
      ]
    },
    {
      "cell_type": "code",
      "source": [
        "# There are 16 different examples of the spectrogram, which have the\n",
        "# shape of 1491 by 257 by 1.  This specific shape will be needed to run\n",
        "# the input through the deep learning model."
      ],
      "metadata": {
        "id": "ONkLA84T7uot"
      },
      "execution_count": null,
      "outputs": []
    },
    {
      "cell_type": "code",
      "source": [
        "# The training and testing partition have effectively been created."
      ],
      "metadata": {
        "id": "J9LJ4TrQ7wUo"
      },
      "execution_count": null,
      "outputs": []
    },
    {
      "cell_type": "markdown",
      "source": [
        "## 7. Build Deep Learning Model"
      ],
      "metadata": {
        "id": "asxCqvNMwDTn"
      }
    },
    {
      "cell_type": "markdown",
      "source": [
        "### 7.1 Load Tensorflow Dependencies"
      ],
      "metadata": {
        "id": "qyWEysMpwDtJ"
      }
    },
    {
      "cell_type": "code",
      "source": [
        "# A few more dependencies will be needed to build the Deep Learning Model."
      ],
      "metadata": {
        "id": "XpAEzEgx8B3x"
      },
      "execution_count": null,
      "outputs": []
    },
    {
      "cell_type": "code",
      "source": [
        "from tensorflow.keras.models import Sequential\n",
        "# This package will provide the Sequential API.\n",
        "from tensorflow.keras.layers import Conv2D, Dense, Flatten\n",
        "# This package will import 3 needed layers."
      ],
      "metadata": {
        "id": "LTWBp1oJv9dh"
      },
      "execution_count": 98,
      "outputs": []
    },
    {
      "cell_type": "markdown",
      "source": [
        "### 7.2 Build Sequential Model, Compile and View Summary"
      ],
      "metadata": {
        "id": "DLEyRMSpwR2S"
      }
    },
    {
      "cell_type": "code",
      "source": [
        "model = Sequential()\n",
        "# First, the Sequential model will be defined.\n",
        "model.add(Conv2D(16, (3,3), activation='relu', input_shape=(1491, 257,1)))\n",
        "# Next a convolution layer will be added.\n",
        "# This defines the desired output of 16 different kernels of shape 3 x 3.\n",
        "# Activation=relu stands for a \"rectivied linear unit\".\n",
        "# The input shape is to match what the spectrogram looks like.\n",
        "model.add(Conv2D(16, (3,3), activation='relu'))\n",
        "model.add(Flatten())\n",
        "# This above code takes the covolutional outputs in 3 dimentions and flatten\n",
        "# them down to a single dimension.\n",
        "model.add(Dense(128, activation='relu'))\n",
        "model.add(Dense(1, activation='sigmoid'))\n",
        "# The above code provides either an output of:\n",
        "# 1 - Drum Kit Sample, \"Positive\" or\n",
        "# 0 - Male Vocal Sample, \"Negative\""
      ],
      "metadata": {
        "id": "AR-d7V-FwPb7"
      },
      "execution_count": 99,
      "outputs": []
    },
    {
      "cell_type": "code",
      "source": [
        "model.compile('Adam', loss='BinaryCrossentropy', metrics=[tf.keras.metrics.Recall(),tf.keras.metrics.Precision()])\n",
        "# The \"Adam Optimizer\" is a, \"replacement optimization algorithm for stochastic \n",
        "# gradient descent for training deep learning models.\"\n",
        "# The Binary Crossentropy, \"compares each of the predicted probabilities to \n",
        "# actual class output which can be either 0 or 1.  This will be used since\n",
        "# utlizied binary classification is needed for the results.\n",
        "# The data will also pass through a couple of metrics, \"Recall\" & \"Precision\"."
      ],
      "metadata": {
        "id": "c-ICqw3ZweUt"
      },
      "execution_count": 100,
      "outputs": []
    },
    {
      "cell_type": "code",
      "source": [
        "model.summary()"
      ],
      "metadata": {
        "colab": {
          "base_uri": "https://localhost:8080/"
        },
        "id": "VkoPxg0owjJJ",
        "outputId": "ca0fd6f6-e9d5-4365-f851-ee97d9cce1cc"
      },
      "execution_count": 101,
      "outputs": [
        {
          "output_type": "stream",
          "name": "stdout",
          "text": [
            "Model: \"sequential\"\n",
            "_________________________________________________________________\n",
            " Layer (type)                Output Shape              Param #   \n",
            "=================================================================\n",
            " conv2d (Conv2D)             (None, 1489, 255, 16)     160       \n",
            "                                                                 \n",
            " conv2d_1 (Conv2D)           (None, 1487, 253, 16)     2320      \n",
            "                                                                 \n",
            " flatten (Flatten)           (None, 6019376)           0         \n",
            "                                                                 \n",
            " dense (Dense)               (None, 128)               770480256 \n",
            "                                                                 \n",
            " dense_1 (Dense)             (None, 1)                 129       \n",
            "                                                                 \n",
            "=================================================================\n",
            "Total params: 770,482,865\n",
            "Trainable params: 770,482,865\n",
            "Non-trainable params: 0\n",
            "_________________________________________________________________\n"
          ]
        }
      ]
    },
    {
      "cell_type": "code",
      "source": [
        "# The above is the neural network.\n",
        "# It's rather large with 770,482, 865 parameters in it."
      ],
      "metadata": {
        "id": "KGKr0T2d8iCy"
      },
      "execution_count": null,
      "outputs": []
    },
    {
      "cell_type": "markdown",
      "source": [
        "### 7.3 Fit Model, View Loss and KPI Plots"
      ],
      "metadata": {
        "id": "Dx00juL2yDKW"
      }
    },
    {
      "cell_type": "code",
      "source": [
        "# Now the model can be trained!"
      ],
      "metadata": {
        "id": "V9xfO-qS8rL2"
      },
      "execution_count": null,
      "outputs": []
    },
    {
      "cell_type": "code",
      "source": [
        "!apt install --allow-change-held-packages libcudnn8=8.1.0.77-1+cuda11.2\n",
        "# This installation will be needed to run the \"model.fit\" on Google Colab."
      ],
      "metadata": {
        "id": "mr9zR7mpx8_Y",
        "colab": {
          "base_uri": "https://localhost:8080/"
        },
        "outputId": "12e698d1-fb02-44fa-947e-457f2db60e80"
      },
      "execution_count": 102,
      "outputs": [
        {
          "output_type": "stream",
          "name": "stdout",
          "text": [
            "Reading package lists... Done\n",
            "Building dependency tree       \n",
            "Reading state information... Done\n",
            "The following package was automatically installed and is no longer required:\n",
            "  libnvidia-common-460\n",
            "Use 'apt autoremove' to remove it.\n",
            "The following packages will be REMOVED:\n",
            "  libcudnn8-dev\n",
            "The following held packages will be changed:\n",
            "  libcudnn8\n",
            "The following packages will be upgraded:\n",
            "  libcudnn8\n",
            "1 upgraded, 0 newly installed, 1 to remove and 60 not upgraded.\n",
            "Need to get 430 MB of archives.\n",
            "After this operation, 3,139 MB disk space will be freed.\n",
            "Get:1 https://developer.download.nvidia.com/compute/cuda/repos/ubuntu1804/x86_64  libcudnn8 8.1.0.77-1+cuda11.2 [430 MB]\n",
            "Fetched 430 MB in 7s (64.4 MB/s)\n",
            "(Reading database ... 155639 files and directories currently installed.)\n",
            "Removing libcudnn8-dev (8.0.5.39-1+cuda11.1) ...\n",
            "(Reading database ... 155617 files and directories currently installed.)\n",
            "Preparing to unpack .../libcudnn8_8.1.0.77-1+cuda11.2_amd64.deb ...\n",
            "Unpacking libcudnn8 (8.1.0.77-1+cuda11.2) over (8.0.5.39-1+cuda11.1) ...\n",
            "Setting up libcudnn8 (8.1.0.77-1+cuda11.2) ...\n"
          ]
        }
      ]
    },
    {
      "cell_type": "code",
      "source": [
        "hist = model.fit(train, epochs=4, validation_data=test)\n",
        "# \"hist\" will provide the training values, the loss metrics for the validation\n",
        "# partition and training partition.  \n",
        "# Essentially, by capturing this memory, it can then be visualized.\n",
        "# 4 epochs will be trained.\n",
        "# The amount of epochs is based on how accurate the model needs to be and \n",
        "# based on whether or not overfitting is beginning to happen."
      ],
      "metadata": {
        "id": "rOnNlN1byOKQ",
        "colab": {
          "base_uri": "https://localhost:8080/"
        },
        "outputId": "9e574d98-37f8-439a-8c81-619adf850eb1"
      },
      "execution_count": 103,
      "outputs": [
        {
          "output_type": "stream",
          "name": "stdout",
          "text": [
            "Epoch 1/4\n",
            "23/23 [==============================] - 9s 219ms/step - loss: 1.6944 - recall: 0.8934 - precision: 0.9215 - val_loss: 0.0016 - val_recall: 1.0000 - val_precision: 1.0000\n",
            "Epoch 2/4\n",
            "23/23 [==============================] - 5s 204ms/step - loss: 0.0053 - recall: 1.0000 - precision: 1.0000 - val_loss: 0.0375 - val_recall: 0.9683 - val_precision: 1.0000\n",
            "Epoch 3/4\n",
            "23/23 [==============================] - 5s 205ms/step - loss: 0.0667 - recall: 0.9836 - precision: 0.9945 - val_loss: 0.0150 - val_recall: 0.9841 - val_precision: 1.0000\n",
            "Epoch 4/4\n",
            "23/23 [==============================] - 5s 205ms/step - loss: 0.0376 - recall: 0.9946 - precision: 0.9893 - val_loss: 0.1592 - val_recall: 0.9855 - val_precision: 1.0000\n"
          ]
        }
      ]
    },
    {
      "cell_type": "code",
      "source": [
        "hist.history['loss']"
      ],
      "metadata": {
        "id": "9F1ByOzcyZ3y",
        "colab": {
          "base_uri": "https://localhost:8080/"
        },
        "outputId": "e3bb103a-9b08-4a7e-9045-aae5ef501d08"
      },
      "execution_count": 104,
      "outputs": [
        {
          "output_type": "execute_result",
          "data": {
            "text/plain": [
              "[1.6944029331207275,\n",
              " 0.005305704660713673,\n",
              " 0.06668692082166672,\n",
              " 0.037572380155324936]"
            ]
          },
          "metadata": {},
          "execution_count": 104
        }
      ]
    },
    {
      "cell_type": "code",
      "source": [
        "# The audio classification model has successfully been trained!\n",
        "# The training partition ended with 99% recall and 99% precicion.\n",
        "# the validation partition ended with 99% recall and 100% precision."
      ],
      "metadata": {
        "id": "o4N58UwY856g"
      },
      "execution_count": null,
      "outputs": []
    },
    {
      "cell_type": "markdown",
      "source": [
        "### Loss Plot"
      ],
      "metadata": {
        "id": "_ruD5-OUya0a"
      }
    },
    {
      "cell_type": "code",
      "source": [
        "plt.title('Loss')\n",
        "plt.plot(hist.history['loss'], 'r')\n",
        "plt.plot(hist.history['val_loss'], 'b')\n",
        "plt.title(\"Male Vocal & Drum Kit - Training/Validation Loss\")\n",
        "plt.xlabel(\"Epochs\")\n",
        "plt.ylabel(\"Loss\")\n",
        "plt.show()"
      ],
      "metadata": {
        "id": "Gql5a1AWycDg",
        "colab": {
          "base_uri": "https://localhost:8080/",
          "height": 295
        },
        "outputId": "61b24b66-f050-4782-c682-499d8b305ccc"
      },
      "execution_count": 105,
      "outputs": [
        {
          "output_type": "display_data",
          "data": {
            "text/plain": [
              "<Figure size 432x288 with 1 Axes>"
            ],
            "image/png": "[encoded data removed]"
          },
          "metadata": {
            "needs_background": "light"
          }
        }
      ]
    },
    {
      "cell_type": "markdown",
      "source": [
        "### Precision Plot"
      ],
      "metadata": {
        "id": "23uJQNFwyfLQ"
      }
    },
    {
      "cell_type": "code",
      "source": [
        "plt.title('Precision')\n",
        "plt.plot(hist.history['precision'], 'r')\n",
        "plt.plot(hist.history['val_precision'], 'b')\n",
        "plt.title(\"Male Vocal & Drum Kit - Training/Validation Precision\")\n",
        "plt.xlabel(\"Epochs\")\n",
        "plt.ylabel(\"Precision\")\n",
        "plt.show()"
      ],
      "metadata": {
        "id": "Sv3aDkCbyhe8",
        "colab": {
          "base_uri": "https://localhost:8080/",
          "height": 295
        },
        "outputId": "01a30a4e-c970-4c66-9cb9-24c4f9712617"
      },
      "execution_count": 106,
      "outputs": [
        {
          "output_type": "display_data",
          "data": {
            "text/plain": [
              "<Figure size 432x288 with 1 Axes>"
            ],
            "image/png": "[encoded data removed]"
          },
          "metadata": {
            "needs_background": "light"
          }
        }
      ]
    },
    {
      "cell_type": "markdown",
      "source": [
        "### Recall Plot"
      ],
      "metadata": {
        "id": "z7bVC4KSylzz"
      }
    },
    {
      "cell_type": "code",
      "source": [
        "plt.title('Recall')\n",
        "plt.plot(hist.history['recall'], 'r')\n",
        "plt.plot(hist.history['val_recall'], 'b')\n",
        "plt.title(\"Male Vocal & Drum Kit - Training/Validation Recall\")\n",
        "plt.xlabel(\"Epochs\")\n",
        "plt.ylabel(\"Recall\")\n",
        "plt.show()"
      ],
      "metadata": {
        "id": "o38Cv65iynRf",
        "colab": {
          "base_uri": "https://localhost:8080/",
          "height": 295
        },
        "outputId": "77168fb4-8f84-412a-c4fe-e0bd104c7a58"
      },
      "execution_count": 107,
      "outputs": [
        {
          "output_type": "display_data",
          "data": {
            "text/plain": [
              "<Figure size 432x288 with 1 Axes>"
            ],
            "image/png": "[encoded data removed]"
          },
          "metadata": {
            "needs_background": "light"
          }
        }
      ]
    },
    {
      "cell_type": "markdown",
      "source": [
        "## 8. Make a Prediction on a Single Clip"
      ],
      "metadata": {
        "id": "XilcOZzVysze"
      }
    },
    {
      "cell_type": "markdown",
      "source": [
        "### 8.1 Get One Batch and Make a Prediction"
      ],
      "metadata": {
        "id": "aE6KdkzMyxSd"
      }
    },
    {
      "cell_type": "code",
      "source": [
        "X_test, y_test = test.as_numpy_iterator().next()"
      ],
      "metadata": {
        "id": "HG3XoSnuyv4U"
      },
      "execution_count": null,
      "outputs": []
    },
    {
      "cell_type": "code",
      "source": [
        "X_test.shape\n",
        "# This should output 16 spectrograms."
      ],
      "metadata": {
        "id": "1v5FIh9Hy4NC",
        "colab": {
          "base_uri": "https://localhost:8080/"
        },
        "outputId": "33ab9906-cbc9-454e-bc3d-c25d81b56ee3"
      },
      "execution_count": null,
      "outputs": [
        {
          "output_type": "execute_result",
          "data": {
            "text/plain": [
              "(16, 1491, 257, 1)"
            ]
          },
          "metadata": {},
          "execution_count": 82
        }
      ]
    },
    {
      "cell_type": "code",
      "source": [
        "y_test.shape\n",
        "# This should output 16 labels."
      ],
      "metadata": {
        "id": "_eyyoCziy6fC",
        "colab": {
          "base_uri": "https://localhost:8080/"
        },
        "outputId": "baf726cb-b5d3-4bc9-af7b-6bdb6e5c8a75"
      },
      "execution_count": null,
      "outputs": [
        {
          "output_type": "execute_result",
          "data": {
            "text/plain": [
              "(16,)"
            ]
          },
          "metadata": {},
          "execution_count": 83
        }
      ]
    },
    {
      "cell_type": "code",
      "source": [
        "yhat = model.predict(X_test)\n",
        "# This will allow for the audio clips to through the deep learning model\n",
        "# and for predictions to be made."
      ],
      "metadata": {
        "id": "IFppkLXfy_qR"
      },
      "execution_count": null,
      "outputs": []
    },
    {
      "cell_type": "code",
      "source": [
        "yhat"
      ],
      "metadata": {
        "id": "pLtp10gVzFEb",
        "colab": {
          "base_uri": "https://localhost:8080/"
        },
        "outputId": "fa5052eb-dcd5-4664-efdf-08ebb4567980"
      },
      "execution_count": null,
      "outputs": [
        {
          "output_type": "execute_result",
          "data": {
            "text/plain": [
              "array([[9.7304963e-11],\n",
              "       [1.5317193e-09],\n",
              "       [0.0000000e+00],\n",
              "       [2.4367682e-07],\n",
              "       [3.9502145e-11],\n",
              "       [1.0000000e+00],\n",
              "       [5.6110011e-08],\n",
              "       [0.0000000e+00],\n",
              "       [2.8862319e-30],\n",
              "       [1.0000000e+00],\n",
              "       [1.0000000e+00],\n",
              "       [2.0881581e-30],\n",
              "       [3.4404360e-10],\n",
              "       [4.0034109e-07],\n",
              "       [1.0000000e+00],\n",
              "       [1.0000000e+00]], dtype=float32)"
            ]
          },
          "metadata": {},
          "execution_count": 85
        }
      ]
    },
    {
      "cell_type": "code",
      "source": [
        "# The above are the logits, or the \"confidence matrix\".\n",
        "# Anything 1.000000 is a match to the drum kit.\n",
        "# Rather than looking at these mannually, they can be converted into classes."
      ],
      "metadata": {
        "id": "8F4tr0AD9Syt"
      },
      "execution_count": null,
      "outputs": []
    },
    {
      "cell_type": "markdown",
      "source": [
        "### 8.2 Convert Logits to Classes"
      ],
      "metadata": {
        "id": "KUTPTgGAzHqo"
      }
    },
    {
      "cell_type": "code",
      "source": [
        "yhat = [1 if prediction > 0.5 else 0 for prediction in yhat]"
      ],
      "metadata": {
        "id": "JtVPhGqYzJ2M"
      },
      "execution_count": null,
      "outputs": []
    },
    {
      "cell_type": "code",
      "source": [
        "yhat"
      ],
      "metadata": {
        "id": "9xPyjdhbzNBh",
        "colab": {
          "base_uri": "https://localhost:8080/"
        },
        "outputId": "5cc1d458-c287-4e13-fe9c-068b3ef8afe7"
      },
      "execution_count": null,
      "outputs": [
        {
          "output_type": "execute_result",
          "data": {
            "text/plain": [
              "[0, 0, 0, 0, 0, 1, 0, 0, 0, 1, 1, 0, 0, 0, 1, 1]"
            ]
          },
          "metadata": {},
          "execution_count": 88
        }
      ]
    },
    {
      "cell_type": "code",
      "source": [
        "tf.math.reduce_sum(yhat)"
      ],
      "metadata": {
        "id": "mkoslS3kzQMo",
        "colab": {
          "base_uri": "https://localhost:8080/"
        },
        "outputId": "c0f556e0-ed06-4e69-fedc-27ee39a28792"
      },
      "execution_count": null,
      "outputs": [
        {
          "output_type": "execute_result",
          "data": {
            "text/plain": [
              "<tf.Tensor: shape=(), dtype=int32, numpy=5>"
            ]
          },
          "metadata": {},
          "execution_count": 89
        }
      ]
    },
    {
      "cell_type": "code",
      "source": [
        "# This shows that 5 drum kit signals were detected in that clip."
      ],
      "metadata": {
        "id": "DXxuzn4q9azK"
      },
      "execution_count": null,
      "outputs": []
    },
    {
      "cell_type": "code",
      "source": [
        "tf.math.reduce_sum(y_test)"
      ],
      "metadata": {
        "id": "NdU80uaXzTCF",
        "colab": {
          "base_uri": "https://localhost:8080/"
        },
        "outputId": "fcaf1ed5-8bf8-4e25-e1dc-d36a6685e6ba"
      },
      "execution_count": null,
      "outputs": [
        {
          "output_type": "execute_result",
          "data": {
            "text/plain": [
              "<tf.Tensor: shape=(), dtype=float32, numpy=5.0>"
            ]
          },
          "metadata": {},
          "execution_count": 90
        }
      ]
    },
    {
      "cell_type": "code",
      "source": [
        "# 5 drum kit signals were detected in the actual.\n",
        "# This shows that the model is accurately predicting."
      ],
      "metadata": {
        "id": "JsJnwjxQ9fi0"
      },
      "execution_count": null,
      "outputs": []
    },
    {
      "cell_type": "code",
      "source": [
        "yhat"
      ],
      "metadata": {
        "id": "BNCI2BIdzVYR",
        "colab": {
          "base_uri": "https://localhost:8080/"
        },
        "outputId": "26a97e26-52c9-4e22-9472-f016bd9aab28"
      },
      "execution_count": null,
      "outputs": [
        {
          "output_type": "execute_result",
          "data": {
            "text/plain": [
              "[0, 0, 0, 0, 0, 1, 0, 0, 0, 1, 1, 0, 0, 0, 1, 1]"
            ]
          },
          "metadata": {},
          "execution_count": 91
        }
      ]
    },
    {
      "cell_type": "code",
      "source": [
        "y_test.astype(int)"
      ],
      "metadata": {
        "id": "hZAnh3OtzXna",
        "colab": {
          "base_uri": "https://localhost:8080/"
        },
        "outputId": "ef369a20-8a3f-4776-da2d-79bddfa9babf"
      },
      "execution_count": null,
      "outputs": [
        {
          "output_type": "execute_result",
          "data": {
            "text/plain": [
              "array([0, 0, 0, 0, 0, 1, 0, 0, 0, 1, 1, 0, 0, 0, 1, 1])"
            ]
          },
          "metadata": {},
          "execution_count": 92
        }
      ]
    },
    {
      "cell_type": "code",
      "source": [
        "# The model is accurately predicitng what is a drum kit signal and what is not."
      ],
      "metadata": {
        "id": "0Sn-Y4Pa9mZB"
      },
      "execution_count": null,
      "outputs": []
    },
    {
      "cell_type": "markdown",
      "source": [
        "## 9. Build Forest Parsing Functions"
      ],
      "metadata": {
        "id": "S1VNqZCLzdLi"
      }
    },
    {
      "cell_type": "code",
      "source": [
        "# Time to go through the recorded audio clips from Harvest Chapel."
      ],
      "metadata": {
        "id": "POdkna239shI"
      },
      "execution_count": null,
      "outputs": []
    },
    {
      "cell_type": "markdown",
      "source": [
        "### 9.1 Load up MP3s"
      ],
      "metadata": {
        "id": "Pc6807srzhqu"
      }
    },
    {
      "cell_type": "code",
      "source": [
        "def load_mp3_16k_mono(filename):\n",
        "    \"\"\" Load a WAV file, convert it to a float tensor, resample to 16 kHz single-channel audio. \"\"\"\n",
        "    res = tfio.audio.AudioIOTensor(filename)\n",
        "    # The audio clips from Harvest Chapel are in an mp3 format.\n",
        "    # This function will take the mp3 and convert it into a tensor.  \n",
        "    tensor = res.to_tensor()\n",
        "    tensor = tf.math.reduce_sum(tensor, axis=1) / 2 \n",
        "    # Each one of the files are multi-channel.  The average between the two\n",
        "    # different channels will be reduced down into a single-channel value.\n",
        "    sample_rate = res.rate\n",
        "    sample_rate = tf.cast(sample_rate, dtype=tf.int64)\n",
        "    # The above code will extract sample rate and cast.\n",
        "    wav = tfio.audio.resample(tensor, rate_in=sample_rate, rate_out=16000)\n",
        "    # The above code will resample the resulting wave file to 16 Hz.\n",
        "    return wav"
      ],
      "metadata": {
        "id": "kG_-zQBczgij"
      },
      "execution_count": null,
      "outputs": []
    },
    {
      "cell_type": "code",
      "source": [
        "AUDIO_PATH = '/content/drive/My Drive/Colab Notebooks/Data 2/Audio Files/'"
      ],
      "metadata": {
        "id": "wfTo7kD-zte9"
      },
      "execution_count": null,
      "outputs": []
    },
    {
      "cell_type": "code",
      "source": [
        "mp3 = os.path.join(AUDIO_PATH, 'Chayce Audio (1) 1.mp3')\n",
        "# The above code defines our file path."
      ],
      "metadata": {
        "id": "Gtg_fAlUzxNm"
      },
      "execution_count": null,
      "outputs": []
    },
    {
      "cell_type": "code",
      "source": [
        "wav = load_mp3_16k_mono(mp3)\n",
        "# The above code will load the mp3 file into a wav file."
      ],
      "metadata": {
        "id": "UMjJNwYI0mjv"
      },
      "execution_count": null,
      "outputs": []
    },
    {
      "cell_type": "code",
      "source": [
        "wav"
      ],
      "metadata": {
        "id": "VqiLrTch0qHG",
        "colab": {
          "base_uri": "https://localhost:8080/"
        },
        "outputId": "523f8cf4-bbc3-4c05-8c9f-9680f494cb7a"
      },
      "execution_count": null,
      "outputs": [
        {
          "output_type": "execute_result",
          "data": {
            "text/plain": [
              "<tf.Tensor: shape=(2925714,), dtype=float32, numpy=\n",
              "array([ 0.0000000e+00, -2.8851102e-16, -2.1863022e-15, ...,\n",
              "        0.0000000e+00,  0.0000000e+00,  0.0000000e+00], dtype=float32)>"
            ]
          },
          "metadata": {},
          "execution_count": 97
        }
      ]
    },
    {
      "cell_type": "code",
      "source": [
        "# Now the audio file will be converted into a number of slices.\n",
        "# Rather than taking one massive clip and trying to make a prediction,\n",
        "# the clip will sliced into the same size audio slices that were\n",
        "# passed to the model.\n",
        "# This will allow for multiple predictions on a single audio clip."
      ],
      "metadata": {
        "id": "CXcHKwil-I-R"
      },
      "execution_count": null,
      "outputs": []
    },
    {
      "cell_type": "code",
      "source": [
        "audio_slices = tf.keras.utils.timeseries_dataset_from_array(wav, wav, sequence_length=48000, sequence_stride=48000, batch_size=1)"
      ],
      "metadata": {
        "id": "9t8dzR1q0qYE"
      },
      "execution_count": null,
      "outputs": []
    },
    {
      "cell_type": "code",
      "source": [
        "samples, index = audio_slices.as_numpy_iterator().next()"
      ],
      "metadata": {
        "id": "2TzbmMMC0uJv"
      },
      "execution_count": null,
      "outputs": []
    },
    {
      "cell_type": "code",
      "source": [
        "len(audio_slices)"
      ],
      "metadata": {
        "id": "9Ri_l3Gj0xkG",
        "colab": {
          "base_uri": "https://localhost:8080/"
        },
        "outputId": "815a3f92-2745-47bb-c8b2-89c30e3eeb11"
      },
      "execution_count": null,
      "outputs": [
        {
          "output_type": "execute_result",
          "data": {
            "text/plain": [
              "60"
            ]
          },
          "metadata": {},
          "execution_count": 100
        }
      ]
    },
    {
      "cell_type": "code",
      "source": [
        "samples.shape"
      ],
      "metadata": {
        "id": "X3wLHlYM00Hd",
        "colab": {
          "base_uri": "https://localhost:8080/"
        },
        "outputId": "dea6ae67-c23b-400d-b559-1e83b660fcdd"
      },
      "execution_count": null,
      "outputs": [
        {
          "output_type": "execute_result",
          "data": {
            "text/plain": [
              "(1, 48000)"
            ]
          },
          "metadata": {},
          "execution_count": 101
        }
      ]
    },
    {
      "cell_type": "code",
      "source": [
        "# The clip has successfully been converted into 60 different windows."
      ],
      "metadata": {
        "id": "k1HzqNXa-PNa"
      },
      "execution_count": null,
      "outputs": []
    },
    {
      "cell_type": "markdown",
      "source": [
        "### 9.2 Build Function to Convert Clips into Windowed Spectrograms"
      ],
      "metadata": {
        "id": "90b7yZAi03tY"
      }
    },
    {
      "cell_type": "code",
      "source": [
        "def preprocess_mp3(sample, index):\n",
        "    sample = sample[0]\n",
        "    zero_padding = tf.zeros([48000] - tf.shape(sample), dtype=tf.float32)\n",
        "    wav = tf.concat([zero_padding, sample],0)\n",
        "    spectrogram = tf.signal.stft(wav, frame_length=320, frame_step=32)\n",
        "    spectrogram = tf.abs(spectrogram)\n",
        "    spectrogram = tf.expand_dims(spectrogram, axis=2)\n",
        "    return spectrogram"
      ],
      "metadata": {
        "id": "5xfo-cPl08zS"
      },
      "execution_count": null,
      "outputs": []
    },
    {
      "cell_type": "code",
      "source": [
        "# The above code is a function for converting the converted mp3 audio clips \n",
        "# into spectrograms."
      ],
      "metadata": {
        "id": "3vSGYB9P-U83"
      },
      "execution_count": null,
      "outputs": []
    },
    {
      "cell_type": "markdown",
      "source": [
        "### 9.3 Convert Longer Clips into Windows and Make Predictions"
      ],
      "metadata": {
        "id": "7Ztg-e-61BFr"
      }
    },
    {
      "cell_type": "code",
      "source": [
        "audio_slices = tf.keras.utils.timeseries_dataset_from_array(wav, wav, sequence_length=16000, sequence_stride=16000, batch_size=1)\n",
        "audio_slices = audio_slices.map(preprocess_mp3)\n",
        "audio_slices = audio_slices.batch(64)"
      ],
      "metadata": {
        "id": "WfamVE9i1Ea4"
      },
      "execution_count": null,
      "outputs": []
    },
    {
      "cell_type": "code",
      "source": [
        "yhat = model.predict(audio_slices)\n",
        "yhat = [1 if prediction > 0.99 else 0 for prediction in yhat]\n",
        "# 99% was used to increase the conficence of the model, meaning only the most\n",
        "# confident predictions will be considered valid for drum kit signal detection."
      ],
      "metadata": {
        "id": "rC9VxDZB1Ijc"
      },
      "execution_count": null,
      "outputs": []
    },
    {
      "cell_type": "code",
      "source": [
        "yhat"
      ],
      "metadata": {
        "id": "mOjZVAn01Ks9",
        "colab": {
          "base_uri": "https://localhost:8080/"
        },
        "outputId": "751212a3-02f2-4d7d-a41f-89361891b884"
      },
      "execution_count": null,
      "outputs": [
        {
          "output_type": "execute_result",
          "data": {
            "text/plain": [
              "[0,\n",
              " 0,\n",
              " 0,\n",
              " 0,\n",
              " 0,\n",
              " 0,\n",
              " 0,\n",
              " 0,\n",
              " 0,\n",
              " 0,\n",
              " 0,\n",
              " 0,\n",
              " 0,\n",
              " 0,\n",
              " 0,\n",
              " 0,\n",
              " 0,\n",
              " 0,\n",
              " 0,\n",
              " 0,\n",
              " 0,\n",
              " 0,\n",
              " 0,\n",
              " 0,\n",
              " 0,\n",
              " 0,\n",
              " 0,\n",
              " 0,\n",
              " 0,\n",
              " 0,\n",
              " 0,\n",
              " 0,\n",
              " 0,\n",
              " 0,\n",
              " 0,\n",
              " 0,\n",
              " 0,\n",
              " 0,\n",
              " 0,\n",
              " 0,\n",
              " 0,\n",
              " 0,\n",
              " 0,\n",
              " 0,\n",
              " 0,\n",
              " 0,\n",
              " 0,\n",
              " 0,\n",
              " 0,\n",
              " 0,\n",
              " 0,\n",
              " 0,\n",
              " 0,\n",
              " 0,\n",
              " 0,\n",
              " 0,\n",
              " 0,\n",
              " 0,\n",
              " 0,\n",
              " 0,\n",
              " 0,\n",
              " 0,\n",
              " 0,\n",
              " 0,\n",
              " 0,\n",
              " 0,\n",
              " 0,\n",
              " 0,\n",
              " 0,\n",
              " 0,\n",
              " 0,\n",
              " 0,\n",
              " 0,\n",
              " 0,\n",
              " 0,\n",
              " 1,\n",
              " 0,\n",
              " 0,\n",
              " 1,\n",
              " 0,\n",
              " 0,\n",
              " 0,\n",
              " 0,\n",
              " 0,\n",
              " 0,\n",
              " 0,\n",
              " 0,\n",
              " 0,\n",
              " 1,\n",
              " 0,\n",
              " 0,\n",
              " 1,\n",
              " 0,\n",
              " 0,\n",
              " 0,\n",
              " 0,\n",
              " 0,\n",
              " 0,\n",
              " 0,\n",
              " 0,\n",
              " 0,\n",
              " 0,\n",
              " 0,\n",
              " 0,\n",
              " 0,\n",
              " 0,\n",
              " 0,\n",
              " 0,\n",
              " 0,\n",
              " 0,\n",
              " 0,\n",
              " 0,\n",
              " 0,\n",
              " 0,\n",
              " 0,\n",
              " 0,\n",
              " 0,\n",
              " 0,\n",
              " 0,\n",
              " 0,\n",
              " 0,\n",
              " 0,\n",
              " 0,\n",
              " 0,\n",
              " 0,\n",
              " 0,\n",
              " 0,\n",
              " 0,\n",
              " 0,\n",
              " 0,\n",
              " 0,\n",
              " 0,\n",
              " 0,\n",
              " 0,\n",
              " 0,\n",
              " 0,\n",
              " 0,\n",
              " 0,\n",
              " 0,\n",
              " 0,\n",
              " 0,\n",
              " 0,\n",
              " 0,\n",
              " 0,\n",
              " 0,\n",
              " 0,\n",
              " 0,\n",
              " 0,\n",
              " 0,\n",
              " 0,\n",
              " 0,\n",
              " 0,\n",
              " 0,\n",
              " 0,\n",
              " 0,\n",
              " 0,\n",
              " 0,\n",
              " 0,\n",
              " 0,\n",
              " 0,\n",
              " 0,\n",
              " 0,\n",
              " 0,\n",
              " 0,\n",
              " 0,\n",
              " 0,\n",
              " 1,\n",
              " 0,\n",
              " 0,\n",
              " 0,\n",
              " 0,\n",
              " 0,\n",
              " 0,\n",
              " 0,\n",
              " 0,\n",
              " 0,\n",
              " 0,\n",
              " 0,\n",
              " 0,\n",
              " 0,\n",
              " 0,\n",
              " 0]"
            ]
          },
          "metadata": {},
          "execution_count": 105
        }
      ]
    },
    {
      "cell_type": "code",
      "source": [
        "len(yhat)"
      ],
      "metadata": {
        "id": "FWa_v7YG1POW",
        "colab": {
          "base_uri": "https://localhost:8080/"
        },
        "outputId": "f204dc9d-9bfa-44b3-b720-ef3efd8441c2"
      },
      "execution_count": null,
      "outputs": [
        {
          "output_type": "execute_result",
          "data": {
            "text/plain": [
              "182"
            ]
          },
          "metadata": {},
          "execution_count": 106
        }
      ]
    },
    {
      "cell_type": "code",
      "source": [
        "# The model is classifying consecutive drum kit signals as additional\n",
        "# predictions.  \n",
        "# The results will need to be reduced down, so that consecutive drum \n",
        "# kit signals are only treated as a single signal."
      ],
      "metadata": {
        "id": "WRjQRO3F-fng"
      },
      "execution_count": null,
      "outputs": []
    },
    {
      "cell_type": "markdown",
      "source": [
        "### 9.4 Group Consecutive Detections"
      ],
      "metadata": {
        "id": "iz0Tq_Ig1QAP"
      }
    },
    {
      "cell_type": "code",
      "source": [
        "from itertools import groupby"
      ],
      "metadata": {
        "id": "-R6xH3lf1TS3"
      },
      "execution_count": null,
      "outputs": []
    },
    {
      "cell_type": "code",
      "source": [
        "yhat = [key for key, group in groupby(yhat)]\n",
        "# The above code will loop through the predictions from yhat, and\n",
        "# reduce the sum."
      ],
      "metadata": {
        "id": "cljAiQ5x1WI-"
      },
      "execution_count": null,
      "outputs": []
    },
    {
      "cell_type": "code",
      "source": [
        "yhat"
      ],
      "metadata": {
        "id": "D0FXinbu1YdK",
        "colab": {
          "base_uri": "https://localhost:8080/"
        },
        "outputId": "d2e0cba2-0856-420b-f5c7-b877cb063f2c"
      },
      "execution_count": null,
      "outputs": [
        {
          "output_type": "execute_result",
          "data": {
            "text/plain": [
              "[0, 1, 0, 1, 0, 1, 0, 1, 0, 1, 0]"
            ]
          },
          "metadata": {},
          "execution_count": 109
        }
      ]
    },
    {
      "cell_type": "code",
      "source": [
        "tf.math.reduce_sum(yhat)"
      ],
      "metadata": {
        "id": "tUqIVyY61ejj",
        "colab": {
          "base_uri": "https://localhost:8080/"
        },
        "outputId": "7491c7fb-7990-446b-f3fa-c47e02444ab6"
      },
      "execution_count": null,
      "outputs": [
        {
          "output_type": "execute_result",
          "data": {
            "text/plain": [
              "<tf.Tensor: shape=(), dtype=int32, numpy=5>"
            ]
          },
          "metadata": {},
          "execution_count": 110
        }
      ]
    },
    {
      "cell_type": "code",
      "source": [
        "calls = tf.math.reduce_sum(yhat).numpy()"
      ],
      "metadata": {
        "id": "l9b3OQnt1fcM"
      },
      "execution_count": null,
      "outputs": []
    },
    {
      "cell_type": "code",
      "source": [
        "calls"
      ],
      "metadata": {
        "id": "hzgyJV4U1iJx",
        "colab": {
          "base_uri": "https://localhost:8080/"
        },
        "outputId": "a279f4b9-4b7c-429b-9ed7-da299538ed7e"
      },
      "execution_count": null,
      "outputs": [
        {
          "output_type": "execute_result",
          "data": {
            "text/plain": [
              "5"
            ]
          },
          "metadata": {},
          "execution_count": 112
        }
      ]
    },
    {
      "cell_type": "code",
      "source": [
        "# The drum kit signal count has successfully been aggregated."
      ],
      "metadata": {
        "id": "W-9qvFXW-ozi"
      },
      "execution_count": null,
      "outputs": []
    },
    {
      "cell_type": "markdown",
      "source": [
        "## 10. Make Predictions"
      ],
      "metadata": {
        "id": "gOfIi3Gl1ovC"
      }
    },
    {
      "cell_type": "code",
      "source": [
        "# Now each of the church recordings can be looped through."
      ],
      "metadata": {
        "id": "3ydbDzFH-vs_"
      },
      "execution_count": null,
      "outputs": []
    },
    {
      "cell_type": "markdown",
      "source": [
        "### 10.1 Loop over all recordings and make predictions"
      ],
      "metadata": {
        "id": "tirZLrrC1sLH"
      }
    },
    {
      "cell_type": "code",
      "source": [
        "results = {}\n",
        "for file in os.listdir(os.path.join(AUDIO_PATH)):\n",
        "    FILEPATH = os.path.join(AUDIO_PATH, file)\n",
        "\n",
        "    wav = load_mp3_16k_mono(FILEPATH)\n",
        "    audio_slices = tf.keras.utils.timeseries_dataset_from_array(wav, wav, sequence_length=48000, sequence_stride=48000, batch_size=1)\n",
        "    audio_slices = audio_slices.map(preprocess_mp3)\n",
        "    audio_slices = audio_slices.batch(64)\n",
        "\n",
        "    yhat = model.predict(audio_slices)\n",
        "\n",
        "    results[file] = yhat\n",
        "\n",
        "# The above code will loop through each audio recording the \"Church Audio\"\n",
        "# directory.  Essentially, doing the same thing that was done above, but for \n",
        "# all of the church audio samples."
      ],
      "metadata": {
        "id": "V9O5PKIx1qug"
      },
      "execution_count": null,
      "outputs": []
    },
    {
      "cell_type": "code",
      "source": [
        "results"
      ],
      "metadata": {
        "id": "L_Zi1HCx14UK",
        "colab": {
          "base_uri": "https://localhost:8080/"
        },
        "outputId": "87cc7db6-3e2d-4f7d-8e86-491346da77bd"
      },
      "execution_count": null,
      "outputs": [
        {
          "output_type": "execute_result",
          "data": {
            "text/plain": [
              "{'Chayce Audio (1) 1.mp3': array([[0.0000000e+00],\n",
              "        [0.0000000e+00],\n",
              "        [0.0000000e+00],\n",
              "        [0.0000000e+00],\n",
              "        [0.0000000e+00],\n",
              "        [1.1495955e-26],\n",
              "        [0.0000000e+00],\n",
              "        [0.0000000e+00],\n",
              "        [0.0000000e+00],\n",
              "        [7.6995228e-27],\n",
              "        [0.0000000e+00],\n",
              "        [0.0000000e+00],\n",
              "        [0.0000000e+00],\n",
              "        [0.0000000e+00],\n",
              "        [0.0000000e+00],\n",
              "        [0.0000000e+00],\n",
              "        [0.0000000e+00],\n",
              "        [0.0000000e+00],\n",
              "        [7.1879327e-03],\n",
              "        [7.2388552e-02],\n",
              "        [1.1980917e-02],\n",
              "        [8.6901073e-06],\n",
              "        [2.8158678e-05],\n",
              "        [7.8791606e-01],\n",
              "        [1.0000000e+00],\n",
              "        [9.9981636e-01],\n",
              "        [7.3802017e-02],\n",
              "        [8.0473692e-05],\n",
              "        [1.1396329e-05],\n",
              "        [2.8494358e-07],\n",
              "        [9.8588145e-01],\n",
              "        [2.2646645e-01],\n",
              "        [2.3166266e-20],\n",
              "        [0.0000000e+00],\n",
              "        [0.0000000e+00],\n",
              "        [0.0000000e+00],\n",
              "        [0.0000000e+00],\n",
              "        [0.0000000e+00],\n",
              "        [0.0000000e+00],\n",
              "        [0.0000000e+00],\n",
              "        [0.0000000e+00],\n",
              "        [0.0000000e+00],\n",
              "        [0.0000000e+00],\n",
              "        [0.0000000e+00],\n",
              "        [0.0000000e+00],\n",
              "        [0.0000000e+00],\n",
              "        [0.0000000e+00],\n",
              "        [0.0000000e+00],\n",
              "        [0.0000000e+00],\n",
              "        [0.0000000e+00],\n",
              "        [5.1768702e-06],\n",
              "        [3.2894865e-29],\n",
              "        [0.0000000e+00],\n",
              "        [0.0000000e+00],\n",
              "        [0.0000000e+00],\n",
              "        [0.0000000e+00],\n",
              "        [0.0000000e+00],\n",
              "        [0.0000000e+00],\n",
              "        [0.0000000e+00],\n",
              "        [1.0000000e+00]], dtype=float32),\n",
              " 'Chayce Audio (2) 1.mp3': array([[9.9103421e-01],\n",
              "        [0.0000000e+00],\n",
              "        [9.2284781e-01],\n",
              "        [9.9988592e-01],\n",
              "        [9.9999833e-01],\n",
              "        [5.1318699e-01],\n",
              "        [9.3736975e-07],\n",
              "        [6.7644272e-09],\n",
              "        [9.3498682e-24],\n",
              "        [9.5751129e-10],\n",
              "        [1.0000000e+00],\n",
              "        [9.9765438e-01],\n",
              "        [2.3664244e-14],\n",
              "        [1.7065090e-09],\n",
              "        [1.9325998e-04],\n",
              "        [2.4261274e-07],\n",
              "        [0.0000000e+00],\n",
              "        [0.0000000e+00],\n",
              "        [7.9753613e-11],\n",
              "        [2.2553705e-19],\n",
              "        [9.8620671e-01],\n",
              "        [0.0000000e+00],\n",
              "        [0.0000000e+00],\n",
              "        [4.1893078e-03],\n",
              "        [0.0000000e+00],\n",
              "        [0.0000000e+00],\n",
              "        [4.4905185e-08],\n",
              "        [6.4661926e-01],\n",
              "        [0.0000000e+00],\n",
              "        [3.0731648e-04],\n",
              "        [0.0000000e+00],\n",
              "        [1.1464619e-03],\n",
              "        [1.3381577e-23],\n",
              "        [7.3964902e-14],\n",
              "        [0.0000000e+00],\n",
              "        [9.9370545e-01],\n",
              "        [3.3907764e-28],\n",
              "        [0.0000000e+00],\n",
              "        [5.3066948e-13],\n",
              "        [0.0000000e+00],\n",
              "        [0.0000000e+00],\n",
              "        [5.5544921e-23],\n",
              "        [0.0000000e+00],\n",
              "        [0.0000000e+00],\n",
              "        [1.0000000e+00],\n",
              "        [0.0000000e+00],\n",
              "        [0.0000000e+00],\n",
              "        [9.9999893e-01],\n",
              "        [0.0000000e+00],\n",
              "        [0.0000000e+00],\n",
              "        [0.0000000e+00],\n",
              "        [8.4166160e-21],\n",
              "        [9.9397355e-01],\n",
              "        [0.0000000e+00],\n",
              "        [0.0000000e+00],\n",
              "        [0.0000000e+00],\n",
              "        [0.0000000e+00],\n",
              "        [0.0000000e+00],\n",
              "        [0.0000000e+00],\n",
              "        [7.7978469e-04]], dtype=float32),\n",
              " 'Chayce Audio (3) 1.mp3': array([[2.03402334e-12],\n",
              "        [1.75608122e-07],\n",
              "        [9.95329499e-01],\n",
              "        [9.99992847e-01],\n",
              "        [9.99997497e-01],\n",
              "        [8.41584682e-01],\n",
              "        [3.25515419e-02],\n",
              "        [5.85991098e-03],\n",
              "        [7.31147942e-04],\n",
              "        [9.99999881e-01],\n",
              "        [4.90721024e-04],\n",
              "        [3.26648433e-18],\n",
              "        [3.67004599e-04],\n",
              "        [1.00000000e+00],\n",
              "        [0.00000000e+00],\n",
              "        [0.00000000e+00],\n",
              "        [0.00000000e+00],\n",
              "        [0.00000000e+00],\n",
              "        [0.00000000e+00],\n",
              "        [1.29054535e-17],\n",
              "        [0.00000000e+00],\n",
              "        [0.00000000e+00],\n",
              "        [0.00000000e+00],\n",
              "        [0.00000000e+00],\n",
              "        [0.00000000e+00],\n",
              "        [0.00000000e+00],\n",
              "        [0.00000000e+00],\n",
              "        [0.00000000e+00],\n",
              "        [0.00000000e+00],\n",
              "        [0.00000000e+00],\n",
              "        [1.90869586e-36],\n",
              "        [1.17014974e-29],\n",
              "        [0.00000000e+00],\n",
              "        [0.00000000e+00],\n",
              "        [0.00000000e+00],\n",
              "        [0.00000000e+00],\n",
              "        [0.00000000e+00],\n",
              "        [0.00000000e+00],\n",
              "        [0.00000000e+00],\n",
              "        [1.54153188e-03],\n",
              "        [2.88885775e-27],\n",
              "        [0.00000000e+00],\n",
              "        [0.00000000e+00],\n",
              "        [0.00000000e+00],\n",
              "        [0.00000000e+00],\n",
              "        [0.00000000e+00],\n",
              "        [0.00000000e+00],\n",
              "        [2.31590576e-07],\n",
              "        [2.97285424e-05],\n",
              "        [4.91630244e-36],\n",
              "        [0.00000000e+00],\n",
              "        [0.00000000e+00],\n",
              "        [1.29090968e-32],\n",
              "        [0.00000000e+00],\n",
              "        [4.49809261e-32],\n",
              "        [7.66758887e-08],\n",
              "        [7.05780752e-04],\n",
              "        [2.02612169e-02],\n",
              "        [7.71170557e-01],\n",
              "        [9.97809112e-01]], dtype=float32),\n",
              " 'Chayce Audio (4) 1.mp3': array([[1.0000000e+00],\n",
              "        [6.6538637e-06],\n",
              "        [1.0000000e+00],\n",
              "        [9.9345702e-01],\n",
              "        [9.9968970e-01],\n",
              "        [9.9976724e-01],\n",
              "        [9.9999976e-01],\n",
              "        [9.9976510e-01],\n",
              "        [2.9247904e-06],\n",
              "        [4.1044704e-08],\n",
              "        [1.6911840e-03],\n",
              "        [3.3307195e-05],\n",
              "        [6.9074188e-03],\n",
              "        [9.6114826e-01],\n",
              "        [7.4892849e-01],\n",
              "        [9.9999952e-01],\n",
              "        [9.9999309e-01],\n",
              "        [0.0000000e+00],\n",
              "        [0.0000000e+00],\n",
              "        [0.0000000e+00],\n",
              "        [8.3677329e-02],\n",
              "        [0.0000000e+00],\n",
              "        [3.0304552e-27],\n",
              "        [9.9415106e-01],\n",
              "        [9.9756527e-01],\n",
              "        [1.0000000e+00],\n",
              "        [0.0000000e+00],\n",
              "        [0.0000000e+00],\n",
              "        [0.0000000e+00],\n",
              "        [0.0000000e+00],\n",
              "        [0.0000000e+00],\n",
              "        [0.0000000e+00],\n",
              "        [0.0000000e+00],\n",
              "        [7.4350177e-26],\n",
              "        [2.7733913e-34],\n",
              "        [0.0000000e+00],\n",
              "        [0.0000000e+00],\n",
              "        [0.0000000e+00],\n",
              "        [0.0000000e+00],\n",
              "        [0.0000000e+00],\n",
              "        [0.0000000e+00],\n",
              "        [0.0000000e+00],\n",
              "        [1.0000000e+00],\n",
              "        [0.0000000e+00],\n",
              "        [0.0000000e+00],\n",
              "        [0.0000000e+00],\n",
              "        [0.0000000e+00],\n",
              "        [0.0000000e+00],\n",
              "        [0.0000000e+00],\n",
              "        [2.8192768e-29],\n",
              "        [0.0000000e+00],\n",
              "        [0.0000000e+00],\n",
              "        [0.0000000e+00],\n",
              "        [0.0000000e+00],\n",
              "        [0.0000000e+00],\n",
              "        [0.0000000e+00],\n",
              "        [3.9900399e-36],\n",
              "        [3.4799719e-08],\n",
              "        [3.2025543e-10],\n",
              "        [2.3888791e-01]], dtype=float32),\n",
              " 'Chayce Audio (5) 1.mp3': array([[0.00000000e+00],\n",
              "        [0.00000000e+00],\n",
              "        [9.22376865e-28],\n",
              "        [0.00000000e+00],\n",
              "        [0.00000000e+00],\n",
              "        [0.00000000e+00],\n",
              "        [0.00000000e+00],\n",
              "        [0.00000000e+00],\n",
              "        [0.00000000e+00],\n",
              "        [0.00000000e+00],\n",
              "        [0.00000000e+00],\n",
              "        [0.00000000e+00],\n",
              "        [0.00000000e+00],\n",
              "        [9.07801138e-32],\n",
              "        [0.00000000e+00],\n",
              "        [0.00000000e+00],\n",
              "        [0.00000000e+00],\n",
              "        [0.00000000e+00],\n",
              "        [0.00000000e+00],\n",
              "        [1.97939179e-36],\n",
              "        [0.00000000e+00],\n",
              "        [0.00000000e+00],\n",
              "        [0.00000000e+00],\n",
              "        [0.00000000e+00],\n",
              "        [0.00000000e+00],\n",
              "        [0.00000000e+00],\n",
              "        [0.00000000e+00],\n",
              "        [0.00000000e+00],\n",
              "        [1.53934577e-13],\n",
              "        [1.14190255e-27],\n",
              "        [0.00000000e+00],\n",
              "        [0.00000000e+00],\n",
              "        [2.92182153e-06],\n",
              "        [2.78927560e-04],\n",
              "        [7.76016805e-07],\n",
              "        [2.29236026e-08],\n",
              "        [1.09754264e-05],\n",
              "        [2.73279956e-20],\n",
              "        [4.08338159e-02],\n",
              "        [1.78374585e-24],\n",
              "        [3.13582510e-01],\n",
              "        [9.28302169e-01],\n",
              "        [1.70984007e-02],\n",
              "        [2.34676008e-05],\n",
              "        [6.85461637e-05],\n",
              "        [9.80429769e-01],\n",
              "        [8.96328449e-01],\n",
              "        [8.91522632e-07],\n",
              "        [1.04074125e-13],\n",
              "        [5.23675681e-08],\n",
              "        [8.96762609e-01],\n",
              "        [8.66063058e-01],\n",
              "        [9.97910678e-01],\n",
              "        [8.94102097e-01],\n",
              "        [8.99194121e-01],\n",
              "        [8.98921013e-01],\n",
              "        [8.35160196e-01],\n",
              "        [4.25344378e-01],\n",
              "        [4.24776375e-01],\n",
              "        [7.37254083e-01]], dtype=float32),\n",
              " 'Drum Kit (1) 1.mp3': array([[1.        ],\n",
              "        [1.        ],\n",
              "        [1.        ],\n",
              "        [1.        ],\n",
              "        [1.        ],\n",
              "        [1.        ],\n",
              "        [1.        ],\n",
              "        [0.9995369 ],\n",
              "        [1.        ],\n",
              "        [1.        ],\n",
              "        [0.9999982 ],\n",
              "        [1.        ],\n",
              "        [1.        ],\n",
              "        [0.9999999 ],\n",
              "        [1.        ],\n",
              "        [0.99974376],\n",
              "        [1.        ],\n",
              "        [1.        ],\n",
              "        [1.        ],\n",
              "        [1.        ],\n",
              "        [1.        ],\n",
              "        [1.        ],\n",
              "        [1.        ],\n",
              "        [1.        ],\n",
              "        [1.        ],\n",
              "        [0.9999995 ],\n",
              "        [1.        ],\n",
              "        [1.        ],\n",
              "        [1.        ],\n",
              "        [1.        ],\n",
              "        [1.        ],\n",
              "        [1.        ],\n",
              "        [1.        ],\n",
              "        [1.        ],\n",
              "        [1.        ],\n",
              "        [1.        ],\n",
              "        [1.        ],\n",
              "        [1.        ],\n",
              "        [1.        ],\n",
              "        [1.        ],\n",
              "        [1.        ],\n",
              "        [1.        ],\n",
              "        [1.        ],\n",
              "        [0.9999999 ],\n",
              "        [1.        ],\n",
              "        [1.        ],\n",
              "        [1.        ],\n",
              "        [1.        ],\n",
              "        [1.        ],\n",
              "        [1.        ],\n",
              "        [0.99992466],\n",
              "        [0.9999876 ],\n",
              "        [0.99999976],\n",
              "        [1.        ],\n",
              "        [1.        ],\n",
              "        [1.        ],\n",
              "        [0.9999999 ],\n",
              "        [1.        ],\n",
              "        [1.        ],\n",
              "        [1.        ]], dtype=float32),\n",
              " 'Drum Kit (2) 1.mp3': array([[1.        ],\n",
              "        [1.        ],\n",
              "        [1.        ],\n",
              "        [1.        ],\n",
              "        [1.        ],\n",
              "        [1.        ],\n",
              "        [1.        ],\n",
              "        [1.        ],\n",
              "        [1.        ],\n",
              "        [1.        ],\n",
              "        [0.9999999 ],\n",
              "        [1.        ],\n",
              "        [0.9999962 ],\n",
              "        [1.        ],\n",
              "        [1.        ],\n",
              "        [1.        ],\n",
              "        [1.        ],\n",
              "        [1.        ],\n",
              "        [1.        ],\n",
              "        [1.        ],\n",
              "        [1.        ],\n",
              "        [1.        ],\n",
              "        [1.        ],\n",
              "        [1.        ],\n",
              "        [1.        ],\n",
              "        [1.        ],\n",
              "        [1.        ],\n",
              "        [1.        ],\n",
              "        [1.        ],\n",
              "        [1.        ],\n",
              "        [1.        ],\n",
              "        [0.99997973],\n",
              "        [1.        ],\n",
              "        [1.        ],\n",
              "        [1.        ],\n",
              "        [1.        ],\n",
              "        [1.        ],\n",
              "        [1.        ],\n",
              "        [1.        ],\n",
              "        [1.        ],\n",
              "        [1.        ],\n",
              "        [1.        ],\n",
              "        [1.        ],\n",
              "        [1.        ],\n",
              "        [1.        ],\n",
              "        [1.        ],\n",
              "        [1.        ],\n",
              "        [1.        ],\n",
              "        [1.        ],\n",
              "        [1.        ],\n",
              "        [1.        ],\n",
              "        [1.        ],\n",
              "        [0.9999999 ],\n",
              "        [1.        ],\n",
              "        [1.        ],\n",
              "        [1.        ],\n",
              "        [1.        ],\n",
              "        [1.        ],\n",
              "        [1.        ],\n",
              "        [1.        ]], dtype=float32),\n",
              " 'Drum Kit (3) 1.mp3': array([[7.2695944e-04],\n",
              "        [1.0000000e+00],\n",
              "        [1.0000000e+00],\n",
              "        [1.0000000e+00],\n",
              "        [1.0000000e+00],\n",
              "        [9.9999893e-01],\n",
              "        [1.0000000e+00],\n",
              "        [1.0000000e+00],\n",
              "        [1.0000000e+00],\n",
              "        [1.0000000e+00],\n",
              "        [1.0000000e+00],\n",
              "        [9.9997187e-01],\n",
              "        [9.9999738e-01],\n",
              "        [9.9933881e-01],\n",
              "        [9.8417193e-01],\n",
              "        [9.8045921e-01],\n",
              "        [1.0000000e+00],\n",
              "        [1.0000000e+00],\n",
              "        [1.0000000e+00],\n",
              "        [1.0000000e+00],\n",
              "        [1.0000000e+00],\n",
              "        [9.9999416e-01],\n",
              "        [1.0000000e+00],\n",
              "        [1.0000000e+00],\n",
              "        [1.0000000e+00],\n",
              "        [1.0000000e+00],\n",
              "        [1.0000000e+00],\n",
              "        [9.9994898e-01],\n",
              "        [1.0000000e+00],\n",
              "        [1.0000000e+00],\n",
              "        [1.0000000e+00],\n",
              "        [1.0000000e+00],\n",
              "        [1.0000000e+00],\n",
              "        [9.9995983e-01],\n",
              "        [7.5857180e-01],\n",
              "        [8.9885312e-01],\n",
              "        [8.3312714e-01],\n",
              "        [6.5755635e-01],\n",
              "        [7.8200018e-01],\n",
              "        [3.2303607e-01],\n",
              "        [9.8933548e-01],\n",
              "        [8.7383270e-02],\n",
              "        [1.9744840e-01],\n",
              "        [1.0000000e+00],\n",
              "        [1.1295821e-01],\n",
              "        [1.0000000e+00],\n",
              "        [1.0000000e+00],\n",
              "        [1.0000000e+00],\n",
              "        [1.0000000e+00],\n",
              "        [1.0000000e+00],\n",
              "        [1.0000000e+00],\n",
              "        [9.9999464e-01],\n",
              "        [1.0000000e+00],\n",
              "        [1.0000000e+00],\n",
              "        [9.9999964e-01],\n",
              "        [9.9994326e-01],\n",
              "        [1.0000000e+00],\n",
              "        [9.9999964e-01],\n",
              "        [1.0000000e+00],\n",
              "        [1.0000000e+00]], dtype=float32),\n",
              " 'Drum Kit (4) 1.mp3': array([[1.0000000e+00],\n",
              "        [1.0000000e+00],\n",
              "        [1.0000000e+00],\n",
              "        [1.0000000e+00],\n",
              "        [1.0000000e+00],\n",
              "        [1.0000000e+00],\n",
              "        [1.0000000e+00],\n",
              "        [1.0000000e+00],\n",
              "        [5.2021496e-04],\n",
              "        [6.0370606e-01],\n",
              "        [5.5036217e-01],\n",
              "        [1.5857248e-06],\n",
              "        [1.0000000e+00],\n",
              "        [9.9999273e-01],\n",
              "        [9.9959618e-01],\n",
              "        [4.8457256e-01],\n",
              "        [1.0000000e+00],\n",
              "        [1.0000000e+00],\n",
              "        [9.9946076e-01],\n",
              "        [9.9986148e-01],\n",
              "        [1.0000000e+00],\n",
              "        [1.0000000e+00],\n",
              "        [9.9999881e-01],\n",
              "        [1.0000000e+00],\n",
              "        [1.0000000e+00],\n",
              "        [1.0000000e+00],\n",
              "        [1.0000000e+00],\n",
              "        [9.9999988e-01],\n",
              "        [9.9990356e-01],\n",
              "        [1.0000000e+00],\n",
              "        [1.0000000e+00],\n",
              "        [1.0000000e+00],\n",
              "        [1.0000000e+00],\n",
              "        [1.0000000e+00],\n",
              "        [1.0000000e+00],\n",
              "        [1.0000000e+00],\n",
              "        [1.0000000e+00],\n",
              "        [2.2273529e-03],\n",
              "        [7.5384068e-01],\n",
              "        [5.9485590e-01],\n",
              "        [4.5077747e-01],\n",
              "        [3.2990854e-02],\n",
              "        [4.3321821e-01],\n",
              "        [2.6752564e-01],\n",
              "        [5.6027800e-01],\n",
              "        [9.9898702e-01],\n",
              "        [1.0000000e+00],\n",
              "        [9.9999988e-01],\n",
              "        [9.9757189e-01],\n",
              "        [1.0000000e+00],\n",
              "        [1.0000000e+00],\n",
              "        [1.0000000e+00],\n",
              "        [1.0000000e+00],\n",
              "        [1.0000000e+00],\n",
              "        [1.0000000e+00],\n",
              "        [1.0000000e+00],\n",
              "        [1.0000000e+00],\n",
              "        [1.0000000e+00],\n",
              "        [1.0000000e+00],\n",
              "        [1.0000000e+00]], dtype=float32),\n",
              " 'Drum Kit (5) 1.mp3': array([[0.91683984],\n",
              "        [0.9177386 ],\n",
              "        [0.90794545],\n",
              "        [0.25723553],\n",
              "        [0.58439744],\n",
              "        [0.8403164 ],\n",
              "        [0.86283344],\n",
              "        [0.7629974 ],\n",
              "        [0.7878684 ],\n",
              "        [0.8402048 ],\n",
              "        [0.90668875],\n",
              "        [0.8751028 ],\n",
              "        [0.9008832 ],\n",
              "        [0.9465615 ],\n",
              "        [0.9996265 ],\n",
              "        [0.00122469],\n",
              "        [0.8035918 ],\n",
              "        [0.7411226 ],\n",
              "        [0.6763607 ],\n",
              "        [0.2760431 ],\n",
              "        [0.32767162],\n",
              "        [0.18577468],\n",
              "        [0.11402233],\n",
              "        [0.7979594 ],\n",
              "        [1.        ],\n",
              "        [0.9999958 ],\n",
              "        [1.        ],\n",
              "        [1.        ],\n",
              "        [1.        ],\n",
              "        [1.        ],\n",
              "        [1.        ],\n",
              "        [1.        ],\n",
              "        [1.        ],\n",
              "        [1.        ],\n",
              "        [1.        ],\n",
              "        [1.        ],\n",
              "        [1.        ],\n",
              "        [1.        ],\n",
              "        [1.        ],\n",
              "        [0.9999999 ],\n",
              "        [1.        ],\n",
              "        [1.        ],\n",
              "        [1.        ],\n",
              "        [0.9999963 ],\n",
              "        [1.        ],\n",
              "        [1.        ],\n",
              "        [1.        ],\n",
              "        [1.        ],\n",
              "        [1.        ],\n",
              "        [1.        ],\n",
              "        [1.        ],\n",
              "        [1.        ],\n",
              "        [1.        ],\n",
              "        [1.        ],\n",
              "        [1.        ],\n",
              "        [1.        ],\n",
              "        [1.        ],\n",
              "        [1.        ],\n",
              "        [1.        ],\n",
              "        [1.        ]], dtype=float32),\n",
              " 'Shayne Audio (1) 1.mp3': array([[1.5978537e-13],\n",
              "        [3.8787391e-02],\n",
              "        [0.0000000e+00],\n",
              "        [9.9999976e-01],\n",
              "        [2.0913264e-34],\n",
              "        [0.0000000e+00],\n",
              "        [0.0000000e+00],\n",
              "        [0.0000000e+00],\n",
              "        [0.0000000e+00],\n",
              "        [0.0000000e+00],\n",
              "        [0.0000000e+00],\n",
              "        [1.7374086e-38],\n",
              "        [1.2860757e-28],\n",
              "        [0.0000000e+00],\n",
              "        [2.8948768e-15],\n",
              "        [0.0000000e+00],\n",
              "        [3.4711590e-36],\n",
              "        [0.0000000e+00],\n",
              "        [0.0000000e+00],\n",
              "        [0.0000000e+00],\n",
              "        [1.0000000e+00],\n",
              "        [0.0000000e+00],\n",
              "        [0.0000000e+00],\n",
              "        [0.0000000e+00],\n",
              "        [0.0000000e+00],\n",
              "        [0.0000000e+00],\n",
              "        [3.7087157e-02],\n",
              "        [1.3332374e-01],\n",
              "        [0.0000000e+00],\n",
              "        [7.1178662e-12],\n",
              "        [0.0000000e+00],\n",
              "        [0.0000000e+00],\n",
              "        [0.0000000e+00],\n",
              "        [2.8223611e-32],\n",
              "        [0.0000000e+00],\n",
              "        [1.0797427e-27],\n",
              "        [0.0000000e+00],\n",
              "        [0.0000000e+00],\n",
              "        [3.8096278e-16],\n",
              "        [0.0000000e+00],\n",
              "        [0.0000000e+00],\n",
              "        [0.0000000e+00],\n",
              "        [0.0000000e+00],\n",
              "        [0.0000000e+00],\n",
              "        [0.0000000e+00],\n",
              "        [0.0000000e+00],\n",
              "        [0.0000000e+00],\n",
              "        [5.0000347e-20],\n",
              "        [0.0000000e+00],\n",
              "        [0.0000000e+00],\n",
              "        [0.0000000e+00],\n",
              "        [0.0000000e+00],\n",
              "        [0.0000000e+00],\n",
              "        [0.0000000e+00],\n",
              "        [1.5449910e-03],\n",
              "        [1.6046129e-02],\n",
              "        [4.5524733e-04],\n",
              "        [1.1737646e-02],\n",
              "        [5.5397062e-36],\n",
              "        [0.0000000e+00]], dtype=float32),\n",
              " 'Shayne Audio (2) 1.mp3': array([[0.0000000e+00],\n",
              "        [0.0000000e+00],\n",
              "        [0.0000000e+00],\n",
              "        [0.0000000e+00],\n",
              "        [5.8911516e-25],\n",
              "        [1.6876324e-08],\n",
              "        [0.0000000e+00],\n",
              "        [0.0000000e+00],\n",
              "        [3.6873161e-12],\n",
              "        [5.1103291e-30],\n",
              "        [0.0000000e+00],\n",
              "        [0.0000000e+00],\n",
              "        [0.0000000e+00],\n",
              "        [0.0000000e+00],\n",
              "        [0.0000000e+00],\n",
              "        [3.7586737e-01],\n",
              "        [0.0000000e+00],\n",
              "        [0.0000000e+00],\n",
              "        [5.3743439e-38],\n",
              "        [0.0000000e+00],\n",
              "        [0.0000000e+00],\n",
              "        [0.0000000e+00],\n",
              "        [4.7394829e-36],\n",
              "        [0.0000000e+00],\n",
              "        [0.0000000e+00],\n",
              "        [0.0000000e+00],\n",
              "        [7.8714720e-20],\n",
              "        [2.2763152e-01],\n",
              "        [1.9041659e-01],\n",
              "        [6.6859820e-03],\n",
              "        [2.4962176e-21],\n",
              "        [2.9861698e-20],\n",
              "        [4.7963820e-18],\n",
              "        [4.0293353e-28],\n",
              "        [0.0000000e+00],\n",
              "        [4.1842165e-09],\n",
              "        [5.6096793e-14],\n",
              "        [0.0000000e+00],\n",
              "        [0.0000000e+00],\n",
              "        [1.3579398e-16],\n",
              "        [0.0000000e+00],\n",
              "        [4.1391124e-10],\n",
              "        [5.1854462e-05],\n",
              "        [1.5385027e-21],\n",
              "        [0.0000000e+00],\n",
              "        [0.0000000e+00],\n",
              "        [1.2237470e-19],\n",
              "        [0.0000000e+00],\n",
              "        [0.0000000e+00],\n",
              "        [0.0000000e+00],\n",
              "        [0.0000000e+00],\n",
              "        [1.3069303e-15],\n",
              "        [0.0000000e+00],\n",
              "        [0.0000000e+00],\n",
              "        [0.0000000e+00],\n",
              "        [0.0000000e+00],\n",
              "        [0.0000000e+00],\n",
              "        [1.5610062e-13],\n",
              "        [0.0000000e+00],\n",
              "        [0.0000000e+00]], dtype=float32),\n",
              " 'Shayne Audio (3) 1.mp3': array([[1.9932256e-06],\n",
              "        [1.0000000e+00],\n",
              "        [0.0000000e+00],\n",
              "        [1.0000000e+00],\n",
              "        [0.0000000e+00],\n",
              "        [1.2476274e-03],\n",
              "        [1.0000000e+00],\n",
              "        [7.4368961e-02],\n",
              "        [9.9586174e-03],\n",
              "        [1.7245826e-05],\n",
              "        [3.3993620e-04],\n",
              "        [2.4466328e-03],\n",
              "        [5.1748251e-05],\n",
              "        [8.0309052e-04],\n",
              "        [2.8285835e-04],\n",
              "        [2.5289466e-03],\n",
              "        [4.4795529e-06],\n",
              "        [1.0000000e+00],\n",
              "        [1.0000000e+00],\n",
              "        [0.0000000e+00],\n",
              "        [9.7446764e-01],\n",
              "        [3.1678883e-14],\n",
              "        [9.9895028e-26],\n",
              "        [1.0000000e+00],\n",
              "        [9.9795473e-01],\n",
              "        [1.7994446e-03],\n",
              "        [8.0136821e-04],\n",
              "        [3.7061998e-06],\n",
              "        [3.3588400e-05],\n",
              "        [1.2740832e-04],\n",
              "        [0.0000000e+00],\n",
              "        [0.0000000e+00],\n",
              "        [0.0000000e+00],\n",
              "        [0.0000000e+00],\n",
              "        [0.0000000e+00],\n",
              "        [0.0000000e+00],\n",
              "        [0.0000000e+00],\n",
              "        [0.0000000e+00],\n",
              "        [5.1030558e-02],\n",
              "        [0.0000000e+00],\n",
              "        [0.0000000e+00],\n",
              "        [3.3795545e-28],\n",
              "        [9.2786718e-03],\n",
              "        [0.0000000e+00],\n",
              "        [1.0000000e+00],\n",
              "        [0.0000000e+00],\n",
              "        [0.0000000e+00],\n",
              "        [0.0000000e+00],\n",
              "        [0.0000000e+00],\n",
              "        [0.0000000e+00],\n",
              "        [9.9999988e-01],\n",
              "        [3.5465011e-04],\n",
              "        [2.3063493e-03],\n",
              "        [6.8005999e-03],\n",
              "        [2.0301677e-04],\n",
              "        [2.7223947e-04],\n",
              "        [1.5689296e-03],\n",
              "        [2.2471999e-04],\n",
              "        [1.6299049e-06],\n",
              "        [9.5043561e-07]], dtype=float32),\n",
              " 'Shayne Audio (4) 1.mp3': array([[1.18145138e-01],\n",
              "        [9.91151035e-01],\n",
              "        [9.39703523e-12],\n",
              "        [1.19208821e-08],\n",
              "        [1.00000000e+00],\n",
              "        [1.00000000e+00],\n",
              "        [0.00000000e+00],\n",
              "        [0.00000000e+00],\n",
              "        [0.00000000e+00],\n",
              "        [3.65013534e-25],\n",
              "        [0.00000000e+00],\n",
              "        [0.00000000e+00],\n",
              "        [9.99976873e-01],\n",
              "        [9.58100439e-12],\n",
              "        [9.85150278e-01],\n",
              "        [1.09938956e-05],\n",
              "        [2.97327200e-03],\n",
              "        [1.24876911e-04],\n",
              "        [3.49260925e-04],\n",
              "        [1.40117030e-04],\n",
              "        [0.00000000e+00],\n",
              "        [1.00000000e+00],\n",
              "        [0.00000000e+00],\n",
              "        [0.00000000e+00],\n",
              "        [2.50191142e-19],\n",
              "        [1.53338298e-01],\n",
              "        [0.00000000e+00],\n",
              "        [0.00000000e+00],\n",
              "        [5.31790568e-34],\n",
              "        [0.00000000e+00],\n",
              "        [1.00000000e+00],\n",
              "        [0.00000000e+00],\n",
              "        [0.00000000e+00],\n",
              "        [0.00000000e+00],\n",
              "        [1.18796806e-09],\n",
              "        [0.00000000e+00],\n",
              "        [0.00000000e+00],\n",
              "        [6.43711440e-36],\n",
              "        [3.92045741e-20],\n",
              "        [0.00000000e+00],\n",
              "        [0.00000000e+00],\n",
              "        [3.97143343e-12],\n",
              "        [0.00000000e+00],\n",
              "        [1.00000000e+00],\n",
              "        [6.55803771e-04],\n",
              "        [2.45948182e-03],\n",
              "        [2.55350769e-03],\n",
              "        [1.24583684e-03],\n",
              "        [3.66388820e-04],\n",
              "        [1.09926244e-04],\n",
              "        [1.98401487e-03],\n",
              "        [1.67852209e-03],\n",
              "        [4.14014373e-15],\n",
              "        [1.00000000e+00],\n",
              "        [0.00000000e+00],\n",
              "        [0.00000000e+00],\n",
              "        [0.00000000e+00],\n",
              "        [4.63487991e-17],\n",
              "        [7.95898602e-32],\n",
              "        [0.00000000e+00]], dtype=float32),\n",
              " 'Shayne Audio (5) 1.mp3': array([[1.76649854e-01],\n",
              "        [9.99999762e-01],\n",
              "        [1.00000000e+00],\n",
              "        [6.61743665e-03],\n",
              "        [2.56379414e-02],\n",
              "        [9.81086418e-02],\n",
              "        [4.10041586e-03],\n",
              "        [2.71753920e-03],\n",
              "        [1.66729419e-03],\n",
              "        [8.15011794e-04],\n",
              "        [0.00000000e+00],\n",
              "        [0.00000000e+00],\n",
              "        [6.23428747e-02],\n",
              "        [0.00000000e+00],\n",
              "        [0.00000000e+00],\n",
              "        [9.01344397e-26],\n",
              "        [9.98691261e-01],\n",
              "        [0.00000000e+00],\n",
              "        [0.00000000e+00],\n",
              "        [0.00000000e+00],\n",
              "        [0.00000000e+00],\n",
              "        [0.00000000e+00],\n",
              "        [0.00000000e+00],\n",
              "        [0.00000000e+00],\n",
              "        [0.00000000e+00],\n",
              "        [0.00000000e+00],\n",
              "        [0.00000000e+00],\n",
              "        [9.99998808e-01],\n",
              "        [0.00000000e+00],\n",
              "        [0.00000000e+00],\n",
              "        [0.00000000e+00],\n",
              "        [0.00000000e+00],\n",
              "        [0.00000000e+00],\n",
              "        [0.00000000e+00],\n",
              "        [0.00000000e+00],\n",
              "        [1.06528955e-32],\n",
              "        [0.00000000e+00],\n",
              "        [0.00000000e+00],\n",
              "        [4.89212620e-12],\n",
              "        [0.00000000e+00],\n",
              "        [9.01888644e-13],\n",
              "        [1.85124371e-02],\n",
              "        [9.61938157e-20],\n",
              "        [0.00000000e+00],\n",
              "        [0.00000000e+00],\n",
              "        [0.00000000e+00],\n",
              "        [1.00000000e+00],\n",
              "        [9.99602854e-01],\n",
              "        [3.59601378e-01],\n",
              "        [0.00000000e+00],\n",
              "        [0.00000000e+00],\n",
              "        [2.93948433e-18],\n",
              "        [1.00000000e+00],\n",
              "        [0.00000000e+00],\n",
              "        [0.00000000e+00],\n",
              "        [1.95067506e-02],\n",
              "        [1.01906842e-18],\n",
              "        [9.68234539e-01],\n",
              "        [8.45336914e-02],\n",
              "        [2.60072312e-07]], dtype=float32)}"
            ]
          },
          "metadata": {},
          "execution_count": 114
        }
      ]
    },
    {
      "cell_type": "markdown",
      "source": [
        "### 10.2 Convert Predictions into Classes"
      ],
      "metadata": {
        "id": "gJDYT8dE17Rs"
      }
    },
    {
      "cell_type": "code",
      "source": [
        "class_preds = {}\n",
        "for file, logits in results.items():\n",
        "    class_preds[file] = [1 if prediction > 0.99 else 0 for prediction in logits]\n",
        "class_preds"
      ],
      "metadata": {
        "id": "CYF5DDlD19xC",
        "colab": {
          "base_uri": "https://localhost:8080/"
        },
        "outputId": "4a8a0b88-0d83-45ea-90f2-c77948a8709b"
      },
      "execution_count": null,
      "outputs": [
        {
          "output_type": "execute_result",
          "data": {
            "text/plain": [
              "{'Chayce Audio (1) 1.mp3': [0,\n",
              "  0,\n",
              "  0,\n",
              "  0,\n",
              "  0,\n",
              "  0,\n",
              "  0,\n",
              "  0,\n",
              "  0,\n",
              "  0,\n",
              "  0,\n",
              "  0,\n",
              "  0,\n",
              "  0,\n",
              "  0,\n",
              "  0,\n",
              "  0,\n",
              "  0,\n",
              "  0,\n",
              "  0,\n",
              "  0,\n",
              "  0,\n",
              "  0,\n",
              "  0,\n",
              "  1,\n",
              "  1,\n",
              "  0,\n",
              "  0,\n",
              "  0,\n",
              "  0,\n",
              "  0,\n",
              "  0,\n",
              "  0,\n",
              "  0,\n",
              "  0,\n",
              "  0,\n",
              "  0,\n",
              "  0,\n",
              "  0,\n",
              "  0,\n",
              "  0,\n",
              "  0,\n",
              "  0,\n",
              "  0,\n",
              "  0,\n",
              "  0,\n",
              "  0,\n",
              "  0,\n",
              "  0,\n",
              "  0,\n",
              "  0,\n",
              "  0,\n",
              "  0,\n",
              "  0,\n",
              "  0,\n",
              "  0,\n",
              "  0,\n",
              "  0,\n",
              "  0,\n",
              "  1],\n",
              " 'Chayce Audio (2) 1.mp3': [1,\n",
              "  0,\n",
              "  0,\n",
              "  1,\n",
              "  1,\n",
              "  0,\n",
              "  0,\n",
              "  0,\n",
              "  0,\n",
              "  0,\n",
              "  1,\n",
              "  1,\n",
              "  0,\n",
              "  0,\n",
              "  0,\n",
              "  0,\n",
              "  0,\n",
              "  0,\n",
              "  0,\n",
              "  0,\n",
              "  0,\n",
              "  0,\n",
              "  0,\n",
              "  0,\n",
              "  0,\n",
              "  0,\n",
              "  0,\n",
              "  0,\n",
              "  0,\n",
              "  0,\n",
              "  0,\n",
              "  0,\n",
              "  0,\n",
              "  0,\n",
              "  0,\n",
              "  1,\n",
              "  0,\n",
              "  0,\n",
              "  0,\n",
              "  0,\n",
              "  0,\n",
              "  0,\n",
              "  0,\n",
              "  0,\n",
              "  1,\n",
              "  0,\n",
              "  0,\n",
              "  1,\n",
              "  0,\n",
              "  0,\n",
              "  0,\n",
              "  0,\n",
              "  1,\n",
              "  0,\n",
              "  0,\n",
              "  0,\n",
              "  0,\n",
              "  0,\n",
              "  0,\n",
              "  0],\n",
              " 'Chayce Audio (3) 1.mp3': [0,\n",
              "  0,\n",
              "  1,\n",
              "  1,\n",
              "  1,\n",
              "  0,\n",
              "  0,\n",
              "  0,\n",
              "  0,\n",
              "  1,\n",
              "  0,\n",
              "  0,\n",
              "  0,\n",
              "  1,\n",
              "  0,\n",
              "  0,\n",
              "  0,\n",
              "  0,\n",
              "  0,\n",
              "  0,\n",
              "  0,\n",
              "  0,\n",
              "  0,\n",
              "  0,\n",
              "  0,\n",
              "  0,\n",
              "  0,\n",
              "  0,\n",
              "  0,\n",
              "  0,\n",
              "  0,\n",
              "  0,\n",
              "  0,\n",
              "  0,\n",
              "  0,\n",
              "  0,\n",
              "  0,\n",
              "  0,\n",
              "  0,\n",
              "  0,\n",
              "  0,\n",
              "  0,\n",
              "  0,\n",
              "  0,\n",
              "  0,\n",
              "  0,\n",
              "  0,\n",
              "  0,\n",
              "  0,\n",
              "  0,\n",
              "  0,\n",
              "  0,\n",
              "  0,\n",
              "  0,\n",
              "  0,\n",
              "  0,\n",
              "  0,\n",
              "  0,\n",
              "  0,\n",
              "  1],\n",
              " 'Chayce Audio (4) 1.mp3': [1,\n",
              "  0,\n",
              "  1,\n",
              "  1,\n",
              "  1,\n",
              "  1,\n",
              "  1,\n",
              "  1,\n",
              "  0,\n",
              "  0,\n",
              "  0,\n",
              "  0,\n",
              "  0,\n",
              "  0,\n",
              "  0,\n",
              "  1,\n",
              "  1,\n",
              "  0,\n",
              "  0,\n",
              "  0,\n",
              "  0,\n",
              "  0,\n",
              "  0,\n",
              "  1,\n",
              "  1,\n",
              "  1,\n",
              "  0,\n",
              "  0,\n",
              "  0,\n",
              "  0,\n",
              "  0,\n",
              "  0,\n",
              "  0,\n",
              "  0,\n",
              "  0,\n",
              "  0,\n",
              "  0,\n",
              "  0,\n",
              "  0,\n",
              "  0,\n",
              "  0,\n",
              "  0,\n",
              "  1,\n",
              "  0,\n",
              "  0,\n",
              "  0,\n",
              "  0,\n",
              "  0,\n",
              "  0,\n",
              "  0,\n",
              "  0,\n",
              "  0,\n",
              "  0,\n",
              "  0,\n",
              "  0,\n",
              "  0,\n",
              "  0,\n",
              "  0,\n",
              "  0,\n",
              "  0],\n",
              " 'Chayce Audio (5) 1.mp3': [0,\n",
              "  0,\n",
              "  0,\n",
              "  0,\n",
              "  0,\n",
              "  0,\n",
              "  0,\n",
              "  0,\n",
              "  0,\n",
              "  0,\n",
              "  0,\n",
              "  0,\n",
              "  0,\n",
              "  0,\n",
              "  0,\n",
              "  0,\n",
              "  0,\n",
              "  0,\n",
              "  0,\n",
              "  0,\n",
              "  0,\n",
              "  0,\n",
              "  0,\n",
              "  0,\n",
              "  0,\n",
              "  0,\n",
              "  0,\n",
              "  0,\n",
              "  0,\n",
              "  0,\n",
              "  0,\n",
              "  0,\n",
              "  0,\n",
              "  0,\n",
              "  0,\n",
              "  0,\n",
              "  0,\n",
              "  0,\n",
              "  0,\n",
              "  0,\n",
              "  0,\n",
              "  0,\n",
              "  0,\n",
              "  0,\n",
              "  0,\n",
              "  0,\n",
              "  0,\n",
              "  0,\n",
              "  0,\n",
              "  0,\n",
              "  0,\n",
              "  0,\n",
              "  1,\n",
              "  0,\n",
              "  0,\n",
              "  0,\n",
              "  0,\n",
              "  0,\n",
              "  0,\n",
              "  0],\n",
              " 'Drum Kit (1) 1.mp3': [1,\n",
              "  1,\n",
              "  1,\n",
              "  1,\n",
              "  1,\n",
              "  1,\n",
              "  1,\n",
              "  1,\n",
              "  1,\n",
              "  1,\n",
              "  1,\n",
              "  1,\n",
              "  1,\n",
              "  1,\n",
              "  1,\n",
              "  1,\n",
              "  1,\n",
              "  1,\n",
              "  1,\n",
              "  1,\n",
              "  1,\n",
              "  1,\n",
              "  1,\n",
              "  1,\n",
              "  1,\n",
              "  1,\n",
              "  1,\n",
              "  1,\n",
              "  1,\n",
              "  1,\n",
              "  1,\n",
              "  1,\n",
              "  1,\n",
              "  1,\n",
              "  1,\n",
              "  1,\n",
              "  1,\n",
              "  1,\n",
              "  1,\n",
              "  1,\n",
              "  1,\n",
              "  1,\n",
              "  1,\n",
              "  1,\n",
              "  1,\n",
              "  1,\n",
              "  1,\n",
              "  1,\n",
              "  1,\n",
              "  1,\n",
              "  1,\n",
              "  1,\n",
              "  1,\n",
              "  1,\n",
              "  1,\n",
              "  1,\n",
              "  1,\n",
              "  1,\n",
              "  1,\n",
              "  1],\n",
              " 'Drum Kit (2) 1.mp3': [1,\n",
              "  1,\n",
              "  1,\n",
              "  1,\n",
              "  1,\n",
              "  1,\n",
              "  1,\n",
              "  1,\n",
              "  1,\n",
              "  1,\n",
              "  1,\n",
              "  1,\n",
              "  1,\n",
              "  1,\n",
              "  1,\n",
              "  1,\n",
              "  1,\n",
              "  1,\n",
              "  1,\n",
              "  1,\n",
              "  1,\n",
              "  1,\n",
              "  1,\n",
              "  1,\n",
              "  1,\n",
              "  1,\n",
              "  1,\n",
              "  1,\n",
              "  1,\n",
              "  1,\n",
              "  1,\n",
              "  1,\n",
              "  1,\n",
              "  1,\n",
              "  1,\n",
              "  1,\n",
              "  1,\n",
              "  1,\n",
              "  1,\n",
              "  1,\n",
              "  1,\n",
              "  1,\n",
              "  1,\n",
              "  1,\n",
              "  1,\n",
              "  1,\n",
              "  1,\n",
              "  1,\n",
              "  1,\n",
              "  1,\n",
              "  1,\n",
              "  1,\n",
              "  1,\n",
              "  1,\n",
              "  1,\n",
              "  1,\n",
              "  1,\n",
              "  1,\n",
              "  1,\n",
              "  1],\n",
              " 'Drum Kit (3) 1.mp3': [0,\n",
              "  1,\n",
              "  1,\n",
              "  1,\n",
              "  1,\n",
              "  1,\n",
              "  1,\n",
              "  1,\n",
              "  1,\n",
              "  1,\n",
              "  1,\n",
              "  1,\n",
              "  1,\n",
              "  1,\n",
              "  0,\n",
              "  0,\n",
              "  1,\n",
              "  1,\n",
              "  1,\n",
              "  1,\n",
              "  1,\n",
              "  1,\n",
              "  1,\n",
              "  1,\n",
              "  1,\n",
              "  1,\n",
              "  1,\n",
              "  1,\n",
              "  1,\n",
              "  1,\n",
              "  1,\n",
              "  1,\n",
              "  1,\n",
              "  1,\n",
              "  0,\n",
              "  0,\n",
              "  0,\n",
              "  0,\n",
              "  0,\n",
              "  0,\n",
              "  0,\n",
              "  0,\n",
              "  0,\n",
              "  1,\n",
              "  0,\n",
              "  1,\n",
              "  1,\n",
              "  1,\n",
              "  1,\n",
              "  1,\n",
              "  1,\n",
              "  1,\n",
              "  1,\n",
              "  1,\n",
              "  1,\n",
              "  1,\n",
              "  1,\n",
              "  1,\n",
              "  1,\n",
              "  1],\n",
              " 'Drum Kit (4) 1.mp3': [1,\n",
              "  1,\n",
              "  1,\n",
              "  1,\n",
              "  1,\n",
              "  1,\n",
              "  1,\n",
              "  1,\n",
              "  0,\n",
              "  0,\n",
              "  0,\n",
              "  0,\n",
              "  1,\n",
              "  1,\n",
              "  1,\n",
              "  0,\n",
              "  1,\n",
              "  1,\n",
              "  1,\n",
              "  1,\n",
              "  1,\n",
              "  1,\n",
              "  1,\n",
              "  1,\n",
              "  1,\n",
              "  1,\n",
              "  1,\n",
              "  1,\n",
              "  1,\n",
              "  1,\n",
              "  1,\n",
              "  1,\n",
              "  1,\n",
              "  1,\n",
              "  1,\n",
              "  1,\n",
              "  1,\n",
              "  0,\n",
              "  0,\n",
              "  0,\n",
              "  0,\n",
              "  0,\n",
              "  0,\n",
              "  0,\n",
              "  0,\n",
              "  1,\n",
              "  1,\n",
              "  1,\n",
              "  1,\n",
              "  1,\n",
              "  1,\n",
              "  1,\n",
              "  1,\n",
              "  1,\n",
              "  1,\n",
              "  1,\n",
              "  1,\n",
              "  1,\n",
              "  1,\n",
              "  1],\n",
              " 'Drum Kit (5) 1.mp3': [0,\n",
              "  0,\n",
              "  0,\n",
              "  0,\n",
              "  0,\n",
              "  0,\n",
              "  0,\n",
              "  0,\n",
              "  0,\n",
              "  0,\n",
              "  0,\n",
              "  0,\n",
              "  0,\n",
              "  0,\n",
              "  1,\n",
              "  0,\n",
              "  0,\n",
              "  0,\n",
              "  0,\n",
              "  0,\n",
              "  0,\n",
              "  0,\n",
              "  0,\n",
              "  0,\n",
              "  1,\n",
              "  1,\n",
              "  1,\n",
              "  1,\n",
              "  1,\n",
              "  1,\n",
              "  1,\n",
              "  1,\n",
              "  1,\n",
              "  1,\n",
              "  1,\n",
              "  1,\n",
              "  1,\n",
              "  1,\n",
              "  1,\n",
              "  1,\n",
              "  1,\n",
              "  1,\n",
              "  1,\n",
              "  1,\n",
              "  1,\n",
              "  1,\n",
              "  1,\n",
              "  1,\n",
              "  1,\n",
              "  1,\n",
              "  1,\n",
              "  1,\n",
              "  1,\n",
              "  1,\n",
              "  1,\n",
              "  1,\n",
              "  1,\n",
              "  1,\n",
              "  1,\n",
              "  1],\n",
              " 'Shayne Audio (1) 1.mp3': [0,\n",
              "  0,\n",
              "  0,\n",
              "  1,\n",
              "  0,\n",
              "  0,\n",
              "  0,\n",
              "  0,\n",
              "  0,\n",
              "  0,\n",
              "  0,\n",
              "  0,\n",
              "  0,\n",
              "  0,\n",
              "  0,\n",
              "  0,\n",
              "  0,\n",
              "  0,\n",
              "  0,\n",
              "  0,\n",
              "  1,\n",
              "  0,\n",
              "  0,\n",
              "  0,\n",
              "  0,\n",
              "  0,\n",
              "  0,\n",
              "  0,\n",
              "  0,\n",
              "  0,\n",
              "  0,\n",
              "  0,\n",
              "  0,\n",
              "  0,\n",
              "  0,\n",
              "  0,\n",
              "  0,\n",
              "  0,\n",
              "  0,\n",
              "  0,\n",
              "  0,\n",
              "  0,\n",
              "  0,\n",
              "  0,\n",
              "  0,\n",
              "  0,\n",
              "  0,\n",
              "  0,\n",
              "  0,\n",
              "  0,\n",
              "  0,\n",
              "  0,\n",
              "  0,\n",
              "  0,\n",
              "  0,\n",
              "  0,\n",
              "  0,\n",
              "  0,\n",
              "  0,\n",
              "  0],\n",
              " 'Shayne Audio (2) 1.mp3': [0,\n",
              "  0,\n",
              "  0,\n",
              "  0,\n",
              "  0,\n",
              "  0,\n",
              "  0,\n",
              "  0,\n",
              "  0,\n",
              "  0,\n",
              "  0,\n",
              "  0,\n",
              "  0,\n",
              "  0,\n",
              "  0,\n",
              "  0,\n",
              "  0,\n",
              "  0,\n",
              "  0,\n",
              "  0,\n",
              "  0,\n",
              "  0,\n",
              "  0,\n",
              "  0,\n",
              "  0,\n",
              "  0,\n",
              "  0,\n",
              "  0,\n",
              "  0,\n",
              "  0,\n",
              "  0,\n",
              "  0,\n",
              "  0,\n",
              "  0,\n",
              "  0,\n",
              "  0,\n",
              "  0,\n",
              "  0,\n",
              "  0,\n",
              "  0,\n",
              "  0,\n",
              "  0,\n",
              "  0,\n",
              "  0,\n",
              "  0,\n",
              "  0,\n",
              "  0,\n",
              "  0,\n",
              "  0,\n",
              "  0,\n",
              "  0,\n",
              "  0,\n",
              "  0,\n",
              "  0,\n",
              "  0,\n",
              "  0,\n",
              "  0,\n",
              "  0,\n",
              "  0,\n",
              "  0],\n",
              " 'Shayne Audio (3) 1.mp3': [0,\n",
              "  1,\n",
              "  0,\n",
              "  1,\n",
              "  0,\n",
              "  0,\n",
              "  1,\n",
              "  0,\n",
              "  0,\n",
              "  0,\n",
              "  0,\n",
              "  0,\n",
              "  0,\n",
              "  0,\n",
              "  0,\n",
              "  0,\n",
              "  0,\n",
              "  1,\n",
              "  1,\n",
              "  0,\n",
              "  0,\n",
              "  0,\n",
              "  0,\n",
              "  1,\n",
              "  1,\n",
              "  0,\n",
              "  0,\n",
              "  0,\n",
              "  0,\n",
              "  0,\n",
              "  0,\n",
              "  0,\n",
              "  0,\n",
              "  0,\n",
              "  0,\n",
              "  0,\n",
              "  0,\n",
              "  0,\n",
              "  0,\n",
              "  0,\n",
              "  0,\n",
              "  0,\n",
              "  0,\n",
              "  0,\n",
              "  1,\n",
              "  0,\n",
              "  0,\n",
              "  0,\n",
              "  0,\n",
              "  0,\n",
              "  1,\n",
              "  0,\n",
              "  0,\n",
              "  0,\n",
              "  0,\n",
              "  0,\n",
              "  0,\n",
              "  0,\n",
              "  0,\n",
              "  0],\n",
              " 'Shayne Audio (4) 1.mp3': [0,\n",
              "  1,\n",
              "  0,\n",
              "  0,\n",
              "  1,\n",
              "  1,\n",
              "  0,\n",
              "  0,\n",
              "  0,\n",
              "  0,\n",
              "  0,\n",
              "  0,\n",
              "  1,\n",
              "  0,\n",
              "  0,\n",
              "  0,\n",
              "  0,\n",
              "  0,\n",
              "  0,\n",
              "  0,\n",
              "  0,\n",
              "  1,\n",
              "  0,\n",
              "  0,\n",
              "  0,\n",
              "  0,\n",
              "  0,\n",
              "  0,\n",
              "  0,\n",
              "  0,\n",
              "  1,\n",
              "  0,\n",
              "  0,\n",
              "  0,\n",
              "  0,\n",
              "  0,\n",
              "  0,\n",
              "  0,\n",
              "  0,\n",
              "  0,\n",
              "  0,\n",
              "  0,\n",
              "  0,\n",
              "  1,\n",
              "  0,\n",
              "  0,\n",
              "  0,\n",
              "  0,\n",
              "  0,\n",
              "  0,\n",
              "  0,\n",
              "  0,\n",
              "  0,\n",
              "  1,\n",
              "  0,\n",
              "  0,\n",
              "  0,\n",
              "  0,\n",
              "  0,\n",
              "  0],\n",
              " 'Shayne Audio (5) 1.mp3': [0,\n",
              "  1,\n",
              "  1,\n",
              "  0,\n",
              "  0,\n",
              "  0,\n",
              "  0,\n",
              "  0,\n",
              "  0,\n",
              "  0,\n",
              "  0,\n",
              "  0,\n",
              "  0,\n",
              "  0,\n",
              "  0,\n",
              "  0,\n",
              "  1,\n",
              "  0,\n",
              "  0,\n",
              "  0,\n",
              "  0,\n",
              "  0,\n",
              "  0,\n",
              "  0,\n",
              "  0,\n",
              "  0,\n",
              "  0,\n",
              "  1,\n",
              "  0,\n",
              "  0,\n",
              "  0,\n",
              "  0,\n",
              "  0,\n",
              "  0,\n",
              "  0,\n",
              "  0,\n",
              "  0,\n",
              "  0,\n",
              "  0,\n",
              "  0,\n",
              "  0,\n",
              "  0,\n",
              "  0,\n",
              "  0,\n",
              "  0,\n",
              "  0,\n",
              "  1,\n",
              "  1,\n",
              "  0,\n",
              "  0,\n",
              "  0,\n",
              "  0,\n",
              "  1,\n",
              "  0,\n",
              "  0,\n",
              "  0,\n",
              "  0,\n",
              "  0,\n",
              "  0,\n",
              "  0]}"
            ]
          },
          "metadata": {},
          "execution_count": 115
        }
      ]
    },
    {
      "cell_type": "code",
      "source": [
        "# For each recording, there is a prediction for every set of slices within\n",
        "# othat audio file.\n",
        "# Intrepetting it like this can be a bit difficult, so below code will be\n",
        "# used to convert all predictions into classes."
      ],
      "metadata": {
        "id": "O6DMOkZA-5yu"
      },
      "execution_count": null,
      "outputs": []
    },
    {
      "cell_type": "markdown",
      "source": [
        "### 10.3 Group Consecutive Detections"
      ],
      "metadata": {
        "id": "Hagvxq-w2Cyw"
      }
    },
    {
      "cell_type": "code",
      "source": [
        "postprocessed = {}\n",
        "for file, scores in class_preds.items():\n",
        "    postprocessed[file] = tf.math.reduce_sum([key for key, group in groupby(scores)]).numpy()\n",
        "postprocessed"
      ],
      "metadata": {
        "id": "ZZo6WZvo2Gil",
        "colab": {
          "base_uri": "https://localhost:8080/"
        },
        "outputId": "44c7c595-81f7-404b-ba4b-3f5cdfe81ed4"
      },
      "execution_count": null,
      "outputs": [
        {
          "output_type": "execute_result",
          "data": {
            "text/plain": [
              "{'Chayce Audio (1) 1.mp3': 2,\n",
              " 'Chayce Audio (2) 1.mp3': 7,\n",
              " 'Chayce Audio (3) 1.mp3': 4,\n",
              " 'Chayce Audio (4) 1.mp3': 5,\n",
              " 'Chayce Audio (5) 1.mp3': 1,\n",
              " 'Drum Kit (1) 1.mp3': 1,\n",
              " 'Drum Kit (2) 1.mp3': 1,\n",
              " 'Drum Kit (3) 1.mp3': 4,\n",
              " 'Drum Kit (4) 1.mp3': 4,\n",
              " 'Drum Kit (5) 1.mp3': 2,\n",
              " 'Shayne Audio (1) 1.mp3': 2,\n",
              " 'Shayne Audio (2) 1.mp3': 0,\n",
              " 'Shayne Audio (3) 1.mp3': 7,\n",
              " 'Shayne Audio (4) 1.mp3': 7,\n",
              " 'Shayne Audio (5) 1.mp3': 5}"
            ]
          },
          "metadata": {},
          "execution_count": 116
        }
      ]
    },
    {
      "cell_type": "markdown",
      "source": [
        "## 11. Export Results"
      ],
      "metadata": {
        "id": "P0zir-Rv2Ksx"
      }
    },
    {
      "cell_type": "code",
      "source": [
        "import csv"
      ],
      "metadata": {
        "id": "T-EKAHwa2Nfs"
      },
      "execution_count": null,
      "outputs": []
    },
    {
      "cell_type": "code",
      "source": [
        "with open('Density of Drum Kit Signals.csv', 'w', newline='') as f:\n",
        "    writer = csv.writer(f, delimiter=',')\n",
        "    writer.writerow(['Recording', 'Drum_Kit_Signal'])\n",
        "    for key, value in postprocessed.items():\n",
        "        writer.writerow([key, value])"
      ],
      "metadata": {
        "id": "IjurGN-P2Quq"
      },
      "execution_count": null,
      "outputs": []
    },
    {
      "cell_type": "code",
      "source": [
        "# The model and final results can be used to engineer the A.I. for the \n",
        "# microphones. They will be used to increase the A.I.'s efficiency and ability \n",
        "# to detect and remove any unwanted signal before the signal is sent out of\n",
        "# the microphone and onto the audio interface."
      ],
      "metadata": {
        "id": "iYSPFxDb_HLa"
      },
      "execution_count": null,
      "outputs": []
    }
  ]
}
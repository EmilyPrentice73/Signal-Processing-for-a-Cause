{
  "nbformat": 4,
  "nbformat_minor": 0,
  "metadata": {
    "colab": {
      "name": "[Edited]_Female_Vocal_Deep_Audio_Classifier.ipynb",
      "provenance": [],
      "machine_shape": "hm",
      "collapsed_sections": [
        "Dx00juL2yDKW",
        "_ruD5-OUya0a",
        "23uJQNFwyfLQ",
        "z7bVC4KSylzz",
        "aE6KdkzMyxSd",
        "KUTPTgGAzHqo",
        "Pc6807srzhqu",
        "90b7yZAi03tY",
        "7Ztg-e-61BFr",
        "iz0Tq_Ig1QAP",
        "tirZLrrC1sLH",
        "gJDYT8dE17Rs",
        "Hagvxq-w2Cyw"
      ]
    },
    "kernelspec": {
      "name": "python3",
      "display_name": "Python 3"
    },
    "language_info": {
      "name": "python"
    },
    "gpuClass": "standard",
    "accelerator": "GPU"
  },
  "cells": [
    {
      "cell_type": "markdown",
      "source": [
        "## 1. Import and Install Dependencies"
      ],
      "metadata": {
        "id": "3KANuendfX40"
      }
    },
    {
      "cell_type": "markdown",
      "source": [
        "### 1.1 Install Dependencies"
      ],
      "metadata": {
        "id": "eC6TJji0fkVg"
      }
    },
    {
      "cell_type": "code",
      "execution_count": 1,
      "metadata": {
        "id": "yeBgQfb0cWkm",
        "colab": {
          "base_uri": "https://localhost:8080/"
        },
        "outputId": "148c7c37-eb79-4a29-af0f-411bc33196ce"
      },
      "outputs": [
        {
          "output_type": "stream",
          "name": "stdout",
          "text": [
            "Looking in indexes: https://pypi.org/simple, https://us-python.pkg.dev/colab-wheels/public/simple/\n",
            "Requirement already satisfied: tensorflow in /usr/local/lib/python3.7/dist-packages (2.8.2+zzzcolab20220629235552)\n",
            "Collecting tensorflow-gpu\n",
            "  Downloading tensorflow_gpu-2.9.1-cp37-cp37m-manylinux_2_17_x86_64.manylinux2014_x86_64.whl (511.7 MB)\n",
            "\u001b[K     |████████████████████████████████| 511.7 MB 4.8 kB/s \n",
            "\u001b[?25hCollecting tensorflow-io\n",
            "  Downloading tensorflow_io-0.26.0-cp37-cp37m-manylinux_2_12_x86_64.manylinux2010_x86_64.whl (25.9 MB)\n",
            "\u001b[K     |████████████████████████████████| 25.9 MB 7.2 MB/s \n",
            "\u001b[?25hRequirement already satisfied: matplotlib in /usr/local/lib/python3.7/dist-packages (3.2.2)\n",
            "Requirement already satisfied: keras<2.9,>=2.8.0rc0 in /usr/local/lib/python3.7/dist-packages (from tensorflow) (2.8.0)\n",
            "Requirement already satisfied: tensorflow-io-gcs-filesystem>=0.23.1 in /usr/local/lib/python3.7/dist-packages (from tensorflow) (0.26.0)\n",
            "Requirement already satisfied: protobuf<3.20,>=3.9.2 in /usr/local/lib/python3.7/dist-packages (from tensorflow) (3.17.3)\n",
            "Requirement already satisfied: wrapt>=1.11.0 in /usr/local/lib/python3.7/dist-packages (from tensorflow) (1.14.1)\n",
            "Requirement already satisfied: grpcio<2.0,>=1.24.3 in /usr/local/lib/python3.7/dist-packages (from tensorflow) (1.47.0)\n",
            "Requirement already satisfied: absl-py>=0.4.0 in /usr/local/lib/python3.7/dist-packages (from tensorflow) (1.1.0)\n",
            "Requirement already satisfied: h5py>=2.9.0 in /usr/local/lib/python3.7/dist-packages (from tensorflow) (3.1.0)\n",
            "Requirement already satisfied: setuptools in /usr/local/lib/python3.7/dist-packages (from tensorflow) (57.4.0)\n",
            "Requirement already satisfied: google-pasta>=0.1.1 in /usr/local/lib/python3.7/dist-packages (from tensorflow) (0.2.0)\n",
            "Requirement already satisfied: tensorflow-estimator<2.9,>=2.8 in /usr/local/lib/python3.7/dist-packages (from tensorflow) (2.8.0)\n",
            "Requirement already satisfied: tensorboard<2.9,>=2.8 in /usr/local/lib/python3.7/dist-packages (from tensorflow) (2.8.0)\n",
            "Requirement already satisfied: keras-preprocessing>=1.1.1 in /usr/local/lib/python3.7/dist-packages (from tensorflow) (1.1.2)\n",
            "Requirement already satisfied: flatbuffers>=1.12 in /usr/local/lib/python3.7/dist-packages (from tensorflow) (2.0)\n",
            "Requirement already satisfied: opt-einsum>=2.3.2 in /usr/local/lib/python3.7/dist-packages (from tensorflow) (3.3.0)\n",
            "Requirement already satisfied: astunparse>=1.6.0 in /usr/local/lib/python3.7/dist-packages (from tensorflow) (1.6.3)\n",
            "Requirement already satisfied: libclang>=9.0.1 in /usr/local/lib/python3.7/dist-packages (from tensorflow) (14.0.1)\n",
            "Requirement already satisfied: numpy>=1.20 in /usr/local/lib/python3.7/dist-packages (from tensorflow) (1.21.6)\n",
            "Requirement already satisfied: termcolor>=1.1.0 in /usr/local/lib/python3.7/dist-packages (from tensorflow) (1.1.0)\n",
            "Requirement already satisfied: gast>=0.2.1 in /usr/local/lib/python3.7/dist-packages (from tensorflow) (0.5.3)\n",
            "Requirement already satisfied: six>=1.12.0 in /usr/local/lib/python3.7/dist-packages (from tensorflow) (1.15.0)\n",
            "Requirement already satisfied: typing-extensions>=3.6.6 in /usr/local/lib/python3.7/dist-packages (from tensorflow) (4.1.1)\n",
            "Requirement already satisfied: wheel<1.0,>=0.23.0 in /usr/local/lib/python3.7/dist-packages (from astunparse>=1.6.0->tensorflow) (0.37.1)\n",
            "Requirement already satisfied: cached-property in /usr/local/lib/python3.7/dist-packages (from h5py>=2.9.0->tensorflow) (1.5.2)\n",
            "Requirement already satisfied: google-auth-oauthlib<0.5,>=0.4.1 in /usr/local/lib/python3.7/dist-packages (from tensorboard<2.9,>=2.8->tensorflow) (0.4.6)\n",
            "Requirement already satisfied: requests<3,>=2.21.0 in /usr/local/lib/python3.7/dist-packages (from tensorboard<2.9,>=2.8->tensorflow) (2.23.0)\n",
            "Requirement already satisfied: tensorboard-plugin-wit>=1.6.0 in /usr/local/lib/python3.7/dist-packages (from tensorboard<2.9,>=2.8->tensorflow) (1.8.1)\n",
            "Requirement already satisfied: google-auth<3,>=1.6.3 in /usr/local/lib/python3.7/dist-packages (from tensorboard<2.9,>=2.8->tensorflow) (1.35.0)\n",
            "Requirement already satisfied: markdown>=2.6.8 in /usr/local/lib/python3.7/dist-packages (from tensorboard<2.9,>=2.8->tensorflow) (3.3.7)\n",
            "Requirement already satisfied: werkzeug>=0.11.15 in /usr/local/lib/python3.7/dist-packages (from tensorboard<2.9,>=2.8->tensorflow) (1.0.1)\n",
            "Requirement already satisfied: tensorboard-data-server<0.7.0,>=0.6.0 in /usr/local/lib/python3.7/dist-packages (from tensorboard<2.9,>=2.8->tensorflow) (0.6.1)\n",
            "Requirement already satisfied: pyasn1-modules>=0.2.1 in /usr/local/lib/python3.7/dist-packages (from google-auth<3,>=1.6.3->tensorboard<2.9,>=2.8->tensorflow) (0.2.8)\n",
            "Requirement already satisfied: rsa<5,>=3.1.4 in /usr/local/lib/python3.7/dist-packages (from google-auth<3,>=1.6.3->tensorboard<2.9,>=2.8->tensorflow) (4.8)\n",
            "Requirement already satisfied: cachetools<5.0,>=2.0.0 in /usr/local/lib/python3.7/dist-packages (from google-auth<3,>=1.6.3->tensorboard<2.9,>=2.8->tensorflow) (4.2.4)\n",
            "Requirement already satisfied: requests-oauthlib>=0.7.0 in /usr/local/lib/python3.7/dist-packages (from google-auth-oauthlib<0.5,>=0.4.1->tensorboard<2.9,>=2.8->tensorflow) (1.3.1)\n",
            "Requirement already satisfied: importlib-metadata>=4.4 in /usr/local/lib/python3.7/dist-packages (from markdown>=2.6.8->tensorboard<2.9,>=2.8->tensorflow) (4.12.0)\n",
            "Requirement already satisfied: zipp>=0.5 in /usr/local/lib/python3.7/dist-packages (from importlib-metadata>=4.4->markdown>=2.6.8->tensorboard<2.9,>=2.8->tensorflow) (3.8.0)\n",
            "Requirement already satisfied: pyasn1<0.5.0,>=0.4.6 in /usr/local/lib/python3.7/dist-packages (from pyasn1-modules>=0.2.1->google-auth<3,>=1.6.3->tensorboard<2.9,>=2.8->tensorflow) (0.4.8)\n",
            "Requirement already satisfied: certifi>=2017.4.17 in /usr/local/lib/python3.7/dist-packages (from requests<3,>=2.21.0->tensorboard<2.9,>=2.8->tensorflow) (2022.6.15)\n",
            "Requirement already satisfied: urllib3!=1.25.0,!=1.25.1,<1.26,>=1.21.1 in /usr/local/lib/python3.7/dist-packages (from requests<3,>=2.21.0->tensorboard<2.9,>=2.8->tensorflow) (1.24.3)\n",
            "Requirement already satisfied: idna<3,>=2.5 in /usr/local/lib/python3.7/dist-packages (from requests<3,>=2.21.0->tensorboard<2.9,>=2.8->tensorflow) (2.10)\n",
            "Requirement already satisfied: chardet<4,>=3.0.2 in /usr/local/lib/python3.7/dist-packages (from requests<3,>=2.21.0->tensorboard<2.9,>=2.8->tensorflow) (3.0.4)\n",
            "Requirement already satisfied: oauthlib>=3.0.0 in /usr/local/lib/python3.7/dist-packages (from requests-oauthlib>=0.7.0->google-auth-oauthlib<0.5,>=0.4.1->tensorboard<2.9,>=2.8->tensorflow) (3.2.0)\n",
            "Collecting tensorflow-gpu\n",
            "  Downloading tensorflow_gpu-2.9.0-cp37-cp37m-manylinux_2_17_x86_64.manylinux2014_x86_64.whl (511.7 MB)\n",
            "\u001b[K     |████████████████████████████████| 511.7 MB 3.9 kB/s \n",
            "\u001b[?25h  Downloading tensorflow_gpu-2.8.2-cp37-cp37m-manylinux2010_x86_64.whl (497.9 MB)\n",
            "\u001b[K     |████████████████████████████████| 497.9 MB 15 kB/s \n",
            "\u001b[?25hRequirement already satisfied: python-dateutil>=2.1 in /usr/local/lib/python3.7/dist-packages (from matplotlib) (2.8.2)\n",
            "Requirement already satisfied: pyparsing!=2.0.4,!=2.1.2,!=2.1.6,>=2.0.1 in /usr/local/lib/python3.7/dist-packages (from matplotlib) (3.0.9)\n",
            "Requirement already satisfied: cycler>=0.10 in /usr/local/lib/python3.7/dist-packages (from matplotlib) (0.11.0)\n",
            "Requirement already satisfied: kiwisolver>=1.0.1 in /usr/local/lib/python3.7/dist-packages (from matplotlib) (1.4.3)\n",
            "Installing collected packages: tensorflow-io, tensorflow-gpu\n",
            "Successfully installed tensorflow-gpu-2.8.2 tensorflow-io-0.26.0\n"
          ]
        }
      ],
      "source": [
        "!pip install tensorflow tensorflow-gpu tensorflow-io matplotlib\n",
        "# tensorflow-gpu will be needed since a cuda enabled gpu is being used\n",
        "# tensorflow-io will be used for audio processing\n",
        "# matplot lib will be used to visualize the results"
      ]
    },
    {
      "cell_type": "markdown",
      "source": [
        "### 1.2 Load Dependencies"
      ],
      "metadata": {
        "id": "vnB93lZXg2QU"
      }
    },
    {
      "cell_type": "code",
      "source": [
        "import os\n",
        "# This dependency will make it easier to navigate through the directories.\n",
        "from matplotlib import pyplot as plt\n",
        "# This dependency will make it easier to visualize the results and the waveforms\n",
        "# once the audio files have been converted.\n",
        "import tensorflow as tf\n",
        "# This dependency will be used to build the deep learning model.\n",
        "import tensorflow_io as tfio\n",
        "# This dependency makes it easier to process the audio clips and convert them\n",
        "# into a usable format."
      ],
      "metadata": {
        "id": "sPTxLWYwfq41"
      },
      "execution_count": 1,
      "outputs": []
    },
    {
      "cell_type": "markdown",
      "source": [
        "## 2. Build Data Loading Function"
      ],
      "metadata": {
        "id": "fOD9EW8VhDI9"
      }
    },
    {
      "cell_type": "markdown",
      "source": [
        "### 2.1 Define Paths to Files"
      ],
      "metadata": {
        "id": "kdjSHYtkhGuw"
      }
    },
    {
      "cell_type": "code",
      "source": [
        "# Here a path will be defined to a single clip and confirming the path works.\n",
        "# We will create paths to both the male vocal files and the female vocal files."
      ],
      "metadata": {
        "id": "XZ1flcEsg_pL"
      },
      "execution_count": null,
      "outputs": []
    },
    {
      "cell_type": "code",
      "source": [
        "from google.colab import drive\n",
        "drive.mount('/content/drive')\n",
        "# Since Google Colab is being used, the corresponding Google Drive will need to \n",
        "# be mounted to the project in order to access the data saved on it."
      ],
      "metadata": {
        "colab": {
          "base_uri": "https://localhost:8080/"
        },
        "id": "I82ZSZ_KhPO9",
        "outputId": "d7240f6e-7daf-439a-8e11-920ec13100b9"
      },
      "execution_count": 2,
      "outputs": [
        {
          "output_type": "stream",
          "name": "stdout",
          "text": [
            "Drive already mounted at /content/drive; to attempt to forcibly remount, call drive.mount(\"/content/drive\", force_remount=True).\n"
          ]
        }
      ]
    },
    {
      "cell_type": "code",
      "source": [
        "# Below code below is defining the paths to the files and testing them."
      ],
      "metadata": {
        "id": "Y9XtnDBohR_k"
      },
      "execution_count": null,
      "outputs": []
    },
    {
      "cell_type": "code",
      "source": [
        "FEMALE_PATH = '/content/drive/My Drive/Colab Notebooks/Data 2/Female Vocal/'"
      ],
      "metadata": {
        "id": "wsEj0n9dltKV"
      },
      "execution_count": 3,
      "outputs": []
    },
    {
      "cell_type": "code",
      "source": [
        "FEMALE_VOCAL_FILE = os.path.join(FEMALE_PATH, 'arpeggios_straight_a.wav')"
      ],
      "metadata": {
        "id": "sXhLWhsUhhal"
      },
      "execution_count": 4,
      "outputs": []
    },
    {
      "cell_type": "code",
      "source": [
        "FEMALE_VOCAL_FILE"
      ],
      "metadata": {
        "colab": {
          "base_uri": "https://localhost:8080/",
          "height": 35
        },
        "id": "3mmCvhe0pswW",
        "outputId": "d5c1a15b-ae1f-48d6-fd60-2d42de4a9eef"
      },
      "execution_count": 5,
      "outputs": [
        {
          "output_type": "execute_result",
          "data": {
            "text/plain": [
              "'/content/drive/My Drive/Colab Notebooks/Data 2/Female Vocal/arpeggios_straight_a.wav'"
            ],
            "application/vnd.google.colaboratory.intrinsic+json": {
              "type": "string"
            }
          },
          "metadata": {},
          "execution_count": 5
        }
      ]
    },
    {
      "cell_type": "code",
      "source": [
        "MALE_PATH = '/content/drive/My Drive/Colab Notebooks/Data 2/Male Vocal/'"
      ],
      "metadata": {
        "id": "mLaOFZWAl2Q7"
      },
      "execution_count": 6,
      "outputs": []
    },
    {
      "cell_type": "code",
      "source": [
        "MALE_VOCAL_FILE = os.path.join(MALE_PATH, 'm4_arpeggios_c_slow_forte_a.wav')"
      ],
      "metadata": {
        "id": "n16z1K5UjADZ"
      },
      "execution_count": 7,
      "outputs": []
    },
    {
      "cell_type": "code",
      "source": [
        "MALE_VOCAL_FILE"
      ],
      "metadata": {
        "colab": {
          "base_uri": "https://localhost:8080/",
          "height": 35
        },
        "id": "Mgl7Deqhjz2I",
        "outputId": "105e7b97-ccae-403f-aa06-912e6fc656c8"
      },
      "execution_count": 8,
      "outputs": [
        {
          "output_type": "execute_result",
          "data": {
            "text/plain": [
              "'/content/drive/My Drive/Colab Notebooks/Data 2/Male Vocal/m4_arpeggios_c_slow_forte_a.wav'"
            ],
            "application/vnd.google.colaboratory.intrinsic+json": {
              "type": "string"
            }
          },
          "metadata": {},
          "execution_count": 8
        }
      ]
    },
    {
      "cell_type": "code",
      "source": [
        "# The paths to both types of files are set up correctly."
      ],
      "metadata": {
        "id": "YpqFi8JEj9Hx"
      },
      "execution_count": null,
      "outputs": []
    },
    {
      "cell_type": "markdown",
      "source": [
        "### 2.2 Build Dataloading Function"
      ],
      "metadata": {
        "id": "x2QyF8pWkTk0"
      }
    },
    {
      "cell_type": "code",
      "source": [
        "def load_wav_16k_mono(filename):\n",
        "# This code will load in our audio data and convert it to 16 Hz (16k) in a\n",
        "# single channel (mono).\n",
        "    file_contents = tf.io.read_file(filename)\n",
        "    wav, sample_rate = tf.audio.decode_wav(file_contents, desired_channels=1)\n",
        "    # The above two lines of code will be used to convert the audio file into a \n",
        "    # waveform.\n",
        "    wav = tf.squeeze(wav, axis=-1)\n",
        "    # This coding removes the trailing axis\n",
        "    sample_rate = tf.cast(sample_rate, dtype=tf.int64) \n",
        "    wav = tfio.audio.resample(wav, rate_in=sample_rate, rate_out=16000)\n",
        "    # The above two lines of code will convert the audio file from 44100Hz to \n",
        "    # 1600hz, which is the amplitude of the audio signal.\n",
        "    return wav \n",
        "# This code is adapted from the dataloading function found in the tensorflow \n",
        "# documentation."
      ],
      "metadata": {
        "id": "MQVnurCIqE-d"
      },
      "execution_count": 9,
      "outputs": []
    },
    {
      "cell_type": "code",
      "source": [
        "file_contents = tf.io.read_file(FEMALE_VOCAL_FILE)"
      ],
      "metadata": {
        "id": "TlUcICdhqPvS"
      },
      "execution_count": 10,
      "outputs": []
    },
    {
      "cell_type": "code",
      "source": [
        "wav, sample_rate = tf.audio.decode_wav(file_contents, desired_channels=1)"
      ],
      "metadata": {
        "id": "SgC-5mvOqW6_"
      },
      "execution_count": 11,
      "outputs": []
    },
    {
      "cell_type": "code",
      "source": [
        "wav"
      ],
      "metadata": {
        "colab": {
          "base_uri": "https://localhost:8080/"
        },
        "id": "NGbNNKTeqaga",
        "outputId": "7dc517ce-72a3-4548-826a-258960769bea"
      },
      "execution_count": 12,
      "outputs": [
        {
          "output_type": "execute_result",
          "data": {
            "text/plain": [
              "<tf.Tensor: shape=(289037, 1), dtype=float32, numpy=\n",
              "array([[9.1552734e-05],\n",
              "       [9.1552734e-05],\n",
              "       [9.1552734e-05],\n",
              "       ...,\n",
              "       [1.8310547e-04],\n",
              "       [1.8310547e-04],\n",
              "       [1.5258789e-04]], dtype=float32)>"
            ]
          },
          "metadata": {},
          "execution_count": 12
        }
      ]
    },
    {
      "cell_type": "code",
      "source": [
        "sample_rate"
      ],
      "metadata": {
        "colab": {
          "base_uri": "https://localhost:8080/"
        },
        "id": "_0681DGeqhFs",
        "outputId": "ca504fc7-4836-4c75-c333-09127068d348"
      },
      "execution_count": 13,
      "outputs": [
        {
          "output_type": "execute_result",
          "data": {
            "text/plain": [
              "<tf.Tensor: shape=(), dtype=int32, numpy=44100>"
            ]
          },
          "metadata": {},
          "execution_count": 13
        }
      ]
    },
    {
      "cell_type": "code",
      "source": [
        "len(wav)"
      ],
      "metadata": {
        "colab": {
          "base_uri": "https://localhost:8080/"
        },
        "id": "SZ8T_cvZqoJP",
        "outputId": "edbd683f-0ffb-415f-85a0-8eabdfaf80f3"
      },
      "execution_count": 14,
      "outputs": [
        {
          "output_type": "execute_result",
          "data": {
            "text/plain": [
              "289037"
            ]
          },
          "metadata": {},
          "execution_count": 14
        }
      ]
    },
    {
      "cell_type": "code",
      "source": [
        "!pip install tensorflow_io==0.23.1\n",
        "# The above had to be install for the Dataloading Function to work in Google\n",
        "# Colab."
      ],
      "metadata": {
        "colab": {
          "base_uri": "https://localhost:8080/",
          "height": 409
        },
        "id": "Xa7HNV_Gkdn2",
        "outputId": "a0b873ba-b19d-416d-a659-945ad46d5358"
      },
      "execution_count": 16,
      "outputs": [
        {
          "output_type": "stream",
          "name": "stdout",
          "text": [
            "Looking in indexes: https://pypi.org/simple, https://us-python.pkg.dev/colab-wheels/public/simple/\n",
            "Collecting tensorflow_io==0.23.1\n",
            "  Downloading tensorflow_io-0.23.1-cp37-cp37m-manylinux_2_12_x86_64.manylinux2010_x86_64.whl (23.1 MB)\n",
            "\u001b[K     |████████████████████████████████| 23.1 MB 15.4 MB/s \n",
            "\u001b[?25hCollecting tensorflow-io-gcs-filesystem==0.23.1\n",
            "  Downloading tensorflow_io_gcs_filesystem-0.23.1-cp37-cp37m-manylinux_2_12_x86_64.manylinux2010_x86_64.whl (2.1 MB)\n",
            "\u001b[K     |████████████████████████████████| 2.1 MB 75.1 MB/s \n",
            "\u001b[?25hInstalling collected packages: tensorflow-io-gcs-filesystem, tensorflow-io\n",
            "  Attempting uninstall: tensorflow-io-gcs-filesystem\n",
            "    Found existing installation: tensorflow-io-gcs-filesystem 0.26.0\n",
            "    Uninstalling tensorflow-io-gcs-filesystem-0.26.0:\n",
            "      Successfully uninstalled tensorflow-io-gcs-filesystem-0.26.0\n",
            "  Attempting uninstall: tensorflow-io\n",
            "    Found existing installation: tensorflow-io 0.26.0\n",
            "    Uninstalling tensorflow-io-0.26.0:\n",
            "      Successfully uninstalled tensorflow-io-0.26.0\n",
            "Successfully installed tensorflow-io-0.23.1 tensorflow-io-gcs-filesystem-0.23.1\n"
          ]
        },
        {
          "output_type": "display_data",
          "data": {
            "application/vnd.colab-display-data+json": {
              "pip_warning": {
                "packages": [
                  "tensorflow_io"
                ]
              }
            }
          },
          "metadata": {}
        }
      ]
    },
    {
      "cell_type": "code",
      "source": [
        "wav = tfio.audio.resample(wav, rate_in=44100, rate_out=16000)"
      ],
      "metadata": {
        "id": "AJV0r8odrnK7"
      },
      "execution_count": 15,
      "outputs": []
    },
    {
      "cell_type": "code",
      "source": [
        "wav"
      ],
      "metadata": {
        "colab": {
          "base_uri": "https://localhost:8080/"
        },
        "id": "OhuNGoLIrra5",
        "outputId": "eb878b7e-d873-4b61-b75c-034b7d17e51b"
      },
      "execution_count": 16,
      "outputs": [
        {
          "output_type": "execute_result",
          "data": {
            "text/plain": [
              "<tf.Tensor: shape=(104866, 1), dtype=float32, numpy=\n",
              "array([[-7.4041084e-10],\n",
              "       [ 2.0805353e-09],\n",
              "       [-1.7395814e-09],\n",
              "       ...,\n",
              "       [ 1.4359079e-04],\n",
              "       [ 1.3261179e-04],\n",
              "       [ 1.5024308e-04]], dtype=float32)>"
            ]
          },
          "metadata": {},
          "execution_count": 16
        }
      ]
    },
    {
      "cell_type": "code",
      "source": [
        "# The data was loaded correctly."
      ],
      "metadata": {
        "id": "qwkujBPi3TJ-"
      },
      "execution_count": null,
      "outputs": []
    },
    {
      "cell_type": "markdown",
      "source": [
        "### 2.3 Plot Wave"
      ],
      "metadata": {
        "id": "dcI6o8JolHC-"
      }
    },
    {
      "cell_type": "code",
      "source": [
        "# First, the Male Vocal files and Female Vocal files will need to be loaded into \n",
        "# the project using the Dataloading Function created above. \n",
        "fvwave = load_wav_16k_mono(FEMALE_VOCAL_FILE)\n",
        "mvwave = load_wav_16k_mono(MALE_VOCAL_FILE)"
      ],
      "metadata": {
        "id": "IURKJE3rkiUc"
      },
      "execution_count": 17,
      "outputs": []
    },
    {
      "cell_type": "markdown",
      "source": [
        "### Female Vocal Signal Plot"
      ],
      "metadata": {
        "id": "KNhFPhyW3hlf"
      }
    },
    {
      "cell_type": "code",
      "source": [
        "plt.plot(fvwave)\n",
        "plt.title(\"Signal Plot of Female Vocal Wav File\")\n",
        "plt.xlabel(\"Samples\")\n",
        "plt.ylabel(\"Amplitude\")\n",
        "plt.show()"
      ],
      "metadata": {
        "colab": {
          "base_uri": "https://localhost:8080/",
          "height": 295
        },
        "id": "XV7ywjeer0S5",
        "outputId": "e95ae292-cff6-4c44-cd85-8db486e7ba84"
      },
      "execution_count": 18,
      "outputs": [
        {
          "output_type": "display_data",
          "data": {
            "text/plain": [
              "<Figure size 432x288 with 1 Axes>"
            ],
            "image/png": "[encoded data removed]"
          },
          "metadata": {
            "needs_background": "light"
          }
        }
      ]
    },
    {
      "cell_type": "code",
      "source": [
        "# The above plot is the Female Vocal wav file visualized."
      ],
      "metadata": {
        "id": "hKrd09WRa0NF"
      },
      "execution_count": null,
      "outputs": []
    },
    {
      "cell_type": "markdown",
      "source": [
        "### Male Audio Signal Plot"
      ],
      "metadata": {
        "id": "ikVYmpVR3nax"
      }
    },
    {
      "cell_type": "code",
      "source": [
        "plt.plot(mvwave)\n",
        "plt.title(\"Signal Plot of Male Vocal Wav File\")\n",
        "plt.xlabel(\"Samples\")\n",
        "plt.ylabel(\"Amplitude\")\n",
        "plt.show()"
      ],
      "metadata": {
        "colab": {
          "base_uri": "https://localhost:8080/",
          "height": 295
        },
        "id": "0sj77BI8r5fZ",
        "outputId": "39eba45b-373c-41cd-a770-3cbad81f2b4f"
      },
      "execution_count": 19,
      "outputs": [
        {
          "output_type": "display_data",
          "data": {
            "text/plain": [
              "<Figure size 432x288 with 1 Axes>"
            ],
            "image/png": "[encoded data removed]"
          },
          "metadata": {
            "needs_background": "light"
          }
        }
      ]
    },
    {
      "cell_type": "code",
      "source": [
        "# The above plot is the Male Vocal wav file visualized."
      ],
      "metadata": {
        "id": "FOxVqS2fa4BN"
      },
      "execution_count": null,
      "outputs": []
    },
    {
      "cell_type": "markdown",
      "source": [
        "## 3. Create Tensorflow Dataset"
      ],
      "metadata": {
        "id": "d9cY5kDYsBNY"
      }
    },
    {
      "cell_type": "code",
      "source": [
        "# This is where the data will be loaded, to build the deep learning model.\n",
        "# A data pipeline will be created, so that significant amounts of data will be \n",
        "# able to be loaded in."
      ],
      "metadata": {
        "id": "EvI92Af53y69"
      },
      "execution_count": null,
      "outputs": []
    },
    {
      "cell_type": "markdown",
      "source": [
        "### 3.1 Define Paths to Positive and Negative Data"
      ],
      "metadata": {
        "id": "wYsEi1XCsE5a"
      }
    },
    {
      "cell_type": "code",
      "source": [
        "FEMALE_PATH_II = '/content/drive/My Drive/Colab Notebooks/Data 2/Female Vocal'\n",
        "# This will be the \"positive\" data, as this is the data the microphone will need \n",
        "# to catch and then block from the overall signal."
      ],
      "metadata": {
        "id": "-Y4v_5wBr9AY"
      },
      "execution_count": 20,
      "outputs": []
    },
    {
      "cell_type": "code",
      "source": [
        "MALE_PATH_II = '/content/drive/My Drive/Colab Notebooks/Data 2/Male Vocal'\n",
        "# This will be the \"negative\" data, as this is the data the microphone will need \n",
        "# allow to be sent through the microphone and on down the signal path."
      ],
      "metadata": {
        "id": "s_6JyC9bsPSl"
      },
      "execution_count": 21,
      "outputs": []
    },
    {
      "cell_type": "code",
      "source": [
        "FEMALEVOCAL = os.path.join(FEMALE_PATH_II)\n",
        "MALEVOCAL = os.path.join(MALE_PATH_II)"
      ],
      "metadata": {
        "id": "Uvo70vU-sVdQ"
      },
      "execution_count": 22,
      "outputs": []
    },
    {
      "cell_type": "code",
      "source": [
        "FEMALEVOCAL"
      ],
      "metadata": {
        "colab": {
          "base_uri": "https://localhost:8080/",
          "height": 35
        },
        "id": "QCnikhBwsX6l",
        "outputId": "d0fbc0a5-ce74-49c3-d9ca-c3cdf4f85e1c"
      },
      "execution_count": 23,
      "outputs": [
        {
          "output_type": "execute_result",
          "data": {
            "text/plain": [
              "'/content/drive/My Drive/Colab Notebooks/Data 2/Female Vocal'"
            ],
            "application/vnd.google.colaboratory.intrinsic+json": {
              "type": "string"
            }
          },
          "metadata": {},
          "execution_count": 23
        }
      ]
    },
    {
      "cell_type": "code",
      "source": [
        "MALEVOCAL"
      ],
      "metadata": {
        "colab": {
          "base_uri": "https://localhost:8080/",
          "height": 35
        },
        "id": "Ayfn3Cuysa29",
        "outputId": "0d28b5ed-a8ba-4fd9-c546-9e279f2a652c"
      },
      "execution_count": 24,
      "outputs": [
        {
          "output_type": "execute_result",
          "data": {
            "text/plain": [
              "'/content/drive/My Drive/Colab Notebooks/Data 2/Male Vocal'"
            ],
            "application/vnd.google.colaboratory.intrinsic+json": {
              "type": "string"
            }
          },
          "metadata": {},
          "execution_count": 24
        }
      ]
    },
    {
      "cell_type": "code",
      "source": [
        "# Both file paths are working correctly."
      ],
      "metadata": {
        "id": "ajWDrmvf4EuR"
      },
      "execution_count": null,
      "outputs": []
    },
    {
      "cell_type": "markdown",
      "source": [
        "### 3.2 Create Tensorflow Datasets"
      ],
      "metadata": {
        "id": "7b20bKf0sgqT"
      }
    },
    {
      "cell_type": "code",
      "source": [
        "# Next, the data needs to be loaded into the Tensorflow datasets.\n",
        "# The 'list_files' method will be used to accomplish this."
      ],
      "metadata": {
        "id": "A6wa77s84L_D"
      },
      "execution_count": null,
      "outputs": []
    },
    {
      "cell_type": "code",
      "source": [
        "femalevocal = tf.data.Dataset.list_files(FEMALEVOCAL+'/*.wav')\n",
        "malevocal = tf.data.Dataset.list_files(MALEVOCAL+'/*.wav')\n",
        "# This coding gives a set of files as a string inside of a Tensorflow dataset\n",
        "# format.  This will allow for the data to be pre-processed before it is loaded\n",
        "# in."
      ],
      "metadata": {
        "id": "FzFNTWZMsdQa"
      },
      "execution_count": 25,
      "outputs": []
    },
    {
      "cell_type": "code",
      "source": [
        "femalevocal.as_numpy_iterator().next()"
      ],
      "metadata": {
        "colab": {
          "base_uri": "https://localhost:8080/"
        },
        "id": "eaRaXY4jso-k",
        "outputId": "f6d34d13-91b0-424d-8244-c1658b513d54"
      },
      "execution_count": 26,
      "outputs": [
        {
          "output_type": "execute_result",
          "data": {
            "text/plain": [
              "b'/content/drive/My Drive/Colab Notebooks/Data 2/Female Vocal/f4_long_inhaled_a.wav'"
            ]
          },
          "metadata": {},
          "execution_count": 26
        }
      ]
    },
    {
      "cell_type": "code",
      "source": [
        "# This shows what the Tensorflow dataset currently has set up as the audio file\n",
        "# path."
      ],
      "metadata": {
        "id": "DBACm0ZY4T4S"
      },
      "execution_count": null,
      "outputs": []
    },
    {
      "cell_type": "code",
      "source": [
        "len(femalevocal)"
      ],
      "metadata": {
        "colab": {
          "base_uri": "https://localhost:8080/"
        },
        "id": "rUdn2GkxssyV",
        "outputId": "2ee49fc7-a7e2-4c33-ac1e-0fd87a937802"
      },
      "execution_count": 27,
      "outputs": [
        {
          "output_type": "execute_result",
          "data": {
            "text/plain": [
              "250"
            ]
          },
          "metadata": {},
          "execution_count": 27
        }
      ]
    },
    {
      "cell_type": "code",
      "source": [
        "tf.ones(len(femalevocal))"
      ],
      "metadata": {
        "colab": {
          "base_uri": "https://localhost:8080/"
        },
        "id": "bmiD521csv9e",
        "outputId": "fe965c4e-221c-4fc5-88dc-f1785708dc1b"
      },
      "execution_count": 28,
      "outputs": [
        {
          "output_type": "execute_result",
          "data": {
            "text/plain": [
              "<tf.Tensor: shape=(250,), dtype=float32, numpy=\n",
              "array([1., 1., 1., 1., 1., 1., 1., 1., 1., 1., 1., 1., 1., 1., 1., 1., 1.,\n",
              "       1., 1., 1., 1., 1., 1., 1., 1., 1., 1., 1., 1., 1., 1., 1., 1., 1.,\n",
              "       1., 1., 1., 1., 1., 1., 1., 1., 1., 1., 1., 1., 1., 1., 1., 1., 1.,\n",
              "       1., 1., 1., 1., 1., 1., 1., 1., 1., 1., 1., 1., 1., 1., 1., 1., 1.,\n",
              "       1., 1., 1., 1., 1., 1., 1., 1., 1., 1., 1., 1., 1., 1., 1., 1., 1.,\n",
              "       1., 1., 1., 1., 1., 1., 1., 1., 1., 1., 1., 1., 1., 1., 1., 1., 1.,\n",
              "       1., 1., 1., 1., 1., 1., 1., 1., 1., 1., 1., 1., 1., 1., 1., 1., 1.,\n",
              "       1., 1., 1., 1., 1., 1., 1., 1., 1., 1., 1., 1., 1., 1., 1., 1., 1.,\n",
              "       1., 1., 1., 1., 1., 1., 1., 1., 1., 1., 1., 1., 1., 1., 1., 1., 1.,\n",
              "       1., 1., 1., 1., 1., 1., 1., 1., 1., 1., 1., 1., 1., 1., 1., 1., 1.,\n",
              "       1., 1., 1., 1., 1., 1., 1., 1., 1., 1., 1., 1., 1., 1., 1., 1., 1.,\n",
              "       1., 1., 1., 1., 1., 1., 1., 1., 1., 1., 1., 1., 1., 1., 1., 1., 1.,\n",
              "       1., 1., 1., 1., 1., 1., 1., 1., 1., 1., 1., 1., 1., 1., 1., 1., 1.,\n",
              "       1., 1., 1., 1., 1., 1., 1., 1., 1., 1., 1., 1., 1., 1., 1., 1., 1.,\n",
              "       1., 1., 1., 1., 1., 1., 1., 1., 1., 1., 1., 1.], dtype=float32)>"
            ]
          },
          "metadata": {},
          "execution_count": 28
        }
      ]
    },
    {
      "cell_type": "code",
      "source": [
        "# 250 samples of female vocal audio, set as the binary 1."
      ],
      "metadata": {
        "id": "oCwjTMHI4aYs"
      },
      "execution_count": null,
      "outputs": []
    },
    {
      "cell_type": "code",
      "source": [
        "len(malevocal)"
      ],
      "metadata": {
        "colab": {
          "base_uri": "https://localhost:8080/"
        },
        "id": "iMpku6suszXl",
        "outputId": "2661ee01-0155-4534-b599-7f500180bc10"
      },
      "execution_count": 29,
      "outputs": [
        {
          "output_type": "execute_result",
          "data": {
            "text/plain": [
              "250"
            ]
          },
          "metadata": {},
          "execution_count": 29
        }
      ]
    },
    {
      "cell_type": "code",
      "source": [
        "tf.zeros(len(malevocal))"
      ],
      "metadata": {
        "colab": {
          "base_uri": "https://localhost:8080/"
        },
        "id": "BUg8latZs34t",
        "outputId": "c852816f-b5ca-4667-ac79-0a3e71d3839b"
      },
      "execution_count": 30,
      "outputs": [
        {
          "output_type": "execute_result",
          "data": {
            "text/plain": [
              "<tf.Tensor: shape=(250,), dtype=float32, numpy=\n",
              "array([0., 0., 0., 0., 0., 0., 0., 0., 0., 0., 0., 0., 0., 0., 0., 0., 0.,\n",
              "       0., 0., 0., 0., 0., 0., 0., 0., 0., 0., 0., 0., 0., 0., 0., 0., 0.,\n",
              "       0., 0., 0., 0., 0., 0., 0., 0., 0., 0., 0., 0., 0., 0., 0., 0., 0.,\n",
              "       0., 0., 0., 0., 0., 0., 0., 0., 0., 0., 0., 0., 0., 0., 0., 0., 0.,\n",
              "       0., 0., 0., 0., 0., 0., 0., 0., 0., 0., 0., 0., 0., 0., 0., 0., 0.,\n",
              "       0., 0., 0., 0., 0., 0., 0., 0., 0., 0., 0., 0., 0., 0., 0., 0., 0.,\n",
              "       0., 0., 0., 0., 0., 0., 0., 0., 0., 0., 0., 0., 0., 0., 0., 0., 0.,\n",
              "       0., 0., 0., 0., 0., 0., 0., 0., 0., 0., 0., 0., 0., 0., 0., 0., 0.,\n",
              "       0., 0., 0., 0., 0., 0., 0., 0., 0., 0., 0., 0., 0., 0., 0., 0., 0.,\n",
              "       0., 0., 0., 0., 0., 0., 0., 0., 0., 0., 0., 0., 0., 0., 0., 0., 0.,\n",
              "       0., 0., 0., 0., 0., 0., 0., 0., 0., 0., 0., 0., 0., 0., 0., 0., 0.,\n",
              "       0., 0., 0., 0., 0., 0., 0., 0., 0., 0., 0., 0., 0., 0., 0., 0., 0.,\n",
              "       0., 0., 0., 0., 0., 0., 0., 0., 0., 0., 0., 0., 0., 0., 0., 0., 0.,\n",
              "       0., 0., 0., 0., 0., 0., 0., 0., 0., 0., 0., 0., 0., 0., 0., 0., 0.,\n",
              "       0., 0., 0., 0., 0., 0., 0., 0., 0., 0., 0., 0.], dtype=float32)>"
            ]
          },
          "metadata": {},
          "execution_count": 30
        }
      ]
    },
    {
      "cell_type": "code",
      "source": [
        "# 250 samples of male vocals, set as binary 0."
      ],
      "metadata": {
        "id": "3r8J7b8o4fnu"
      },
      "execution_count": null,
      "outputs": []
    },
    {
      "cell_type": "markdown",
      "source": [
        "### 3.3 Add labels and Combine Positive and Negative Samples"
      ],
      "metadata": {
        "id": "AXT5q3IPs9lA"
      }
    },
    {
      "cell_type": "code",
      "source": [
        "femalevocals = tf.data.Dataset.zip((femalevocal, tf.data.Dataset.from_tensor_slices(tf.ones(len(femalevocal)))))\n",
        "malevocals = tf.data.Dataset.zip((malevocal, tf.data.Dataset.from_tensor_slices(tf.zeros(len(malevocal)))))\n",
        "data = femalevocals.concatenate(malevocals)\n",
        "# Here the data is labeled as either positive (female vocal) or negative (male vocal).\n",
        "# The two sets of data will then be combined into the same variable."
      ],
      "metadata": {
        "id": "6Ihh5MtRs7ZI"
      },
      "execution_count": 31,
      "outputs": []
    },
    {
      "cell_type": "code",
      "source": [
        "femalevocals.as_numpy_iterator().next()"
      ],
      "metadata": {
        "colab": {
          "base_uri": "https://localhost:8080/"
        },
        "id": "uTcIkDNltF7c",
        "outputId": "4e1cc1e2-ea65-47e6-d635-4f0ace728118"
      },
      "execution_count": 32,
      "outputs": [
        {
          "output_type": "execute_result",
          "data": {
            "text/plain": [
              "(b'/content/drive/My Drive/Colab Notebooks/Data 2/Female Vocal/f4_long_forte_a.wav',\n",
              " 1.0)"
            ]
          },
          "metadata": {},
          "execution_count": 32
        }
      ]
    },
    {
      "cell_type": "code",
      "source": [
        "malevocals.as_numpy_iterator().next()"
      ],
      "metadata": {
        "colab": {
          "base_uri": "https://localhost:8080/"
        },
        "id": "wbv8tfNLtJqy",
        "outputId": "d45968c1-07a9-4bfc-91d4-698eadcf9ffb"
      },
      "execution_count": 33,
      "outputs": [
        {
          "output_type": "execute_result",
          "data": {
            "text/plain": [
              "(b'/content/drive/My Drive/Colab Notebooks/Data 2/Male Vocal/m3_arpeggios_straight_i.wav',\n",
              " 0.0)"
            ]
          },
          "metadata": {},
          "execution_count": 33
        }
      ]
    },
    {
      "cell_type": "code",
      "source": [
        "data.as_numpy_iterator().next()"
      ],
      "metadata": {
        "colab": {
          "base_uri": "https://localhost:8080/"
        },
        "id": "04BAf1lUtNcW",
        "outputId": "211d374a-8618-401a-f835-c7d9082dcb3c"
      },
      "execution_count": 34,
      "outputs": [
        {
          "output_type": "execute_result",
          "data": {
            "text/plain": [
              "(b'/content/drive/My Drive/Colab Notebooks/Data 2/Female Vocal/f4_long_inhaled_o.wav',\n",
              " 1.0)"
            ]
          },
          "metadata": {},
          "execution_count": 34
        }
      ]
    },
    {
      "cell_type": "code",
      "source": [
        "data.shuffle(10000).as_numpy_iterator().next()"
      ],
      "metadata": {
        "colab": {
          "base_uri": "https://localhost:8080/"
        },
        "id": "x40zWkq3tQOz",
        "outputId": "0ba0cf72-674d-4b1d-9d47-abd5ab89309a"
      },
      "execution_count": 35,
      "outputs": [
        {
          "output_type": "execute_result",
          "data": {
            "text/plain": [
              "(b'/content/drive/My Drive/Colab Notebooks/Data 2/Female Vocal/f4_scales_vocal_fry_i.wav',\n",
              " 1.0)"
            ]
          },
          "metadata": {},
          "execution_count": 35
        }
      ]
    },
    {
      "cell_type": "code",
      "source": [
        "# Both the positive and negative data stored into one data pipeline."
      ],
      "metadata": {
        "id": "Ws8fGt_54p6q"
      },
      "execution_count": null,
      "outputs": []
    },
    {
      "cell_type": "markdown",
      "source": [
        "## 4. Determine Average Length of a Female Vocal Sample"
      ],
      "metadata": {
        "id": "rU-tqJIKtWPi"
      }
    },
    {
      "cell_type": "code",
      "source": [
        "# By determining the average length of both the female vocal and male vocal signal,\n",
        "# more accurate spectrograms will be able to be created, which will then produce\n",
        "# more accurate predictions. "
      ],
      "metadata": {
        "id": "43GHRewY4wK1"
      },
      "execution_count": null,
      "outputs": []
    },
    {
      "cell_type": "markdown",
      "source": [
        "### 4.1 Calculate Wave Cycle Length"
      ],
      "metadata": {
        "id": "PKk_5FUCthPL"
      }
    },
    {
      "cell_type": "code",
      "source": [
        "lengths = []\n",
        "for file in os.listdir(os.path.join('/content/drive/My Drive/Colab Notebooks/Data 2/Female Vocal')):\n",
        "    tensor_wave = load_wav_16k_mono(os.path.join('/content/drive/My Drive/Colab Notebooks/Data 2/Female Vocal', file))\n",
        "    lengths.append(len(tensor_wave))\n",
        "# The above code will output the length of each individual wav file."
      ],
      "metadata": {
        "id": "Vog5k-7ktUmu",
        "colab": {
          "base_uri": "https://localhost:8080/"
        },
        "outputId": "684cd298-df72-4e52-b3d1-15baed5d6079"
      },
      "execution_count": 36,
      "outputs": [
        {
          "output_type": "stream",
          "name": "stdout",
          "text": [
            "WARNING:tensorflow:5 out of the last 5 calls to <function pfor.<locals>.f at 0x7fac3ecb0950> triggered tf.function retracing. Tracing is expensive and the excessive number of tracings could be due to (1) creating @tf.function repeatedly in a loop, (2) passing tensors with different shapes, (3) passing Python objects instead of tensors. For (1), please define your @tf.function outside of the loop. For (2), @tf.function has experimental_relax_shapes=True option that relaxes argument shapes that can avoid unnecessary retracing. For (3), please refer to https://www.tensorflow.org/guide/function#controlling_retracing and https://www.tensorflow.org/api_docs/python/tf/function for  more details.\n",
            "WARNING:tensorflow:6 out of the last 6 calls to <function pfor.<locals>.f at 0x7fac3ecb0c20> triggered tf.function retracing. Tracing is expensive and the excessive number of tracings could be due to (1) creating @tf.function repeatedly in a loop, (2) passing tensors with different shapes, (3) passing Python objects instead of tensors. For (1), please define your @tf.function outside of the loop. For (2), @tf.function has experimental_relax_shapes=True option that relaxes argument shapes that can avoid unnecessary retracing. For (3), please refer to https://www.tensorflow.org/guide/function#controlling_retracing and https://www.tensorflow.org/api_docs/python/tf/function for  more details.\n"
          ]
        }
      ]
    },
    {
      "cell_type": "code",
      "source": [
        "os.listdir(os.path.join('/content/drive/My Drive/Colab Notebooks/Data 2/Female Vocal'))"
      ],
      "metadata": {
        "colab": {
          "base_uri": "https://localhost:8080/"
        },
        "id": "UtxFgj2GtopA",
        "outputId": "66f0dce2-80cd-43e5-c544-8510801b5b15"
      },
      "execution_count": 37,
      "outputs": [
        {
          "output_type": "execute_result",
          "data": {
            "text/plain": [
              "['f4_row_vibrato.wav',\n",
              " 'f4_caro_vibrato.wav',\n",
              " 'f4_dona_vibrato.wav',\n",
              " 'f4_row_straight.wav',\n",
              " 'f4_caro_straight.wav',\n",
              " 'f4_row_spoken.wav',\n",
              " 'f4_dona_straight.wav',\n",
              " 'f4_scales_vocal_fry_e.wav',\n",
              " 'f4_scales_vocal_fry_o.wav',\n",
              " 'f4_scales_vocal_fry_i.wav',\n",
              " 'f4_scales_vocal_fry_a.wav',\n",
              " 'f4_scales_c_slow_forte_o.wav',\n",
              " 'f4_scales_vocal_fry_u.wav',\n",
              " 'f4_scales_c_slow_forte_i.wav',\n",
              " 'f4_scales_c_slow_forte_a.wav',\n",
              " 'f4_scales_c_slow_forte_e.wav',\n",
              " 'f4_scales_vibrato_i.wav',\n",
              " 'f4_scales_vibrato_o.wav',\n",
              " 'f4_scales_c_slow_forte_u.wav',\n",
              " 'f4_scales_vibrato_a.wav',\n",
              " 'f4_scales_vibrato_u.wav',\n",
              " 'f4_scales_vibrato_e.wav',\n",
              " 'f4_scales_belt_u.wav',\n",
              " 'f4_scales_belt_i.wav',\n",
              " 'f4_scales_belt_a.wav',\n",
              " 'f4_scales_belt_o.wav',\n",
              " 'f4_scales_belt_e.wav',\n",
              " 'scales_straight_a.wav',\n",
              " 'scales_straight_e.wav',\n",
              " 'scales_straight_u.wav',\n",
              " 'scales_straight_i.wav',\n",
              " 'f4_scales_c_slow_piano_a.wav',\n",
              " 'f4_scales_c_slow_piano_u.wav',\n",
              " 'scales_straight_o.wav',\n",
              " 'f4_scales_c_slow_piano_i.wav',\n",
              " 'f4_scales_c_slow_piano_e.wav',\n",
              " 'f4_scales_c_slow_piano_o.wav',\n",
              " 'f4_scales_breathy_o.wav',\n",
              " 'f4_scales_breathy_a.wav',\n",
              " 'f4_scales_breathy_i.wav',\n",
              " 'f4_scales_breathy_e.wav',\n",
              " 'f4_scales_c_fast_piano_a.wav',\n",
              " 'f4_scales_c_fast_piano_e.wav',\n",
              " 'f4_scales_breathy_u.wav',\n",
              " 'f4_scales_c_fast_piano_o.wav',\n",
              " 'f4_scales_c_fast_piano_u.wav',\n",
              " 'f4_scales_c_fast_piano_i.wav',\n",
              " 'f4_scales_lip_trill_u.wav',\n",
              " 'f4_scales_lip_trill_o.wav',\n",
              " 'f4_scales_lip_trill_a.wav',\n",
              " 'f4_scales_lip_trill_e.wav',\n",
              " 'f4_scales_lip_trill_i.wav',\n",
              " 'f4_scales_c_fast_forte_e.wav',\n",
              " 'f4_scales_c_fast_forte_u.wav',\n",
              " 'f4_scales_c_fast_forte_i.wav',\n",
              " 'f4_scales_c_fast_forte_a.wav',\n",
              " 'f4_scales_c_fast_forte_o.wav',\n",
              " 'f4_long_pp_u.wav',\n",
              " 'f4_long_pp_e.wav',\n",
              " 'f4_long_pp_o.wav',\n",
              " 'f4_long_pp_i.wav',\n",
              " 'f4_long_pp_a.wav',\n",
              " 'f4_long_inhaled_e.wav',\n",
              " 'f4_long_inhaled_u.wav',\n",
              " 'f4_long_inhaled_a.wav',\n",
              " 'f4_long_inhaled_i.wav',\n",
              " 'f4_long_inhaled_o.wav',\n",
              " 'f4_long_trillo_i.wav',\n",
              " 'f4_long_trillo_a.wav',\n",
              " 'f4_long_trillo_o.wav',\n",
              " 'f4_long_straight_o.wav',\n",
              " 'f4_long_trillo_e.wav',\n",
              " 'f4_long_trillo_u.wav',\n",
              " 'f4_long_straight_a.wav',\n",
              " 'f4_long_straight_u.wav',\n",
              " 'f4_long_straight_e.wav',\n",
              " 'f4_long_straight_i.wav',\n",
              " 'f4_long_forte_i.wav',\n",
              " 'f4_long_forte_e.wav',\n",
              " 'f4_long_forte_o.wav',\n",
              " 'f4_long_forte_a.wav',\n",
              " 'f4_long_forte_u.wav',\n",
              " 'f4_long_messa_u.wav',\n",
              " 'f4_long_messa_o.wav',\n",
              " 'f4_long_messa_a.wav',\n",
              " 'f4_long_messa_e.wav',\n",
              " 'f4_arpeggios_vocal_fry_a.wav',\n",
              " 'f4_arpeggios_vocal_fry_e.wav',\n",
              " 'f4_arpeggios_vocal_fry_u.wav',\n",
              " 'f4_arpeggios_f_slow_forte_o.wav',\n",
              " 'f4_arpeggios_vocal_fry_i.wav',\n",
              " 'f4_arpeggios_vocal_fry_o.wav',\n",
              " 'f4_arpeggios_c_slow_forte_i.wav',\n",
              " 'f4_arpeggios_f_slow_forte_i.wav',\n",
              " 'f4_arpeggios_c_slow_forte_u.wav',\n",
              " 'f4_arpeggios_c_slow_forte_o.wav',\n",
              " 'f4_arpeggios_c_slow_forte_a.wav',\n",
              " 'f4_arpeggios_f_slow_forte_a.wav',\n",
              " 'f4_arpeggios_c_slow_forte_e.wav',\n",
              " 'f4_arpeggios_f_slow_forte_e.wav',\n",
              " 'f4_arpeggios_vibrato_a.wav',\n",
              " 'f4_arpeggios_vibrato_u.wav',\n",
              " 'f4_arpeggios_vibrato_e.wav',\n",
              " 'f4_arpeggios_f_slow_forte_u.wav',\n",
              " 'f4_arpeggios_vibrato_i.wav',\n",
              " 'f4_arpeggios_belt_u.wav',\n",
              " 'f4_arpeggios_vibrato_o.wav',\n",
              " 'f4_arpeggios_belt_e.wav',\n",
              " 'f4_arpeggios_belt_o.wav',\n",
              " 'arpeggios_straight_e.wav',\n",
              " 'f4_arpeggios_belt_a.wav',\n",
              " 'f4_arpeggios_belt_i.wav',\n",
              " 'arpeggios_straight_u.wav',\n",
              " 'arpeggios_straight_a.wav',\n",
              " 'arpeggios_straight_o.wav',\n",
              " 'f4_arpeggios_f_slow_piano_a.wav',\n",
              " 'arpeggios_straight_i.wav',\n",
              " 'f4_arpeggios_f_slow_piano_e.wav',\n",
              " 'f4_arpeggios_f_slow_piano_u.wav',\n",
              " 'f4_arpeggios_c_slow_piano_u.wav',\n",
              " 'f4_arpeggios_c_slow_piano_o.wav',\n",
              " 'f4_arpeggios_c_slow_piano_i.wav',\n",
              " 'f4_arpeggios_c_slow_piano_e.wav',\n",
              " 'f4_arpeggios_c_slow_piano_a.wav',\n",
              " 'f4_arpeggios_breathy_u.wav',\n",
              " 'f4_arpeggios_breathy_a.wav',\n",
              " 'f4_arpeggios_f_slow_piano_o.wav',\n",
              " 'f4_arpeggios_f_slow_piano_i.wav',\n",
              " 'f4_arpeggios_breathy_e.wav',\n",
              " 'f4_arpeggios_f_fast_piano_e.wav',\n",
              " 'f4_arpeggios_breathy_o.wav',\n",
              " 'f4_arpeggios_breathy_i.wav',\n",
              " 'f4_arpeggios_f_fast_piano_u.wav',\n",
              " 'f4_arpeggios_c_fast_piano_e.wav',\n",
              " 'f4_arpeggios_c_fast_piano_u.wav',\n",
              " 'f4_arpeggios_f_fast_piano_a.wav',\n",
              " 'f4_arpeggios_c_fast_piano_a.wav',\n",
              " 'f4_arpeggios_f_fast_piano_i.wav',\n",
              " 'f4_arpeggios_f_fast_piano_o.wav',\n",
              " 'f4_arpeggios_c_fast_piano_i.wav',\n",
              " 'f4_arpeggios_c_fast_piano_o.wav',\n",
              " 'f4_arpeggios_lip_trill_e.wav',\n",
              " 'f4_arpeggios_lip_trill_i.wav',\n",
              " 'f4_arpeggios_lip_trill_o.wav',\n",
              " 'f4_arpeggios_f_fast_forte_i.wav',\n",
              " 'f4_arpeggios_f_fast_forte_o.wav',\n",
              " 'f4_arpeggios_lip_trill_a.wav',\n",
              " 'f4_arpeggios_lip_trill_u.wav',\n",
              " 'f4_arpeggios_c_fast_forte_i.wav',\n",
              " 'f4_arpeggios_c_fast_forte_u.wav',\n",
              " 'f4_arpeggios_c_fast_forte_e.wav',\n",
              " 'f4_arpeggios_c_fast_forte_o.wav',\n",
              " 'f4_arpeggios_c_fast_forte_a.wav',\n",
              " 'f4_arpeggios_f_fast_forte_e.wav',\n",
              " 'f4_arpeggios_f_fast_forte_u.wav',\n",
              " 'f4_arpeggios_f_fast_forte_a.wav',\n",
              " 'f7_scales_belt_e.wav',\n",
              " 'f7_scales_belt_u.wav',\n",
              " 'f7_scales_belt_i.wav',\n",
              " 'f7_scales_belt_o.wav',\n",
              " 'f7_scales_belt_a.wav',\n",
              " 'f7_scales_breathy_u.wav',\n",
              " 'f7_scales_breathy_a.wav',\n",
              " 'f7_scales_breathy_e.wav',\n",
              " 'f7_scales_c_fast_piano_i.wav',\n",
              " 'f7_scales_breathy_o.wav',\n",
              " 'f7_scales_breathy_i.wav',\n",
              " 'f7_scales_f_fast_piano_a.wav',\n",
              " 'f7_scales_f_fast_piano_i.wav',\n",
              " 'f7_scales_f_fast_piano_e.wav',\n",
              " 'f7_scales_f_fast_piano_o.wav',\n",
              " 'f7_scales_c_fast_piano_o.wav',\n",
              " 'f7_scales_f_fast_piano_u.wav',\n",
              " 'f7_scales_c_fast_piano_a.wav',\n",
              " 'f7_scales_c_fast_piano_u.wav',\n",
              " 'f7_scales_c_fast_piano_e.wav',\n",
              " 'f7_scales_lip_trill_o.wav',\n",
              " 'f7_scales_lip_trill_u.wav',\n",
              " 'f7_scales_lip_trill_a.wav',\n",
              " 'f7_scales_lip_trill_e.wav',\n",
              " 'f7_scales_c_fast_forte_e.wav',\n",
              " 'f7_scales_c_fast_forte_u.wav',\n",
              " 'f7_scales_c_fast_forte_a.wav',\n",
              " 'f7_scales_lip_trill_i.wav',\n",
              " 'f7_scales_f_fast_forte_o.wav',\n",
              " 'f7_scales_f_fast_forte_i.wav',\n",
              " 'f7_scales_f_fast_forte_u.wav',\n",
              " 'f7_scales_f_fast_forte_e.wav',\n",
              " 'f7_scales_f_fast_forte_a.wav',\n",
              " 'f7_scales_c_fast_forte_o.wav',\n",
              " 'f7_scales_c_fast_forte_i.wav',\n",
              " 'f7_long_inhaled_a.wav',\n",
              " 'f7_long_inhaled_u.wav',\n",
              " 'f7_long_inhaled_e.wav',\n",
              " 'f7_long_inhaled_o.wav',\n",
              " 'f7_long_forte_e.wav',\n",
              " 'f7_long_forte_u.wav',\n",
              " 'f7_long_forte_a.wav',\n",
              " 'f7_long_forte_o.wav',\n",
              " 'f7_long_forte_i.wav',\n",
              " 'f7_arpeggios_vocal_fry_i.wav',\n",
              " 'f7_arpeggios_vocal_fry_o.wav',\n",
              " 'f7_arpeggios_vocal_fry_a.wav',\n",
              " 'f7_arpeggios_vocal_fry_e.wav',\n",
              " 'f7_arpeggios_vocal_fry_u.wav',\n",
              " 'f7_arpeggios_vibrato_e.wav',\n",
              " 'f7_arpeggios_vibrato_u.wav',\n",
              " 'f7_arpeggios_vibrato_i.wav',\n",
              " 'f7_arpeggios_vibrato_o.wav',\n",
              " 'f7_arpeggios_vibrato_a.wav',\n",
              " 'f7_arpeggios_belt_u.wav',\n",
              " 'f7_arpeggios_belt_i.wav',\n",
              " 'f7_arpeggios_belt_a.wav',\n",
              " 'f7_arpeggios_belt_o.wav',\n",
              " 'f7_arpeggios_straight_o.wav',\n",
              " 'f7_arpeggios_belt_e.wav',\n",
              " 'f7_arpeggios_straight_e.wav',\n",
              " 'f7_arpeggios_straight_i.wav',\n",
              " 'f7_arpeggios_straight_u.wav',\n",
              " 'f7_arpeggios_straight_a.wav',\n",
              " 'f7_arpeggios_breathy_e.wav',\n",
              " 'f7_arpeggios_breathy_u.wav',\n",
              " 'f7_arpeggios_breathy_o.wav',\n",
              " 'f7_arpeggios_breathy_i.wav',\n",
              " 'f7_arpeggios_breathy_a.wav',\n",
              " 'f7_arpeggios_f_fast_piano_a.wav',\n",
              " 'f7_arpeggios_c_fast_piano_u.wav',\n",
              " 'f7_arpeggios_f_fast_piano_u.wav',\n",
              " 'f7_arpeggios_c_fast_piano_e.wav',\n",
              " 'f7_arpeggios_c_fast_piano_a.wav',\n",
              " 'f7_arpeggios_f_fast_piano_e.wav',\n",
              " 'f7_arpeggios_c_fast_piano_i.wav',\n",
              " 'f7_arpeggios_c_fast_piano_o.wav',\n",
              " 'f7_arpeggios_f_fast_piano_o.wav',\n",
              " 'f7_arpeggios_f_fast_piano_i.wav',\n",
              " 'f7_arpeggios_lip_trill_e.wav',\n",
              " 'f7_arpeggios_lip_trill_i.wav',\n",
              " 'f7_arpeggios_lip_trill_u.wav',\n",
              " 'f7_arpeggios_lip_trill_a.wav',\n",
              " 'f7_arpeggios_lip_trill_o.wav',\n",
              " 'f7_arpeggios_c_fast_forte_i.wav',\n",
              " 'f7_arpeggios_f_fast_forte_o.wav',\n",
              " 'f7_arpeggios_f_fast_forte_i.wav',\n",
              " 'f7_arpeggios_c_fast_forte_a.wav',\n",
              " 'f7_arpeggios_c_fast_forte_e.wav',\n",
              " 'f7_arpeggios_c_fast_forte_o.wav',\n",
              " 'f7_arpeggios_f_fast_forte_e.wav',\n",
              " 'f7_arpeggios_c_fast_forte_u.wav',\n",
              " 'f7_arpeggios_f_fast_forte_a.wav',\n",
              " 'f7_arpeggios_f_fast_forte_u.wav']"
            ]
          },
          "metadata": {},
          "execution_count": 37
        }
      ]
    },
    {
      "cell_type": "code",
      "source": [
        "lengths"
      ],
      "metadata": {
        "colab": {
          "base_uri": "https://localhost:8080/"
        },
        "id": "pzHHFY5vtxsp",
        "outputId": "9bc7e6b3-742a-4961-94f2-b82013655bb0"
      },
      "execution_count": 38,
      "outputs": [
        {
          "output_type": "execute_result",
          "data": {
            "text/plain": [
              "[162869,\n",
              " 608827,\n",
              " 309883,\n",
              " 164886,\n",
              " 658982,\n",
              " 164768,\n",
              " 317203,\n",
              " 161223,\n",
              " 161223,\n",
              " 163477,\n",
              " 172497,\n",
              " 204770,\n",
              " 186026,\n",
              " 189168,\n",
              " 206721,\n",
              " 202820,\n",
              " 103715,\n",
              " 106650,\n",
              " 200870,\n",
              " 110564,\n",
              " 107628,\n",
              " 108607,\n",
              " 108244,\n",
              " 103670,\n",
              " 103670,\n",
              " 105957,\n",
              " 105195,\n",
              " 114340,\n",
              " 116798,\n",
              " 111880,\n",
              " 116798,\n",
              " 202874,\n",
              " 200923,\n",
              " 119257,\n",
              " 202874,\n",
              " 193120,\n",
              " 206775,\n",
              " 156872,\n",
              " 189610,\n",
              " 163692,\n",
              " 174605,\n",
              " 58911,\n",
              " 45002,\n",
              " 151415,\n",
              " 52365,\n",
              " 56456,\n",
              " 57274,\n",
              " 117609,\n",
              " 109938,\n",
              " 121443,\n",
              " 122722,\n",
              " 122722,\n",
              " 62034,\n",
              " 61148,\n",
              " 56716,\n",
              " 63806,\n",
              " 63806,\n",
              " 206088,\n",
              " 182044,\n",
              " 178610,\n",
              " 190632,\n",
              " 175175,\n",
              " 73199,\n",
              " 79088,\n",
              " 89185,\n",
              " 74881,\n",
              " 76564,\n",
              " 170609,\n",
              " 177235,\n",
              " 144107,\n",
              " 178434,\n",
              " 180548,\n",
              " 154045,\n",
              " 178434,\n",
              " 192567,\n",
              " 192567,\n",
              " 189034,\n",
              " 170614,\n",
              " 183884,\n",
              " 178197,\n",
              " 178197,\n",
              " 195258,\n",
              " 183267,\n",
              " 183267,\n",
              " 194965,\n",
              " 191066,\n",
              " 110113,\n",
              " 149348,\n",
              " 125300,\n",
              " 112440,\n",
              " 108847,\n",
              " 103784,\n",
              " 106359,\n",
              " 114884,\n",
              " 118444,\n",
              " 101524,\n",
              " 103941,\n",
              " 114884,\n",
              " 120862,\n",
              " 114884,\n",
              " 96116,\n",
              " 110816,\n",
              " 96116,\n",
              " 107551,\n",
              " 100640,\n",
              " 81792,\n",
              " 101770,\n",
              " 81138,\n",
              " 85718,\n",
              " 107778,\n",
              " 83101,\n",
              " 87027,\n",
              " 101953,\n",
              " 104866,\n",
              " 97583,\n",
              " 95329,\n",
              " 96126,\n",
              " 97774,\n",
              " 100218,\n",
              " 106359,\n",
              " 113610,\n",
              " 94272,\n",
              " 99107,\n",
              " 101524,\n",
              " 98191,\n",
              " 80078,\n",
              " 90440,\n",
              " 95329,\n",
              " 102957,\n",
              " 47180,\n",
              " 90564,\n",
              " 100097,\n",
              " 55315,\n",
              " 57474,\n",
              " 48765,\n",
              " 35792,\n",
              " 50507,\n",
              " 58569,\n",
              " 52061,\n",
              " 48766,\n",
              " 53991,\n",
              " 107309,\n",
              " 92807,\n",
              " 92807,\n",
              " 52061,\n",
              " 58569,\n",
              " 111659,\n",
              " 89907,\n",
              " 62699,\n",
              " 64441,\n",
              " 52249,\n",
              " 55732,\n",
              " 52249,\n",
              " 47180,\n",
              " 56942,\n",
              " 55315,\n",
              " 156346,\n",
              " 144641,\n",
              " 147149,\n",
              " 146313,\n",
              " 152166,\n",
              " 183513,\n",
              " 205163,\n",
              " 184544,\n",
              " 58009,\n",
              " 182482,\n",
              " 188668,\n",
              " 63865,\n",
              " 65294,\n",
              " 60052,\n",
              " 65295,\n",
              " 55632,\n",
              " 69107,\n",
              " 58009,\n",
              " 56108,\n",
              " 54681,\n",
              " 81692,\n",
              " 102500,\n",
              " 194982,\n",
              " 85545,\n",
              " 58712,\n",
              " 55476,\n",
              " 57787,\n",
              " 87086,\n",
              " 59017,\n",
              " 55887,\n",
              " 55887,\n",
              " 60358,\n",
              " 57676,\n",
              " 56863,\n",
              " 54551,\n",
              " 46514,\n",
              " 54852,\n",
              " 45637,\n",
              " 49147,\n",
              " 141433,\n",
              " 116707,\n",
              " 146378,\n",
              " 116707,\n",
              " 131542,\n",
              " 119886,\n",
              " 120599,\n",
              " 129876,\n",
              " 110609,\n",
              " 109895,\n",
              " 110433,\n",
              " 115388,\n",
              " 117512,\n",
              " 118220,\n",
              " 111848,\n",
              " 113022,\n",
              " 104949,\n",
              " 108986,\n",
              " 112349,\n",
              " 132483,\n",
              " 104276,\n",
              " 130045,\n",
              " 138986,\n",
              " 134109,\n",
              " 131671,\n",
              " 124918,\n",
              " 121286,\n",
              " 112571,\n",
              " 122013,\n",
              " 118381,\n",
              " 41095,\n",
              " 38023,\n",
              " 43784,\n",
              " 38023,\n",
              " 36102,\n",
              " 42247,\n",
              " 36102,\n",
              " 36486,\n",
              " 43784,\n",
              " 44552,\n",
              " 87695,\n",
              " 83080,\n",
              " 74508,\n",
              " 110114,\n",
              " 83740,\n",
              " 37387,\n",
              " 39101,\n",
              " 38718,\n",
              " 34088,\n",
              " 37754,\n",
              " 35554,\n",
              " 40251,\n",
              " 37754,\n",
              " 41401,\n",
              " 41785]"
            ]
          },
          "metadata": {},
          "execution_count": 38
        }
      ]
    },
    {
      "cell_type": "markdown",
      "source": [
        "### 4.2 Calculate Mean, Min, and Max"
      ],
      "metadata": {
        "id": "kOglwR4bt8tt"
      }
    },
    {
      "cell_type": "code",
      "source": [
        "tf.math.reduce_mean(lengths)"
      ],
      "metadata": {
        "colab": {
          "base_uri": "https://localhost:8080/"
        },
        "id": "yn148L0Kt4s1",
        "outputId": "034b15e1-976d-47c5-a5b5-2433815f23e4"
      },
      "execution_count": 39,
      "outputs": [
        {
          "output_type": "execute_result",
          "data": {
            "text/plain": [
              "<tf.Tensor: shape=(), dtype=int32, numpy=113099>"
            ]
          },
          "metadata": {},
          "execution_count": 39
        }
      ]
    },
    {
      "cell_type": "code",
      "source": [
        "# The average length of the female vocal samples is 113099 values."
      ],
      "metadata": {
        "id": "gDL1u7Bt4_V6"
      },
      "execution_count": null,
      "outputs": []
    },
    {
      "cell_type": "code",
      "source": [
        "# Since the audio files were converted to 16000Hz, the average length in\n",
        "# seconds can be determined.\n",
        "# 16000hz, means there are 16000 cycles per second.\n",
        "# The 113099 values can be divided by 16000 cycles to determine the length in \n",
        "# seconds."
      ],
      "metadata": {
        "id": "gJrq1bsD5Aff"
      },
      "execution_count": null,
      "outputs": []
    },
    {
      "cell_type": "code",
      "source": [
        "113099/16000"
      ],
      "metadata": {
        "colab": {
          "base_uri": "https://localhost:8080/"
        },
        "id": "jjBhBfGXuDq9",
        "outputId": "bb32fc96-644a-4f1c-fa23-9331b268e3c7"
      },
      "execution_count": 40,
      "outputs": [
        {
          "output_type": "execute_result",
          "data": {
            "text/plain": [
              "7.0686875"
            ]
          },
          "metadata": {},
          "execution_count": 40
        }
      ]
    },
    {
      "cell_type": "code",
      "source": [
        "# The average length of the female vocal audio clips is 7.07 seconds long."
      ],
      "metadata": {
        "id": "0w1jdb905Gmh"
      },
      "execution_count": null,
      "outputs": []
    },
    {
      "cell_type": "code",
      "source": [
        "tf.math.reduce_min(lengths)"
      ],
      "metadata": {
        "colab": {
          "base_uri": "https://localhost:8080/"
        },
        "id": "wDWIjFufuGna",
        "outputId": "84b7ea63-e663-412e-9efc-0e605ac3f0bd"
      },
      "execution_count": 41,
      "outputs": [
        {
          "output_type": "execute_result",
          "data": {
            "text/plain": [
              "<tf.Tensor: shape=(), dtype=int32, numpy=34088>"
            ]
          },
          "metadata": {},
          "execution_count": 41
        }
      ]
    },
    {
      "cell_type": "code",
      "source": [
        "34088/16000"
      ],
      "metadata": {
        "colab": {
          "base_uri": "https://localhost:8080/"
        },
        "id": "hRB1ndZtNgdN",
        "outputId": "f8933fd0-b5a7-4ebb-8f30-911aa5d5d171"
      },
      "execution_count": 42,
      "outputs": [
        {
          "output_type": "execute_result",
          "data": {
            "text/plain": [
              "2.1305"
            ]
          },
          "metadata": {},
          "execution_count": 42
        }
      ]
    },
    {
      "cell_type": "code",
      "source": [
        "# The minimum length of the female vocal audio clips is 34088 units or 2.13 \n",
        "# seconds long. "
      ],
      "metadata": {
        "id": "WxWRvvB75OG7"
      },
      "execution_count": null,
      "outputs": []
    },
    {
      "cell_type": "code",
      "source": [
        "tf.math.reduce_max(lengths)"
      ],
      "metadata": {
        "colab": {
          "base_uri": "https://localhost:8080/"
        },
        "id": "9GXdBacsuK1p",
        "outputId": "32cd2269-77d1-4b62-dcc9-91fdc926b8cf"
      },
      "execution_count": 43,
      "outputs": [
        {
          "output_type": "execute_result",
          "data": {
            "text/plain": [
              "<tf.Tensor: shape=(), dtype=int32, numpy=658982>"
            ]
          },
          "metadata": {},
          "execution_count": 43
        }
      ]
    },
    {
      "cell_type": "code",
      "source": [
        "658982/16000"
      ],
      "metadata": {
        "colab": {
          "base_uri": "https://localhost:8080/"
        },
        "id": "0ezkjW9VNjO0",
        "outputId": "cd361ad2-dc61-4478-db92-490d7fa10822"
      },
      "execution_count": 44,
      "outputs": [
        {
          "output_type": "execute_result",
          "data": {
            "text/plain": [
              "41.186375"
            ]
          },
          "metadata": {},
          "execution_count": 44
        }
      ]
    },
    {
      "cell_type": "code",
      "source": [
        "# The maximum length of the female vocal audio clips is 658982 units or 41.19\n",
        "# seconds long. "
      ],
      "metadata": {
        "id": "VEMGTyFa5V3b"
      },
      "execution_count": null,
      "outputs": []
    },
    {
      "cell_type": "code",
      "source": [
        "# The larger the spectrograms, the more variables there will be for the deep\n",
        "# learning model, which means the more time it will take to take to train,\n",
        "# which means the higher amount of latency there will be."
      ],
      "metadata": {
        "id": "gQhxJMuy5XAW"
      },
      "execution_count": null,
      "outputs": []
    },
    {
      "cell_type": "code",
      "source": [
        "# The processing needs to be quick so 48,000 will be used."
      ],
      "metadata": {
        "id": "WX3-L_zL5ZVE"
      },
      "execution_count": null,
      "outputs": []
    },
    {
      "cell_type": "markdown",
      "source": [
        "## 5. Build Preprocessing Function to Convert to Spectrogram"
      ],
      "metadata": {
        "id": "VaJCmG9ouQAo"
      }
    },
    {
      "cell_type": "markdown",
      "source": [
        "### 5.1 Build Preprocessing Function"
      ],
      "metadata": {
        "id": "nAerwuJWuWSA"
      }
    },
    {
      "cell_type": "code",
      "source": [
        "# The short time forier transfer will be used for conversion into a spectrogram.\n",
        "# The labels assigned (0.0 or 1.0) will be used to make sure the designation\n",
        "# is still there after the data goes through the preprocess function."
      ],
      "metadata": {
        "id": "g1zk-8-B5hsM"
      },
      "execution_count": null,
      "outputs": []
    },
    {
      "cell_type": "code",
      "source": [
        "def preprocess(file_path, label): \n",
        "    wav = load_wav_16k_mono(file_path)\n",
        "    # The data will be loaded into the wav form.\n",
        "    wav = wav[:48000]\n",
        "    # The first 88000 steps will be grabbed for an example from each one \n",
        "    # of the signals.\n",
        "    zero_padding = tf.zeros([48000] - tf.shape(wav), dtype=tf.float32)\n",
        "    wav = tf.concat([zero_padding, wav],0)\n",
        "    # Not everyone of the clips are going to meet that limit.  Anything that \n",
        "    # doesn't meet the full length of the clip, will be padded with 0s.\n",
        "    spectrogram = tf.signal.stft(wav, frame_length=320, frame_step=32)\n",
        "    spectrogram = tf.abs(spectrogram)\n",
        "    # This removes any negative numbers, and outputs only positive examples.\n",
        "    spectrogram = tf.expand_dims(spectrogram, axis=2)\n",
        "    # This encapsulates the spectrogram in another set of arrays, to ensure the\n",
        "    # proper format is available to produce a deep learning model.\n",
        "    return spectrogram, label"
      ],
      "metadata": {
        "id": "xic63TNCuOnH"
      },
      "execution_count": 45,
      "outputs": []
    },
    {
      "cell_type": "code",
      "source": [
        "wav = load_wav_16k_mono(FEMALE_VOCAL_FILE)\n",
        "wav"
      ],
      "metadata": {
        "colab": {
          "base_uri": "https://localhost:8080/"
        },
        "id": "NUl7x7OGuekS",
        "outputId": "98904bcd-b08a-4b51-9147-e6e7d5ac8728"
      },
      "execution_count": 46,
      "outputs": [
        {
          "output_type": "execute_result",
          "data": {
            "text/plain": [
              "<tf.Tensor: shape=(104866,), dtype=float32, numpy=\n",
              "array([-7.4041084e-10,  2.0805353e-09, -1.7395814e-09, ...,\n",
              "        1.4359079e-04,  1.3261179e-04,  1.5024308e-04], dtype=float32)>"
            ]
          },
          "metadata": {},
          "execution_count": 46
        }
      ]
    },
    {
      "cell_type": "markdown",
      "source": [
        "### 5.2 Test Out the Function and Viz the Spectrogram"
      ],
      "metadata": {
        "id": "fDHVVIz4uqRP"
      }
    },
    {
      "cell_type": "code",
      "source": [
        "fvfilepath, fvlabel = femalevocals.shuffle(buffer_size = 10000).as_numpy_iterator().next()"
      ],
      "metadata": {
        "id": "8bJ73vY5umFp"
      },
      "execution_count": 47,
      "outputs": []
    },
    {
      "cell_type": "code",
      "source": [
        "fvspectrogram, fvlabel = preprocess(fvfilepath, fvlabel)"
      ],
      "metadata": {
        "id": "Uz6JgcgDuyW_"
      },
      "execution_count": 48,
      "outputs": []
    },
    {
      "cell_type": "code",
      "source": [
        "fvspectrogram"
      ],
      "metadata": {
        "colab": {
          "base_uri": "https://localhost:8080/"
        },
        "id": "br5L34K6u2T-",
        "outputId": "abf6e2be-8d10-476b-a135-0f382d934d9a"
      },
      "execution_count": 49,
      "outputs": [
        {
          "output_type": "execute_result",
          "data": {
            "text/plain": [
              "<tf.Tensor: shape=(1491, 257, 1), dtype=float32, numpy=\n",
              "array([[[2.71116458e-02],\n",
              "        [2.79790256e-02],\n",
              "        [2.80817803e-02],\n",
              "        ...,\n",
              "        [6.07325148e-07],\n",
              "        [1.77501875e-07],\n",
              "        [2.88709998e-08]],\n",
              "\n",
              "       [[2.31392290e-02],\n",
              "        [2.59362441e-02],\n",
              "        [2.89583951e-02],\n",
              "        ...,\n",
              "        [5.09215511e-07],\n",
              "        [1.44608933e-07],\n",
              "        [8.75443220e-08]],\n",
              "\n",
              "       [[1.58585738e-02],\n",
              "        [1.83600113e-02],\n",
              "        [2.52370294e-02],\n",
              "        ...,\n",
              "        [3.94583026e-07],\n",
              "        [1.10679565e-07],\n",
              "        [1.58324838e-07]],\n",
              "\n",
              "       ...,\n",
              "\n",
              "       [[4.93776333e-03],\n",
              "        [1.74563937e-02],\n",
              "        [8.56880285e-03],\n",
              "        ...,\n",
              "        [3.03779780e-06],\n",
              "        [1.09062216e-06],\n",
              "        [3.04542482e-07]],\n",
              "\n",
              "       [[1.64901745e-02],\n",
              "        [1.60812624e-02],\n",
              "        [2.57915445e-02],\n",
              "        ...,\n",
              "        [3.05457866e-06],\n",
              "        [9.89815135e-07],\n",
              "        [9.87201929e-08]],\n",
              "\n",
              "       [[2.59210095e-02],\n",
              "        [2.77774185e-02],\n",
              "        [2.03604717e-02],\n",
              "        ...,\n",
              "        [3.24661914e-06],\n",
              "        [1.27496332e-06],\n",
              "        [5.18746674e-07]]], dtype=float32)>"
            ]
          },
          "metadata": {},
          "execution_count": 49
        }
      ]
    },
    {
      "cell_type": "markdown",
      "source": [
        "### Female Vocal Spectrogram"
      ],
      "metadata": {
        "id": "JOTSkBFo6FWM"
      }
    },
    {
      "cell_type": "code",
      "source": [
        "plt.figure(figsize=(30,20))\n",
        "plt.imshow(tf.transpose(fvspectrogram)[0])\n",
        "plt.title(\"Female Vocal Spectrogram\")\n",
        "plt.xlabel(\"Time (ms)\")\n",
        "plt.ylabel(\"Frequency (kHz)\")\n",
        "plt.show()"
      ],
      "metadata": {
        "colab": {
          "base_uri": "https://localhost:8080/",
          "height": 267
        },
        "id": "rOiEbIUCu5A5",
        "outputId": "e3761c61-9a5b-4078-bf67-6e261c38b9b7"
      },
      "execution_count": 50,
      "outputs": [
        {
          "output_type": "display_data",
          "data": {
            "text/plain": [
              "<Figure size 2160x1440 with 1 Axes>"
            ],
            "image/png": "[encoded data removed]"
          },
          "metadata": {
            "needs_background": "light"
          }
        }
      ]
    },
    {
      "cell_type": "code",
      "source": [
        "# Visual representation of what the female vocal sample sounds like."
      ],
      "metadata": {
        "id": "B1o_-AFe6Cwx"
      },
      "execution_count": null,
      "outputs": []
    },
    {
      "cell_type": "code",
      "source": [
        "mvfilepath, mvlabel = malevocals.shuffle(buffer_size = 10000).as_numpy_iterator().next()"
      ],
      "metadata": {
        "id": "dkD0nVYRvAAQ"
      },
      "execution_count": 51,
      "outputs": []
    },
    {
      "cell_type": "code",
      "source": [
        "mvspectrogram, mvlabel = preprocess(mvfilepath, mvlabel)"
      ],
      "metadata": {
        "id": "j9DekafvvFFt"
      },
      "execution_count": 52,
      "outputs": []
    },
    {
      "cell_type": "code",
      "source": [
        "mvspectrogram"
      ],
      "metadata": {
        "colab": {
          "base_uri": "https://localhost:8080/"
        },
        "id": "cJ8XwBhgvIKO",
        "outputId": "a1cd8791-6cbb-43ff-c6ed-251f8cf32b85"
      },
      "execution_count": 53,
      "outputs": [
        {
          "output_type": "execute_result",
          "data": {
            "text/plain": [
              "<tf.Tensor: shape=(1491, 257, 1), dtype=float32, numpy=\n",
              "array([[[4.01682854e-02],\n",
              "        [3.08897290e-02],\n",
              "        [1.20833125e-02],\n",
              "        ...,\n",
              "        [5.63080562e-07],\n",
              "        [2.00017652e-07],\n",
              "        [4.47034836e-08]],\n",
              "\n",
              "       [[3.79680172e-02],\n",
              "        [2.90502738e-02],\n",
              "        [1.22482060e-02],\n",
              "        ...,\n",
              "        [5.61736499e-07],\n",
              "        [2.60630998e-07],\n",
              "        [2.23517418e-08]],\n",
              "\n",
              "       [[3.60137559e-02],\n",
              "        [2.79672556e-02],\n",
              "        [1.16865402e-02],\n",
              "        ...,\n",
              "        [4.37743410e-07],\n",
              "        [2.70366399e-07],\n",
              "        [1.37835741e-07]],\n",
              "\n",
              "       ...,\n",
              "\n",
              "       [[6.95581734e-03],\n",
              "        [1.15440199e-02],\n",
              "        [2.83425264e-02],\n",
              "        ...,\n",
              "        [2.20840564e-04],\n",
              "        [1.17359428e-04],\n",
              "        [5.51491976e-05]],\n",
              "\n",
              "       [[2.16072053e-02],\n",
              "        [1.39885163e-02],\n",
              "        [1.24784149e-02],\n",
              "        ...,\n",
              "        [1.81820171e-04],\n",
              "        [1.17196629e-04],\n",
              "        [9.05841589e-05]],\n",
              "\n",
              "       [[1.09635442e-02],\n",
              "        [5.45337610e-03],\n",
              "        [9.44315922e-03],\n",
              "        ...,\n",
              "        [1.52329783e-04],\n",
              "        [9.99727126e-05],\n",
              "        [6.46859407e-05]]], dtype=float32)>"
            ]
          },
          "metadata": {},
          "execution_count": 53
        }
      ]
    },
    {
      "cell_type": "markdown",
      "source": [
        "### Male Vocal Spectrogram"
      ],
      "metadata": {
        "id": "-7PzeU0p6RVa"
      }
    },
    {
      "cell_type": "code",
      "source": [
        "plt.figure(figsize=(30,20))\n",
        "plt.imshow(tf.transpose(mvspectrogram)[0])\n",
        "plt.title(\"Male Vocal Spectrogram\")\n",
        "plt.xlabel(\"Time (ms)\")\n",
        "plt.ylabel(\"Frequency (kHz)\")\n",
        "plt.show()"
      ],
      "metadata": {
        "colab": {
          "base_uri": "https://localhost:8080/",
          "height": 267
        },
        "id": "0k57e98xvLNa",
        "outputId": "844b0fd2-d3d2-4812-c2bd-990cb26a911f"
      },
      "execution_count": 54,
      "outputs": [
        {
          "output_type": "display_data",
          "data": {
            "text/plain": [
              "<Figure size 2160x1440 with 1 Axes>"
            ],
            "image/png": "[encoded data removed]"
          },
          "metadata": {
            "needs_background": "light"
          }
        }
      ]
    },
    {
      "cell_type": "code",
      "source": [
        "# Visual representation of what the male vocal sample sounds like."
      ],
      "metadata": {
        "id": "xEaNQTuhOFry"
      },
      "execution_count": null,
      "outputs": []
    },
    {
      "cell_type": "markdown",
      "source": [
        "## 6. Create Training and Testing Partitions"
      ],
      "metadata": {
        "id": "Jm_iq9C3vUQz"
      }
    },
    {
      "cell_type": "markdown",
      "source": [
        "### 6.1 Create a Tensorflow Data Pipeline"
      ],
      "metadata": {
        "id": "HRhaCvZqvZYw"
      }
    },
    {
      "cell_type": "code",
      "source": [
        "data = data.map(preprocess)\n",
        "# The above code runs the data through the spectrogram function.\n",
        "data = data.cache()\n",
        "data = data.shuffle(buffer_size=1000)\n",
        "# This code provides a mixed bag to draw from out of the female vocal audio \n",
        "# samples (positive) and male audio samples (negative).  This ensures that \n",
        "# there's no overfitting, and no unnecessary bias or variance is introduced into\n",
        "# our model.\n",
        "data = data.batch(16)\n",
        "# Training will be on 16 samples at a time.\n",
        "data = data.prefetch(8)\n",
        "# 8 examples will be prefetched to elimate any CPU bottlenecking."
      ],
      "metadata": {
        "colab": {
          "base_uri": "https://localhost:8080/"
        },
        "id": "GurhC2iavR44",
        "outputId": "51aa80e3-e630-491d-9f54-7af18a109aa3"
      },
      "execution_count": 55,
      "outputs": [
        {
          "output_type": "stream",
          "name": "stdout",
          "text": [
            "WARNING:tensorflow:Using a while_loop for converting IO>AudioResample\n"
          ]
        }
      ]
    },
    {
      "cell_type": "markdown",
      "source": [
        "### 6.2 Split into Training and Testing Partitions"
      ],
      "metadata": {
        "id": "DGt7R3nNvjsR"
      }
    },
    {
      "cell_type": "code",
      "source": [
        "len(data)*.7"
      ],
      "metadata": {
        "colab": {
          "base_uri": "https://localhost:8080/"
        },
        "id": "m_X9OQAdvgH4",
        "outputId": "74233c20-b1a1-4c7f-c847-bede86057938"
      },
      "execution_count": 56,
      "outputs": [
        {
          "output_type": "execute_result",
          "data": {
            "text/plain": [
              "22.4"
            ]
          },
          "metadata": {},
          "execution_count": 56
        }
      ]
    },
    {
      "cell_type": "code",
      "source": [
        "len(data)*.3"
      ],
      "metadata": {
        "colab": {
          "base_uri": "https://localhost:8080/"
        },
        "id": "LYw6pPGEOtev",
        "outputId": "c77829ea-c5ed-4dc6-f9ba-5ffd48ec6018"
      },
      "execution_count": 57,
      "outputs": [
        {
          "output_type": "execute_result",
          "data": {
            "text/plain": [
              "9.6"
            ]
          },
          "metadata": {},
          "execution_count": 57
        }
      ]
    },
    {
      "cell_type": "code",
      "source": [
        "# 70% of our data produces a value of 23.\n",
        "# 30 percent of our data produces a value of 10.\n",
        "# The above values will be used in teh training and testing partitions."
      ],
      "metadata": {
        "id": "3ggC6aaJ7bwC"
      },
      "execution_count": null,
      "outputs": []
    },
    {
      "cell_type": "code",
      "source": [
        "train = data.take(23)\n",
        "test = data.skip(23).take(10)"
      ],
      "metadata": {
        "id": "Co11nTVnvqI-"
      },
      "execution_count": 58,
      "outputs": []
    },
    {
      "cell_type": "code",
      "source": [
        "# The above code outputs training and testing partition."
      ],
      "metadata": {
        "id": "9TRxeLGn7o7a"
      },
      "execution_count": null,
      "outputs": []
    },
    {
      "cell_type": "markdown",
      "source": [
        "### 6.3 Test One Batch"
      ],
      "metadata": {
        "id": "Z74UPEFGvxz_"
      }
    },
    {
      "cell_type": "code",
      "source": [
        "samples, labels = train.as_numpy_iterator().next()"
      ],
      "metadata": {
        "id": "MVU19pQNvtPf"
      },
      "execution_count": 59,
      "outputs": []
    },
    {
      "cell_type": "code",
      "source": [
        "samples.shape"
      ],
      "metadata": {
        "colab": {
          "base_uri": "https://localhost:8080/"
        },
        "id": "YlpSrXcGv2oy",
        "outputId": "3820ce8c-8d68-4f9c-cc84-a88559ee37bd"
      },
      "execution_count": 60,
      "outputs": [
        {
          "output_type": "execute_result",
          "data": {
            "text/plain": [
              "(16, 1491, 257, 1)"
            ]
          },
          "metadata": {},
          "execution_count": 60
        }
      ]
    },
    {
      "cell_type": "code",
      "source": [
        "# There are 16 different examples of the spectrogram, which have the\n",
        "# shape of 1491 by 257 by 1.  This specific shape will be needed to run\n",
        "# the input through the deep learning model."
      ],
      "metadata": {
        "id": "ONkLA84T7uot"
      },
      "execution_count": null,
      "outputs": []
    },
    {
      "cell_type": "code",
      "source": [
        "# The training and testing partition have effectively been created."
      ],
      "metadata": {
        "id": "J9LJ4TrQ7wUo"
      },
      "execution_count": null,
      "outputs": []
    },
    {
      "cell_type": "markdown",
      "source": [
        "## 7. Build Deep Learning Model"
      ],
      "metadata": {
        "id": "asxCqvNMwDTn"
      }
    },
    {
      "cell_type": "markdown",
      "source": [
        "### 7.1 Load Tensorflow Dependencies"
      ],
      "metadata": {
        "id": "qyWEysMpwDtJ"
      }
    },
    {
      "cell_type": "code",
      "source": [
        "# A few more dependencies will be needed to build the Deep Learning Model."
      ],
      "metadata": {
        "id": "XpAEzEgx8B3x"
      },
      "execution_count": null,
      "outputs": []
    },
    {
      "cell_type": "code",
      "source": [
        "from tensorflow.keras.models import Sequential\n",
        "# This package will provide the Sequential API.\n",
        "from tensorflow.keras.layers import Conv2D, Dense, Flatten\n",
        "# This package will import 3 needed layers."
      ],
      "metadata": {
        "id": "LTWBp1oJv9dh"
      },
      "execution_count": 61,
      "outputs": []
    },
    {
      "cell_type": "markdown",
      "source": [
        "### 7.2 Build Sequential Model, Compile and View Summary"
      ],
      "metadata": {
        "id": "DLEyRMSpwR2S"
      }
    },
    {
      "cell_type": "code",
      "source": [
        "model = Sequential()\n",
        "# First, the Sequential model will be defined.\n",
        "model.add(Conv2D(16, (3,3), activation='relu', input_shape=(1491, 257,1)))\n",
        "# Next a convolution layer will be added.\n",
        "# This defines the desired output of 16 different kernels of shape 3 x 3.\n",
        "# Activation=relu stands for a \"rectivied linear unit\".\n",
        "# The input shape is to match what the spectrogram looks like.\n",
        "model.add(Conv2D(16, (3,3), activation='relu'))\n",
        "model.add(Flatten())\n",
        "# This above code takes the covolutional outputs in 3 dimentions and flatten\n",
        "# them down to a single dimension.\n",
        "model.add(Dense(128, activation='relu'))\n",
        "model.add(Dense(1, activation='sigmoid'))\n",
        "# The above code provides either an output of:\n",
        "# 1 - Female Vocal Sample, \"Positive\" or\n",
        "# 0 - Male Vocal Sample, \"Negative\""
      ],
      "metadata": {
        "id": "AR-d7V-FwPb7"
      },
      "execution_count": 62,
      "outputs": []
    },
    {
      "cell_type": "code",
      "source": [
        "model.compile('Adam', loss='BinaryCrossentropy', metrics=[tf.keras.metrics.Recall(),tf.keras.metrics.Precision()])\n",
        "# The \"Adam Optimizer\" is a, \"replacement optimization algorithm for stochastic \n",
        "# gradient descent for training deep learning models.\"\n",
        "# The Binary Crossentropy, \"compares each of the predicted probabilities to \n",
        "# actual class output which can be either 0 or 1.  This will be used since\n",
        "# utlizied binary classification is needed for the results.\n",
        "# The data will also pass through a couple of metrics, \"Recall\" & \"Precision\"."
      ],
      "metadata": {
        "id": "c-ICqw3ZweUt"
      },
      "execution_count": 63,
      "outputs": []
    },
    {
      "cell_type": "code",
      "source": [
        "model.summary()"
      ],
      "metadata": {
        "colab": {
          "base_uri": "https://localhost:8080/"
        },
        "id": "VkoPxg0owjJJ",
        "outputId": "0ce73f08-c4f2-46a8-df5f-9b083107a90e"
      },
      "execution_count": 64,
      "outputs": [
        {
          "output_type": "stream",
          "name": "stdout",
          "text": [
            "Model: \"sequential\"\n",
            "_________________________________________________________________\n",
            " Layer (type)                Output Shape              Param #   \n",
            "=================================================================\n",
            " conv2d (Conv2D)             (None, 1489, 255, 16)     160       \n",
            "                                                                 \n",
            " conv2d_1 (Conv2D)           (None, 1487, 253, 16)     2320      \n",
            "                                                                 \n",
            " flatten (Flatten)           (None, 6019376)           0         \n",
            "                                                                 \n",
            " dense (Dense)               (None, 128)               770480256 \n",
            "                                                                 \n",
            " dense_1 (Dense)             (None, 1)                 129       \n",
            "                                                                 \n",
            "=================================================================\n",
            "Total params: 770,482,865\n",
            "Trainable params: 770,482,865\n",
            "Non-trainable params: 0\n",
            "_________________________________________________________________\n"
          ]
        }
      ]
    },
    {
      "cell_type": "code",
      "source": [
        "# The above is the neural network.\n",
        "# It's rather large with 770,482, 865 parameters in it."
      ],
      "metadata": {
        "id": "KGKr0T2d8iCy"
      },
      "execution_count": null,
      "outputs": []
    },
    {
      "cell_type": "markdown",
      "source": [
        "### 7.3 Fit Model, View Loss and KPI Plots"
      ],
      "metadata": {
        "id": "Dx00juL2yDKW"
      }
    },
    {
      "cell_type": "code",
      "source": [
        "# Now the model can be trained!"
      ],
      "metadata": {
        "id": "V9xfO-qS8rL2"
      },
      "execution_count": null,
      "outputs": []
    },
    {
      "cell_type": "code",
      "source": [
        "!apt install --allow-change-held-packages libcudnn8=8.1.0.77-1+cuda11.2\n",
        "# This installation will be needed to run the \"model.fit\" on Google Colab."
      ],
      "metadata": {
        "id": "mr9zR7mpx8_Y",
        "colab": {
          "base_uri": "https://localhost:8080/"
        },
        "outputId": "75602afb-4710-4064-d390-784108c8e845"
      },
      "execution_count": 65,
      "outputs": [
        {
          "output_type": "stream",
          "name": "stdout",
          "text": [
            "Reading package lists... Done\n",
            "Building dependency tree       \n",
            "Reading state information... Done\n",
            "The following package was automatically installed and is no longer required:\n",
            "  libnvidia-common-460\n",
            "Use 'apt autoremove' to remove it.\n",
            "The following packages will be REMOVED:\n",
            "  libcudnn8-dev\n",
            "The following held packages will be changed:\n",
            "  libcudnn8\n",
            "The following packages will be upgraded:\n",
            "  libcudnn8\n",
            "1 upgraded, 0 newly installed, 1 to remove and 60 not upgraded.\n",
            "Need to get 430 MB of archives.\n",
            "After this operation, 3,139 MB disk space will be freed.\n",
            "Get:1 https://developer.download.nvidia.com/compute/cuda/repos/ubuntu1804/x86_64  libcudnn8 8.1.0.77-1+cuda11.2 [430 MB]\n",
            "Fetched 430 MB in 6s (66.6 MB/s)\n",
            "(Reading database ... 155639 files and directories currently installed.)\n",
            "Removing libcudnn8-dev (8.0.5.39-1+cuda11.1) ...\n",
            "(Reading database ... 155617 files and directories currently installed.)\n",
            "Preparing to unpack .../libcudnn8_8.1.0.77-1+cuda11.2_amd64.deb ...\n",
            "Unpacking libcudnn8 (8.1.0.77-1+cuda11.2) over (8.0.5.39-1+cuda11.1) ...\n",
            "Setting up libcudnn8 (8.1.0.77-1+cuda11.2) ...\n"
          ]
        }
      ]
    },
    {
      "cell_type": "code",
      "source": [
        "hist = model.fit(train, epochs=4, validation_data=test)\n",
        "# \"hist\" will provide the training values, the loss metrics for the validation\n",
        "# partition and training partition.  \n",
        "# Essentially, by capturing this memory, it can then be visualized.\n",
        "# 4 epochs will be trained.\n",
        "# The amount of epochs is based on how accurate the model needs to be and \n",
        "# based on whether or not overfitting is beginning to happen."
      ],
      "metadata": {
        "id": "rOnNlN1byOKQ",
        "colab": {
          "base_uri": "https://localhost:8080/"
        },
        "outputId": "a0935c47-3c5a-46d7-8f26-bab875dfa743"
      },
      "execution_count": 66,
      "outputs": [
        {
          "output_type": "stream",
          "name": "stdout",
          "text": [
            "Epoch 1/4\n",
            "23/23 [==============================] - 9s 228ms/step - loss: 4.4739 - recall: 0.8108 - precision: 0.7895 - val_loss: 0.2923 - val_recall: 0.8485 - val_precision: 0.9492\n",
            "Epoch 2/4\n",
            "23/23 [==============================] - 5s 206ms/step - loss: 0.2283 - recall: 0.9180 - precision: 0.9655 - val_loss: 0.2123 - val_recall: 0.9375 - val_precision: 0.9091\n",
            "Epoch 3/4\n",
            "23/23 [==============================] - 5s 206ms/step - loss: 0.1135 - recall: 0.9529 - precision: 0.9838 - val_loss: 0.0555 - val_recall: 0.9683 - val_precision: 1.0000\n",
            "Epoch 4/4\n",
            "23/23 [==============================] - 5s 207ms/step - loss: 0.0451 - recall: 0.9787 - precision: 0.9946 - val_loss: 0.0837 - val_recall: 1.0000 - val_precision: 0.9595\n"
          ]
        }
      ]
    },
    {
      "cell_type": "code",
      "source": [
        "hist.history['loss']"
      ],
      "metadata": {
        "id": "9F1ByOzcyZ3y",
        "colab": {
          "base_uri": "https://localhost:8080/"
        },
        "outputId": "601fd600-eafe-40a7-94fb-96a95ddadd9c"
      },
      "execution_count": 67,
      "outputs": [
        {
          "output_type": "execute_result",
          "data": {
            "text/plain": [
              "[4.473933696746826,\n",
              " 0.22834159433841705,\n",
              " 0.11347568780183792,\n",
              " 0.04514355584979057]"
            ]
          },
          "metadata": {},
          "execution_count": 67
        }
      ]
    },
    {
      "cell_type": "code",
      "source": [
        "# The audio classification model has successfully been trained!\n",
        "# The training partition ended with 98% recall and 99% precicion.\n",
        "# the validation partition ended with 100% recall and 96% precision."
      ],
      "metadata": {
        "id": "o4N58UwY856g"
      },
      "execution_count": null,
      "outputs": []
    },
    {
      "cell_type": "markdown",
      "source": [
        "### Loss Plot"
      ],
      "metadata": {
        "id": "_ruD5-OUya0a"
      }
    },
    {
      "cell_type": "code",
      "source": [
        "plt.title('Loss')\n",
        "plt.plot(hist.history['loss'], 'r')\n",
        "plt.plot(hist.history['val_loss'], 'b')\n",
        "plt.title(\"Male Vocal & Female Vocal - Training/Validation Loss\")\n",
        "plt.xlabel(\"Epochs\")\n",
        "plt.ylabel(\"Loss\")\n",
        "plt.show()"
      ],
      "metadata": {
        "id": "Gql5a1AWycDg",
        "colab": {
          "base_uri": "https://localhost:8080/",
          "height": 295
        },
        "outputId": "e2f9fe2c-7fc8-4911-ec25-92f5907927cc"
      },
      "execution_count": 68,
      "outputs": [
        {
          "output_type": "display_data",
          "data": {
            "text/plain": [
              "<Figure size 432x288 with 1 Axes>"
            ],
            "image/png": "[encoded data removed]"
          },
          "metadata": {
            "needs_background": "light"
          }
        }
      ]
    },
    {
      "cell_type": "markdown",
      "source": [
        "### Precision Plot"
      ],
      "metadata": {
        "id": "23uJQNFwyfLQ"
      }
    },
    {
      "cell_type": "code",
      "source": [
        "plt.title('Precision')\n",
        "plt.plot(hist.history['precision'], 'r')\n",
        "plt.plot(hist.history['val_precision'], 'b')\n",
        "plt.title(\"Male Vocal & Female Vocal - Training/Validation Precision\")\n",
        "plt.xlabel(\"Epochs\")\n",
        "plt.ylabel(\"Precision\")\n",
        "plt.show()"
      ],
      "metadata": {
        "id": "Sv3aDkCbyhe8",
        "colab": {
          "base_uri": "https://localhost:8080/",
          "height": 295
        },
        "outputId": "6acefebe-f67d-4268-acc3-27e814ea50e7"
      },
      "execution_count": 70,
      "outputs": [
        {
          "output_type": "display_data",
          "data": {
            "text/plain": [
              "<Figure size 432x288 with 1 Axes>"
            ],
            "image/png": "[encoded data removed]"
          },
          "metadata": {
            "needs_background": "light"
          }
        }
      ]
    },
    {
      "cell_type": "markdown",
      "source": [
        "### Recall Plot"
      ],
      "metadata": {
        "id": "z7bVC4KSylzz"
      }
    },
    {
      "cell_type": "code",
      "source": [
        "plt.title('Recall')\n",
        "plt.plot(hist.history['recall'], 'r')\n",
        "plt.plot(hist.history['val_recall'], 'b')\n",
        "plt.title(\"Male Vocal & Female Vocal - Training/Validation Recall\")\n",
        "plt.xlabel(\"Epochs\")\n",
        "plt.ylabel(\"Recall\")\n",
        "plt.show()"
      ],
      "metadata": {
        "id": "o38Cv65iynRf",
        "colab": {
          "base_uri": "https://localhost:8080/",
          "height": 295
        },
        "outputId": "329df6e2-899d-4ab3-be17-c2bfee5d578e"
      },
      "execution_count": 71,
      "outputs": [
        {
          "output_type": "display_data",
          "data": {
            "text/plain": [
              "<Figure size 432x288 with 1 Axes>"
            ],
            "image/png": "[encoded data removed]"
          },
          "metadata": {
            "needs_background": "light"
          }
        }
      ]
    },
    {
      "cell_type": "markdown",
      "source": [
        "## 8. Make a Prediction on a Single Clip"
      ],
      "metadata": {
        "id": "XilcOZzVysze"
      }
    },
    {
      "cell_type": "markdown",
      "source": [
        "### 8.1 Get One Batch and Make a Prediction"
      ],
      "metadata": {
        "id": "aE6KdkzMyxSd"
      }
    },
    {
      "cell_type": "code",
      "source": [
        "X_test, y_test = test.as_numpy_iterator().next()"
      ],
      "metadata": {
        "id": "HG3XoSnuyv4U"
      },
      "execution_count": 72,
      "outputs": []
    },
    {
      "cell_type": "code",
      "source": [
        "X_test.shape\n",
        "# This should output 16 spectrograms."
      ],
      "metadata": {
        "id": "1v5FIh9Hy4NC",
        "colab": {
          "base_uri": "https://localhost:8080/"
        },
        "outputId": "6123dab8-1d99-44e5-da6b-b5fe2a11adb2"
      },
      "execution_count": 73,
      "outputs": [
        {
          "output_type": "execute_result",
          "data": {
            "text/plain": [
              "(16, 1491, 257, 1)"
            ]
          },
          "metadata": {},
          "execution_count": 73
        }
      ]
    },
    {
      "cell_type": "code",
      "source": [
        "y_test.shape\n",
        "# This should output 16 labels."
      ],
      "metadata": {
        "id": "_eyyoCziy6fC",
        "colab": {
          "base_uri": "https://localhost:8080/"
        },
        "outputId": "245c3fdb-ff1c-45b1-d9ba-7fb782f660ae"
      },
      "execution_count": 74,
      "outputs": [
        {
          "output_type": "execute_result",
          "data": {
            "text/plain": [
              "(16,)"
            ]
          },
          "metadata": {},
          "execution_count": 74
        }
      ]
    },
    {
      "cell_type": "code",
      "source": [
        "yhat = model.predict(X_test)\n",
        "# This will allow for the audio clips to through the deep learning model\n",
        "# and for predictions to be made."
      ],
      "metadata": {
        "id": "IFppkLXfy_qR"
      },
      "execution_count": 75,
      "outputs": []
    },
    {
      "cell_type": "code",
      "source": [
        "yhat"
      ],
      "metadata": {
        "id": "pLtp10gVzFEb",
        "colab": {
          "base_uri": "https://localhost:8080/"
        },
        "outputId": "6267896a-d3a6-4d8d-f0f6-b4b25eac41f6"
      },
      "execution_count": 76,
      "outputs": [
        {
          "output_type": "execute_result",
          "data": {
            "text/plain": [
              "array([[6.6300496e-02],\n",
              "       [3.7662781e-04],\n",
              "       [9.9742186e-01],\n",
              "       [3.8512662e-05],\n",
              "       [8.5676578e-07],\n",
              "       [2.0307738e-04],\n",
              "       [5.3548285e-13],\n",
              "       [2.1748992e-28],\n",
              "       [5.1658265e-03],\n",
              "       [9.9804699e-01],\n",
              "       [9.9717855e-01],\n",
              "       [9.9999964e-01],\n",
              "       [2.3418897e-06],\n",
              "       [2.5761071e-01],\n",
              "       [9.9857569e-01],\n",
              "       [9.9999869e-01]], dtype=float32)"
            ]
          },
          "metadata": {},
          "execution_count": 76
        }
      ]
    },
    {
      "cell_type": "code",
      "source": [
        "# The above are the logits, or the \"confidence matrix\".\n",
        "# Anything 1.000000 is a match to the female vocal.\n",
        "# Rather than looking at these mannually, they can be converted into classes."
      ],
      "metadata": {
        "id": "8F4tr0AD9Syt"
      },
      "execution_count": null,
      "outputs": []
    },
    {
      "cell_type": "markdown",
      "source": [
        "### 8.2 Convert Logits to Classes"
      ],
      "metadata": {
        "id": "KUTPTgGAzHqo"
      }
    },
    {
      "cell_type": "code",
      "source": [
        "yhat = [1 if prediction > 0.5 else 0 for prediction in yhat]"
      ],
      "metadata": {
        "id": "JtVPhGqYzJ2M"
      },
      "execution_count": 77,
      "outputs": []
    },
    {
      "cell_type": "code",
      "source": [
        "yhat"
      ],
      "metadata": {
        "id": "9xPyjdhbzNBh",
        "colab": {
          "base_uri": "https://localhost:8080/"
        },
        "outputId": "84cc38a8-ca35-4215-c95b-b37d9a6266d0"
      },
      "execution_count": 78,
      "outputs": [
        {
          "output_type": "execute_result",
          "data": {
            "text/plain": [
              "[0, 0, 1, 0, 0, 0, 0, 0, 0, 1, 1, 1, 0, 0, 1, 1]"
            ]
          },
          "metadata": {},
          "execution_count": 78
        }
      ]
    },
    {
      "cell_type": "code",
      "source": [
        "tf.math.reduce_sum(yhat)"
      ],
      "metadata": {
        "id": "mkoslS3kzQMo",
        "colab": {
          "base_uri": "https://localhost:8080/"
        },
        "outputId": "c1bf311b-f9dd-48eb-c2c3-4223d6ba72a9"
      },
      "execution_count": 79,
      "outputs": [
        {
          "output_type": "execute_result",
          "data": {
            "text/plain": [
              "<tf.Tensor: shape=(), dtype=int32, numpy=6>"
            ]
          },
          "metadata": {},
          "execution_count": 79
        }
      ]
    },
    {
      "cell_type": "code",
      "source": [
        "# This shows that 6 female vocals signals were detected in that clip."
      ],
      "metadata": {
        "id": "DXxuzn4q9azK"
      },
      "execution_count": null,
      "outputs": []
    },
    {
      "cell_type": "code",
      "source": [
        "tf.math.reduce_sum(y_test)"
      ],
      "metadata": {
        "id": "NdU80uaXzTCF",
        "colab": {
          "base_uri": "https://localhost:8080/"
        },
        "outputId": "0ea60ea0-bd1f-4f60-c17b-f1640325e4d0"
      },
      "execution_count": 80,
      "outputs": [
        {
          "output_type": "execute_result",
          "data": {
            "text/plain": [
              "<tf.Tensor: shape=(), dtype=float32, numpy=5.0>"
            ]
          },
          "metadata": {},
          "execution_count": 80
        }
      ]
    },
    {
      "cell_type": "code",
      "source": [
        "# 5 female vocal signals were detected in the actual."
      ],
      "metadata": {
        "id": "JsJnwjxQ9fi0"
      },
      "execution_count": null,
      "outputs": []
    },
    {
      "cell_type": "code",
      "source": [
        "yhat"
      ],
      "metadata": {
        "id": "BNCI2BIdzVYR",
        "colab": {
          "base_uri": "https://localhost:8080/"
        },
        "outputId": "e72b948d-ac31-4322-f58b-7006da7c8a4c"
      },
      "execution_count": 81,
      "outputs": [
        {
          "output_type": "execute_result",
          "data": {
            "text/plain": [
              "[0, 0, 1, 0, 0, 0, 0, 0, 0, 1, 1, 1, 0, 0, 1, 1]"
            ]
          },
          "metadata": {},
          "execution_count": 81
        }
      ]
    },
    {
      "cell_type": "code",
      "source": [
        "y_test.astype(int)"
      ],
      "metadata": {
        "id": "hZAnh3OtzXna",
        "colab": {
          "base_uri": "https://localhost:8080/"
        },
        "outputId": "203c6468-9022-48af-bb51-93744bce306d"
      },
      "execution_count": 82,
      "outputs": [
        {
          "output_type": "execute_result",
          "data": {
            "text/plain": [
              "array([0, 0, 1, 0, 0, 0, 0, 0, 0, 1, 1, 1, 0, 0, 0, 1])"
            ]
          },
          "metadata": {},
          "execution_count": 82
        }
      ]
    },
    {
      "cell_type": "code",
      "source": [
        "# The model is accurately predicitng what is a female vocal signal and what is \n",
        "# not."
      ],
      "metadata": {
        "id": "0Sn-Y4Pa9mZB"
      },
      "execution_count": null,
      "outputs": []
    },
    {
      "cell_type": "markdown",
      "source": [
        "## 9. Build Forest Parsing Functions"
      ],
      "metadata": {
        "id": "S1VNqZCLzdLi"
      }
    },
    {
      "cell_type": "code",
      "source": [
        "# Time to go through the recorded audio clips from Harvest Chapel."
      ],
      "metadata": {
        "id": "POdkna239shI"
      },
      "execution_count": null,
      "outputs": []
    },
    {
      "cell_type": "markdown",
      "source": [
        "### 9.1 Load up MP3s"
      ],
      "metadata": {
        "id": "Pc6807srzhqu"
      }
    },
    {
      "cell_type": "code",
      "source": [
        "def load_mp3_16k_mono(filename):\n",
        "    \"\"\" Load a WAV file, convert it to a float tensor, resample to 16 kHz single-channel audio. \"\"\"\n",
        "    res = tfio.audio.AudioIOTensor(filename)\n",
        "    # The audio clips from Harvest Chapel are in an mp3 format.\n",
        "    # This function will take the mp3 and convert it into a tensor. \n",
        "    tensor = res.to_tensor()\n",
        "    tensor = tf.math.reduce_sum(tensor, axis=1) / 2 \n",
        "    # Each one of the files are multi-channel.  The average between the two\n",
        "    # different channels will be reduced down into a single-channel value.\n",
        "    sample_rate = res.rate\n",
        "    sample_rate = tf.cast(sample_rate, dtype=tf.int64)\n",
        "    # The above code will extract sample rate and cast.\n",
        "    wav = tfio.audio.resample(tensor, rate_in=sample_rate, rate_out=16000)\n",
        "    # The above code will resample the resulting wave file to 16 Hz.\n",
        "    return wav"
      ],
      "metadata": {
        "id": "kG_-zQBczgij"
      },
      "execution_count": 83,
      "outputs": []
    },
    {
      "cell_type": "code",
      "source": [
        "AUDIO_PATH = '/content/drive/My Drive/Colab Notebooks/Data 2/Audio Files 2/'"
      ],
      "metadata": {
        "id": "wfTo7kD-zte9"
      },
      "execution_count": 84,
      "outputs": []
    },
    {
      "cell_type": "code",
      "source": [
        "mp3 = os.path.join(AUDIO_PATH, 'Shayne Audio (3) 1.mp3')\n",
        "# The above code defines the file path."
      ],
      "metadata": {
        "id": "Gtg_fAlUzxNm"
      },
      "execution_count": 85,
      "outputs": []
    },
    {
      "cell_type": "code",
      "source": [
        "wav = load_mp3_16k_mono(mp3)\n",
        "# The above code will load the mp3 file into a wav file."
      ],
      "metadata": {
        "id": "UMjJNwYI0mjv"
      },
      "execution_count": 86,
      "outputs": []
    },
    {
      "cell_type": "code",
      "source": [
        "wav"
      ],
      "metadata": {
        "id": "VqiLrTch0qHG",
        "colab": {
          "base_uri": "https://localhost:8080/"
        },
        "outputId": "52e92b78-7a14-4a5a-8a2c-942f35441023"
      },
      "execution_count": 87,
      "outputs": [
        {
          "output_type": "execute_result",
          "data": {
            "text/plain": [
              "<tf.Tensor: shape=(2925714,), dtype=float32, numpy=\n",
              "array([0.0000000e+00, 2.3504147e-17, 1.6126602e-16, ..., 0.0000000e+00,\n",
              "       0.0000000e+00, 0.0000000e+00], dtype=float32)>"
            ]
          },
          "metadata": {},
          "execution_count": 87
        }
      ]
    },
    {
      "cell_type": "code",
      "source": [
        "# Now the audio file will be converted into a number of slices.\n",
        "# Rather than taking one massive clip and trying to make a prediction,\n",
        "# the clip will sliced into the same size audio slices that were\n",
        "# passed to the model.\n",
        "# This will allow for multiple predictions on a single audio clip."
      ],
      "metadata": {
        "id": "CXcHKwil-I-R"
      },
      "execution_count": null,
      "outputs": []
    },
    {
      "cell_type": "code",
      "source": [
        "audio_slices = tf.keras.utils.timeseries_dataset_from_array(wav, wav, sequence_length=48000, sequence_stride=48000, batch_size=1)"
      ],
      "metadata": {
        "id": "9t8dzR1q0qYE"
      },
      "execution_count": 88,
      "outputs": []
    },
    {
      "cell_type": "code",
      "source": [
        "samples, index = audio_slices.as_numpy_iterator().next()"
      ],
      "metadata": {
        "id": "2TzbmMMC0uJv"
      },
      "execution_count": 89,
      "outputs": []
    },
    {
      "cell_type": "code",
      "source": [
        "len(audio_slices)"
      ],
      "metadata": {
        "id": "9Ri_l3Gj0xkG",
        "colab": {
          "base_uri": "https://localhost:8080/"
        },
        "outputId": "0fa7ef3b-583c-401d-ea1d-126b5a06d62d"
      },
      "execution_count": 90,
      "outputs": [
        {
          "output_type": "execute_result",
          "data": {
            "text/plain": [
              "60"
            ]
          },
          "metadata": {},
          "execution_count": 90
        }
      ]
    },
    {
      "cell_type": "code",
      "source": [
        "samples.shape"
      ],
      "metadata": {
        "id": "X3wLHlYM00Hd",
        "colab": {
          "base_uri": "https://localhost:8080/"
        },
        "outputId": "84253ed3-3855-48d7-a440-d4f290a48a56"
      },
      "execution_count": 91,
      "outputs": [
        {
          "output_type": "execute_result",
          "data": {
            "text/plain": [
              "(1, 48000)"
            ]
          },
          "metadata": {},
          "execution_count": 91
        }
      ]
    },
    {
      "cell_type": "code",
      "source": [
        "# One clip has successfully been converted into 60 different windows."
      ],
      "metadata": {
        "id": "k1HzqNXa-PNa"
      },
      "execution_count": null,
      "outputs": []
    },
    {
      "cell_type": "markdown",
      "source": [
        "### 9.2 Build Function to Convert Clips into Windowed Spectrograms"
      ],
      "metadata": {
        "id": "90b7yZAi03tY"
      }
    },
    {
      "cell_type": "code",
      "source": [
        "def preprocess_mp3(sample, index):\n",
        "    sample = sample[0]\n",
        "    zero_padding = tf.zeros([48000] - tf.shape(sample), dtype=tf.float32)\n",
        "    wav = tf.concat([zero_padding, sample],0)\n",
        "    spectrogram = tf.signal.stft(wav, frame_length=320, frame_step=32)\n",
        "    spectrogram = tf.abs(spectrogram)\n",
        "    spectrogram = tf.expand_dims(spectrogram, axis=2)\n",
        "    return spectrogram"
      ],
      "metadata": {
        "id": "5xfo-cPl08zS"
      },
      "execution_count": 92,
      "outputs": []
    },
    {
      "cell_type": "code",
      "source": [
        "# The above code is a function for converting the converted mp3 audio clips \n",
        "# into spectrograms."
      ],
      "metadata": {
        "id": "3vSGYB9P-U83"
      },
      "execution_count": null,
      "outputs": []
    },
    {
      "cell_type": "markdown",
      "source": [
        "### 9.3 Convert Longer Clips into Windows and Make Predictions"
      ],
      "metadata": {
        "id": "7Ztg-e-61BFr"
      }
    },
    {
      "cell_type": "code",
      "source": [
        "audio_slices = tf.keras.utils.timeseries_dataset_from_array(wav, wav, sequence_length=16000, sequence_stride=16000, batch_size=1)\n",
        "audio_slices = audio_slices.map(preprocess_mp3)\n",
        "audio_slices = audio_slices.batch(64)"
      ],
      "metadata": {
        "id": "WfamVE9i1Ea4"
      },
      "execution_count": 93,
      "outputs": []
    },
    {
      "cell_type": "code",
      "source": [
        "yhat = model.predict(audio_slices)\n",
        "yhat = [1 if prediction > 0.99 else 0 for prediction in yhat]\n",
        "# 99% was used to increase the conficence of the model, meaning only the most\n",
        "# confident predictions will be considered valid for female vocal signal \n",
        "# detection."
      ],
      "metadata": {
        "id": "rC9VxDZB1Ijc"
      },
      "execution_count": 94,
      "outputs": []
    },
    {
      "cell_type": "code",
      "source": [
        "yhat"
      ],
      "metadata": {
        "id": "mOjZVAn01Ks9",
        "colab": {
          "base_uri": "https://localhost:8080/"
        },
        "outputId": "376a78a8-1a12-420e-f6bc-dadb821bb987"
      },
      "execution_count": 95,
      "outputs": [
        {
          "output_type": "execute_result",
          "data": {
            "text/plain": [
              "[0,\n",
              " 0,\n",
              " 0,\n",
              " 0,\n",
              " 0,\n",
              " 0,\n",
              " 0,\n",
              " 0,\n",
              " 0,\n",
              " 0,\n",
              " 0,\n",
              " 0,\n",
              " 0,\n",
              " 0,\n",
              " 0,\n",
              " 1,\n",
              " 0,\n",
              " 0,\n",
              " 0,\n",
              " 0,\n",
              " 0,\n",
              " 0,\n",
              " 0,\n",
              " 0,\n",
              " 0,\n",
              " 0,\n",
              " 0,\n",
              " 0,\n",
              " 0,\n",
              " 0,\n",
              " 0,\n",
              " 0,\n",
              " 0,\n",
              " 0,\n",
              " 0,\n",
              " 0,\n",
              " 0,\n",
              " 0,\n",
              " 0,\n",
              " 0,\n",
              " 0,\n",
              " 0,\n",
              " 0,\n",
              " 0,\n",
              " 0,\n",
              " 0,\n",
              " 0,\n",
              " 0,\n",
              " 0,\n",
              " 0,\n",
              " 0,\n",
              " 0,\n",
              " 0,\n",
              " 0,\n",
              " 0,\n",
              " 0,\n",
              " 0,\n",
              " 0,\n",
              " 0,\n",
              " 1,\n",
              " 0,\n",
              " 0,\n",
              " 0,\n",
              " 0,\n",
              " 0,\n",
              " 0,\n",
              " 0,\n",
              " 0,\n",
              " 0,\n",
              " 0,\n",
              " 0,\n",
              " 0,\n",
              " 0,\n",
              " 0,\n",
              " 0,\n",
              " 0,\n",
              " 0,\n",
              " 0,\n",
              " 0,\n",
              " 0,\n",
              " 0,\n",
              " 0,\n",
              " 0,\n",
              " 0,\n",
              " 0,\n",
              " 0,\n",
              " 0,\n",
              " 0,\n",
              " 0,\n",
              " 0,\n",
              " 0,\n",
              " 0,\n",
              " 0,\n",
              " 0,\n",
              " 0,\n",
              " 1,\n",
              " 0,\n",
              " 1,\n",
              " 0,\n",
              " 0,\n",
              " 0,\n",
              " 0,\n",
              " 0,\n",
              " 0,\n",
              " 0,\n",
              " 0,\n",
              " 0,\n",
              " 0,\n",
              " 0,\n",
              " 1,\n",
              " 0,\n",
              " 1,\n",
              " 0,\n",
              " 0,\n",
              " 0,\n",
              " 0,\n",
              " 0,\n",
              " 0,\n",
              " 0,\n",
              " 0,\n",
              " 0,\n",
              " 1,\n",
              " 1,\n",
              " 0,\n",
              " 0,\n",
              " 0,\n",
              " 0,\n",
              " 0,\n",
              " 0,\n",
              " 0,\n",
              " 0,\n",
              " 1,\n",
              " 0,\n",
              " 0,\n",
              " 0,\n",
              " 1,\n",
              " 0,\n",
              " 1,\n",
              " 0,\n",
              " 0,\n",
              " 0,\n",
              " 0,\n",
              " 0,\n",
              " 0,\n",
              " 0,\n",
              " 0,\n",
              " 0,\n",
              " 1,\n",
              " 1,\n",
              " 0,\n",
              " 0,\n",
              " 0,\n",
              " 0,\n",
              " 0,\n",
              " 0,\n",
              " 0,\n",
              " 0,\n",
              " 0,\n",
              " 0,\n",
              " 0,\n",
              " 0,\n",
              " 0,\n",
              " 0,\n",
              " 0,\n",
              " 0,\n",
              " 0,\n",
              " 0,\n",
              " 0,\n",
              " 0,\n",
              " 0,\n",
              " 0,\n",
              " 0,\n",
              " 0,\n",
              " 0,\n",
              " 0,\n",
              " 0,\n",
              " 0,\n",
              " 0,\n",
              " 0,\n",
              " 0,\n",
              " 0,\n",
              " 0]"
            ]
          },
          "metadata": {},
          "execution_count": 95
        }
      ]
    },
    {
      "cell_type": "code",
      "source": [
        "len(yhat)"
      ],
      "metadata": {
        "id": "FWa_v7YG1POW",
        "colab": {
          "base_uri": "https://localhost:8080/"
        },
        "outputId": "be887838-e8a0-4cb2-b68d-8b71b652d843"
      },
      "execution_count": 96,
      "outputs": [
        {
          "output_type": "execute_result",
          "data": {
            "text/plain": [
              "182"
            ]
          },
          "metadata": {},
          "execution_count": 96
        }
      ]
    },
    {
      "cell_type": "code",
      "source": [
        "# The model is classifying consecutive female vocal signals as additional\n",
        "# predictions.  \n",
        "# The results will need to be reduced down, so that consecutive female \n",
        "# vocal signals are only treated as a single signal."
      ],
      "metadata": {
        "id": "WRjQRO3F-fng"
      },
      "execution_count": null,
      "outputs": []
    },
    {
      "cell_type": "markdown",
      "source": [
        "### 9.4 Group Consecutive Detections"
      ],
      "metadata": {
        "id": "iz0Tq_Ig1QAP"
      }
    },
    {
      "cell_type": "code",
      "source": [
        "from itertools import groupby"
      ],
      "metadata": {
        "id": "-R6xH3lf1TS3"
      },
      "execution_count": 97,
      "outputs": []
    },
    {
      "cell_type": "code",
      "source": [
        "yhat = [key for key, group in groupby(yhat)]\n",
        "# The above code will loop through the predictions from yhat, and\n",
        "# reduce the sum."
      ],
      "metadata": {
        "id": "cljAiQ5x1WI-"
      },
      "execution_count": 98,
      "outputs": []
    },
    {
      "cell_type": "code",
      "source": [
        "yhat"
      ],
      "metadata": {
        "id": "D0FXinbu1YdK",
        "colab": {
          "base_uri": "https://localhost:8080/"
        },
        "outputId": "2fa110de-4f6a-4dd6-ab37-364a33533ded"
      },
      "execution_count": 99,
      "outputs": [
        {
          "output_type": "execute_result",
          "data": {
            "text/plain": [
              "[0, 1, 0, 1, 0, 1, 0, 1, 0, 1, 0, 1, 0, 1, 0, 1, 0, 1, 0, 1, 0, 1, 0]"
            ]
          },
          "metadata": {},
          "execution_count": 99
        }
      ]
    },
    {
      "cell_type": "code",
      "source": [
        "tf.math.reduce_sum(yhat)"
      ],
      "metadata": {
        "id": "tUqIVyY61ejj",
        "colab": {
          "base_uri": "https://localhost:8080/"
        },
        "outputId": "776ce76b-a963-4077-e669-c52db170c86d"
      },
      "execution_count": 100,
      "outputs": [
        {
          "output_type": "execute_result",
          "data": {
            "text/plain": [
              "<tf.Tensor: shape=(), dtype=int32, numpy=11>"
            ]
          },
          "metadata": {},
          "execution_count": 100
        }
      ]
    },
    {
      "cell_type": "code",
      "source": [
        "calls = tf.math.reduce_sum(yhat).numpy()"
      ],
      "metadata": {
        "id": "l9b3OQnt1fcM"
      },
      "execution_count": 101,
      "outputs": []
    },
    {
      "cell_type": "code",
      "source": [
        "calls"
      ],
      "metadata": {
        "id": "hzgyJV4U1iJx",
        "colab": {
          "base_uri": "https://localhost:8080/"
        },
        "outputId": "64cb1c6f-3e19-4ac4-f2d4-c59b3ab0dc7d"
      },
      "execution_count": 102,
      "outputs": [
        {
          "output_type": "execute_result",
          "data": {
            "text/plain": [
              "11"
            ]
          },
          "metadata": {},
          "execution_count": 102
        }
      ]
    },
    {
      "cell_type": "code",
      "source": [
        "# The female vocal signal count has successfully been aggregated."
      ],
      "metadata": {
        "id": "W-9qvFXW-ozi"
      },
      "execution_count": null,
      "outputs": []
    },
    {
      "cell_type": "markdown",
      "source": [
        "## 10. Make Predictions"
      ],
      "metadata": {
        "id": "gOfIi3Gl1ovC"
      }
    },
    {
      "cell_type": "code",
      "source": [
        "# Now each of the church recordings can be looped through."
      ],
      "metadata": {
        "id": "3ydbDzFH-vs_"
      },
      "execution_count": null,
      "outputs": []
    },
    {
      "cell_type": "markdown",
      "source": [
        "### 10.1 Loop over all recordings and make predictions"
      ],
      "metadata": {
        "id": "tirZLrrC1sLH"
      }
    },
    {
      "cell_type": "code",
      "source": [
        "results = {}\n",
        "for file in os.listdir(os.path.join(AUDIO_PATH)):\n",
        "    FILEPATH = os.path.join(AUDIO_PATH, file)\n",
        "\n",
        "    wav = load_mp3_16k_mono(FILEPATH)\n",
        "    audio_slices = tf.keras.utils.timeseries_dataset_from_array(wav, wav, sequence_length=48000, sequence_stride=48000, batch_size=1)\n",
        "    audio_slices = audio_slices.map(preprocess_mp3)\n",
        "    audio_slices = audio_slices.batch(64)\n",
        "\n",
        "    yhat = model.predict(audio_slices)\n",
        "\n",
        "    results[file] = yhat\n",
        "\n",
        "# For each recording, there is a prediction for every set of slices within\n",
        "# othat audio file.\n",
        "# Intrepetting it like this can be a bit difficult, so below code will be\n",
        "# used to convert all predictions into classes."
      ],
      "metadata": {
        "id": "V9O5PKIx1qug"
      },
      "execution_count": 103,
      "outputs": []
    },
    {
      "cell_type": "code",
      "source": [
        "results"
      ],
      "metadata": {
        "id": "L_Zi1HCx14UK",
        "colab": {
          "base_uri": "https://localhost:8080/"
        },
        "outputId": "f2e0b24d-6ba4-4d3b-a6da-c9b2fb5e1fee"
      },
      "execution_count": 104,
      "outputs": [
        {
          "output_type": "execute_result",
          "data": {
            "text/plain": [
              "{'Chayce Audio (1) 1.mp3': array([[1.00000000e+00],\n",
              "        [1.00000000e+00],\n",
              "        [1.00000000e+00],\n",
              "        [9.79231954e-01],\n",
              "        [1.00000000e+00],\n",
              "        [2.60883394e-06],\n",
              "        [7.30302304e-07],\n",
              "        [6.10806409e-27],\n",
              "        [1.01797828e-04],\n",
              "        [1.00000000e+00],\n",
              "        [1.00000000e+00],\n",
              "        [9.22933454e-04],\n",
              "        [6.55681259e-15],\n",
              "        [1.32042580e-22],\n",
              "        [1.00000000e+00],\n",
              "        [8.15124679e-08],\n",
              "        [1.00000000e+00],\n",
              "        [1.00000000e+00],\n",
              "        [1.76815724e-03],\n",
              "        [1.58954284e-03],\n",
              "        [6.78009819e-04],\n",
              "        [1.42731631e-04],\n",
              "        [1.37019549e-29],\n",
              "        [7.39972775e-35],\n",
              "        [2.01767894e-27],\n",
              "        [3.46038453e-28],\n",
              "        [8.47917944e-33],\n",
              "        [7.71851373e-36],\n",
              "        [1.55811744e-36],\n",
              "        [1.49511677e-34],\n",
              "        [5.54911266e-23],\n",
              "        [3.23774175e-17],\n",
              "        [1.00000000e+00],\n",
              "        [2.79664574e-03],\n",
              "        [1.00000000e+00],\n",
              "        [1.00000000e+00],\n",
              "        [1.00000000e+00],\n",
              "        [1.00000000e+00],\n",
              "        [1.00000000e+00],\n",
              "        [2.22823542e-06],\n",
              "        [1.00000000e+00],\n",
              "        [1.00000000e+00],\n",
              "        [9.99999523e-01],\n",
              "        [1.01027104e-13],\n",
              "        [1.00000000e+00],\n",
              "        [1.00000000e+00],\n",
              "        [1.00000000e+00],\n",
              "        [1.00000000e+00],\n",
              "        [1.00000000e+00],\n",
              "        [1.00000000e+00],\n",
              "        [1.00000000e+00],\n",
              "        [1.51364005e-03],\n",
              "        [1.93118142e-20],\n",
              "        [1.00000000e+00],\n",
              "        [1.00000000e+00],\n",
              "        [3.54139496e-11],\n",
              "        [6.67072907e-02],\n",
              "        [1.00000000e+00],\n",
              "        [1.00000000e+00],\n",
              "        [1.00000000e+00]], dtype=float32),\n",
              " 'Chayce Audio (2) 1.mp3': array([[2.3923116e-07],\n",
              "        [0.0000000e+00],\n",
              "        [1.1750932e-28],\n",
              "        [1.2145480e-34],\n",
              "        [7.7289158e-28],\n",
              "        [1.0776377e-31],\n",
              "        [2.5089411e-30],\n",
              "        [5.8098043e-25],\n",
              "        [8.0250971e-21],\n",
              "        [1.3216650e-23],\n",
              "        [0.0000000e+00],\n",
              "        [2.2924138e-37],\n",
              "        [0.0000000e+00],\n",
              "        [0.0000000e+00],\n",
              "        [2.9851107e-20],\n",
              "        [1.0394208e-04],\n",
              "        [9.5758235e-01],\n",
              "        [1.0000000e+00],\n",
              "        [9.8797721e-01],\n",
              "        [9.9999928e-01],\n",
              "        [3.6985085e-12],\n",
              "        [1.0000000e+00],\n",
              "        [1.0000000e+00],\n",
              "        [9.9999988e-01],\n",
              "        [7.9388529e-01],\n",
              "        [1.0000000e+00],\n",
              "        [1.2329717e-02],\n",
              "        [5.9919721e-30],\n",
              "        [4.9974646e-26],\n",
              "        [1.0133863e-16],\n",
              "        [9.9329017e-30],\n",
              "        [4.3583306e-20],\n",
              "        [0.0000000e+00],\n",
              "        [0.0000000e+00],\n",
              "        [0.0000000e+00],\n",
              "        [1.1783701e-28],\n",
              "        [0.0000000e+00],\n",
              "        [4.5944325e-11],\n",
              "        [8.4735633e-23],\n",
              "        [3.5156826e-09],\n",
              "        [1.1140777e-02],\n",
              "        [1.0000000e+00],\n",
              "        [1.0000000e+00],\n",
              "        [6.0233751e-09],\n",
              "        [9.9991536e-01],\n",
              "        [9.0075126e-05],\n",
              "        [1.0000000e+00],\n",
              "        [1.0000000e+00],\n",
              "        [7.7712361e-32],\n",
              "        [9.9981076e-01],\n",
              "        [1.0000000e+00],\n",
              "        [1.0000000e+00],\n",
              "        [9.9999988e-01],\n",
              "        [4.6799160e-14],\n",
              "        [1.0000000e+00],\n",
              "        [9.7407001e-01],\n",
              "        [4.6376949e-03],\n",
              "        [7.9836545e-04],\n",
              "        [9.9996734e-01],\n",
              "        [5.1802123e-01]], dtype=float32),\n",
              " 'Chayce Audio (3) 1.mp3': array([[2.83685760e-17],\n",
              "        [2.46813436e-09],\n",
              "        [8.87153962e-33],\n",
              "        [0.00000000e+00],\n",
              "        [0.00000000e+00],\n",
              "        [0.00000000e+00],\n",
              "        [5.59487526e-38],\n",
              "        [0.00000000e+00],\n",
              "        [0.00000000e+00],\n",
              "        [0.00000000e+00],\n",
              "        [0.00000000e+00],\n",
              "        [1.21959299e-37],\n",
              "        [0.00000000e+00],\n",
              "        [1.57685708e-36],\n",
              "        [1.36744871e-04],\n",
              "        [1.00000000e+00],\n",
              "        [1.00000000e+00],\n",
              "        [9.55647171e-01],\n",
              "        [1.00000000e+00],\n",
              "        [1.00000000e+00],\n",
              "        [1.38552282e-02],\n",
              "        [1.00000000e+00],\n",
              "        [6.20475384e-06],\n",
              "        [1.00000000e+00],\n",
              "        [1.00000000e+00],\n",
              "        [1.00000000e+00],\n",
              "        [1.00000000e+00],\n",
              "        [1.00000000e+00],\n",
              "        [1.00000000e+00],\n",
              "        [1.00000000e+00],\n",
              "        [1.00000000e+00],\n",
              "        [5.85229194e-04],\n",
              "        [2.73785855e-10],\n",
              "        [1.05452386e-07],\n",
              "        [9.28421974e-01],\n",
              "        [9.99999762e-01],\n",
              "        [1.00000000e+00],\n",
              "        [1.00000000e+00],\n",
              "        [1.00000000e+00],\n",
              "        [9.99883652e-01],\n",
              "        [9.96398449e-01],\n",
              "        [1.50513435e-15],\n",
              "        [1.00000000e+00],\n",
              "        [1.00000000e+00],\n",
              "        [1.42802183e-20],\n",
              "        [3.88913119e-04],\n",
              "        [2.20711226e-19],\n",
              "        [1.48258101e-13],\n",
              "        [1.22757126e-06],\n",
              "        [1.16332835e-02],\n",
              "        [1.05990003e-14],\n",
              "        [2.74876894e-32],\n",
              "        [9.99998450e-01],\n",
              "        [1.20972421e-04],\n",
              "        [7.76681702e-07],\n",
              "        [1.23254807e-07],\n",
              "        [1.22156359e-01],\n",
              "        [4.57824886e-01],\n",
              "        [8.42413843e-01],\n",
              "        [1.40672773e-02]], dtype=float32),\n",
              " 'Chayce Audio (4) 1.mp3': array([[0.0000000e+00],\n",
              "        [3.3259206e-14],\n",
              "        [2.6025702e-33],\n",
              "        [4.3311276e-30],\n",
              "        [7.8712014e-35],\n",
              "        [0.0000000e+00],\n",
              "        [5.1868856e-30],\n",
              "        [2.6948796e-27],\n",
              "        [1.1646342e-18],\n",
              "        [0.0000000e+00],\n",
              "        [1.1328116e-37],\n",
              "        [0.0000000e+00],\n",
              "        [0.0000000e+00],\n",
              "        [7.1704754e-35],\n",
              "        [0.0000000e+00],\n",
              "        [0.0000000e+00],\n",
              "        [0.0000000e+00],\n",
              "        [1.0000000e+00],\n",
              "        [1.0000000e+00],\n",
              "        [1.0000000e+00],\n",
              "        [1.0000000e+00],\n",
              "        [9.9727672e-01],\n",
              "        [0.0000000e+00],\n",
              "        [0.0000000e+00],\n",
              "        [1.3524758e-38],\n",
              "        [0.0000000e+00],\n",
              "        [1.1877469e-15],\n",
              "        [1.0000000e+00],\n",
              "        [0.0000000e+00],\n",
              "        [1.0000000e+00],\n",
              "        [1.0000000e+00],\n",
              "        [9.9956793e-01],\n",
              "        [1.0000000e+00],\n",
              "        [1.0000000e+00],\n",
              "        [1.0000000e+00],\n",
              "        [1.0000000e+00],\n",
              "        [9.9999988e-01],\n",
              "        [1.0000000e+00],\n",
              "        [1.0000000e+00],\n",
              "        [1.0000000e+00],\n",
              "        [1.0000000e+00],\n",
              "        [1.0000000e+00],\n",
              "        [1.0000000e+00],\n",
              "        [8.6256436e-37],\n",
              "        [2.2089973e-03],\n",
              "        [1.0000000e+00],\n",
              "        [1.0000000e+00],\n",
              "        [1.0000000e+00],\n",
              "        [1.0000000e+00],\n",
              "        [1.0000000e+00],\n",
              "        [1.0000000e+00],\n",
              "        [1.0000000e+00],\n",
              "        [7.9327065e-01],\n",
              "        [9.9950981e-01],\n",
              "        [1.0000000e+00],\n",
              "        [1.0000000e+00],\n",
              "        [9.9956673e-01],\n",
              "        [9.9999905e-01],\n",
              "        [1.0000000e+00],\n",
              "        [1.2597772e-01]], dtype=float32),\n",
              " 'Chayce Audio (5) 1.mp3': array([[9.9999464e-01],\n",
              "        [1.0000000e+00],\n",
              "        [1.0000000e+00],\n",
              "        [1.0000000e+00],\n",
              "        [2.7881454e-20],\n",
              "        [2.8168120e-16],\n",
              "        [1.0000000e+00],\n",
              "        [1.0000000e+00],\n",
              "        [1.0000000e+00],\n",
              "        [1.0000000e+00],\n",
              "        [1.0000000e+00],\n",
              "        [1.1267047e-07],\n",
              "        [0.0000000e+00],\n",
              "        [1.0000000e+00],\n",
              "        [6.2634927e-06],\n",
              "        [8.5674798e-01],\n",
              "        [7.4452786e-03],\n",
              "        [9.9999964e-01],\n",
              "        [1.0000000e+00],\n",
              "        [1.8246312e-01],\n",
              "        [1.0000000e+00],\n",
              "        [1.0000000e+00],\n",
              "        [1.4093010e-04],\n",
              "        [1.0000000e+00],\n",
              "        [1.0000000e+00],\n",
              "        [1.0000000e+00],\n",
              "        [1.0000000e+00],\n",
              "        [3.8354191e-33],\n",
              "        [1.0000000e+00],\n",
              "        [9.6634519e-01],\n",
              "        [1.0000000e+00],\n",
              "        [2.4622674e-12],\n",
              "        [7.9575329e-06],\n",
              "        [1.1137802e-03],\n",
              "        [4.7043030e-04],\n",
              "        [4.8864894e-07],\n",
              "        [2.7411731e-04],\n",
              "        [1.0000000e+00],\n",
              "        [2.5444019e-01],\n",
              "        [1.0000000e+00],\n",
              "        [1.4836805e-01],\n",
              "        [4.7261859e-05],\n",
              "        [1.7537114e-09],\n",
              "        [6.9455513e-07],\n",
              "        [2.7723816e-15],\n",
              "        [2.6110110e-08],\n",
              "        [7.7576065e-01],\n",
              "        [1.9384817e-08],\n",
              "        [6.2708045e-07],\n",
              "        [9.4878550e-07],\n",
              "        [7.9850042e-01],\n",
              "        [3.3721289e-01],\n",
              "        [1.0113012e-05],\n",
              "        [7.8025687e-01],\n",
              "        [7.9557800e-01],\n",
              "        [7.6116902e-01],\n",
              "        [3.7901893e-01],\n",
              "        [3.2196444e-01],\n",
              "        [5.2151293e-01],\n",
              "        [5.0406915e-01]], dtype=float32),\n",
              " 'Jess D Audio (1) 1.mp3': array([[1.68347904e-15],\n",
              "        [1.57598993e-15],\n",
              "        [7.65317983e-24],\n",
              "        [3.36847897e-17],\n",
              "        [1.00000000e+00],\n",
              "        [1.00000000e+00],\n",
              "        [4.01321129e-29],\n",
              "        [1.14007396e-13],\n",
              "        [9.09883420e-06],\n",
              "        [8.48416676e-06],\n",
              "        [2.28882661e-26],\n",
              "        [9.99968171e-01],\n",
              "        [1.00000000e+00],\n",
              "        [6.77927285e-02],\n",
              "        [3.16145360e-01],\n",
              "        [8.96476990e-07],\n",
              "        [6.56914699e-25],\n",
              "        [1.04930256e-16],\n",
              "        [8.86385375e-27],\n",
              "        [8.18699121e-01],\n",
              "        [3.51651761e-06],\n",
              "        [1.16484053e-07],\n",
              "        [3.32185414e-23],\n",
              "        [7.35979709e-23],\n",
              "        [5.50891161e-01],\n",
              "        [1.00000000e+00],\n",
              "        [1.00000000e+00],\n",
              "        [3.26757132e-09],\n",
              "        [1.87689038e-05],\n",
              "        [9.99999285e-01],\n",
              "        [1.00000000e+00],\n",
              "        [1.00000000e+00],\n",
              "        [1.00000000e+00],\n",
              "        [9.92287993e-01],\n",
              "        [6.19684619e-28],\n",
              "        [1.00000000e+00],\n",
              "        [1.00000000e+00],\n",
              "        [8.00051021e-06],\n",
              "        [4.84589816e-30],\n",
              "        [1.00000000e+00],\n",
              "        [2.81791354e-20],\n",
              "        [1.32317865e-15],\n",
              "        [7.61329222e-15],\n",
              "        [2.01292488e-15],\n",
              "        [1.62908813e-14],\n",
              "        [1.35701495e-13],\n",
              "        [4.33484000e-18],\n",
              "        [1.40946562e-14],\n",
              "        [2.94399856e-12],\n",
              "        [1.44302449e-15],\n",
              "        [1.58137979e-07],\n",
              "        [5.47530079e-18],\n",
              "        [1.00000000e+00],\n",
              "        [2.46162387e-03],\n",
              "        [9.99994516e-01],\n",
              "        [8.93207655e-20],\n",
              "        [4.97797419e-06],\n",
              "        [5.79684023e-22],\n",
              "        [9.29374850e-14],\n",
              "        [1.00000000e+00]], dtype=float32),\n",
              " 'Jess D Audio (2) 1.mp3': array([[1.1981349e-13],\n",
              "        [3.4908411e-12],\n",
              "        [1.1203670e-20],\n",
              "        [1.1349975e-06],\n",
              "        [9.9999988e-01],\n",
              "        [9.6869701e-01],\n",
              "        [9.9999869e-01],\n",
              "        [1.0000000e+00],\n",
              "        [2.0736906e-19],\n",
              "        [9.0020081e-17],\n",
              "        [9.9396569e-01],\n",
              "        [9.9998879e-01],\n",
              "        [1.0000000e+00],\n",
              "        [1.0000000e+00],\n",
              "        [1.0000000e+00],\n",
              "        [1.0000000e+00],\n",
              "        [1.0000000e+00],\n",
              "        [1.0000000e+00],\n",
              "        [9.9989319e-01],\n",
              "        [1.5763877e-02],\n",
              "        [0.0000000e+00],\n",
              "        [4.6291328e-19],\n",
              "        [2.8634927e-26],\n",
              "        [4.2333328e-22],\n",
              "        [4.8078896e-09],\n",
              "        [9.9999559e-01],\n",
              "        [1.6504196e-12],\n",
              "        [3.1576275e-10],\n",
              "        [3.1787412e-10],\n",
              "        [4.2968598e-10],\n",
              "        [5.6676927e-06],\n",
              "        [8.3555500e-09],\n",
              "        [8.1917423e-01],\n",
              "        [8.1159699e-01],\n",
              "        [5.4063032e-05],\n",
              "        [1.5687774e-11],\n",
              "        [3.5284439e-04],\n",
              "        [1.4619209e-07],\n",
              "        [1.0000000e+00],\n",
              "        [2.5121123e-04],\n",
              "        [1.3542706e-02],\n",
              "        [6.8506774e-06],\n",
              "        [3.5111157e-06],\n",
              "        [3.5430275e-20],\n",
              "        [8.0626545e-05],\n",
              "        [1.0313782e-21],\n",
              "        [4.8149933e-09],\n",
              "        [9.9390700e-17],\n",
              "        [1.9584129e-11],\n",
              "        [3.6263006e-09],\n",
              "        [1.8755958e-13],\n",
              "        [1.8678328e-15],\n",
              "        [1.0000000e+00],\n",
              "        [1.0000000e+00],\n",
              "        [1.0000000e+00],\n",
              "        [1.0000000e+00],\n",
              "        [1.0000000e+00],\n",
              "        [9.9997759e-01],\n",
              "        [2.0828637e-07],\n",
              "        [1.0274366e-08]], dtype=float32),\n",
              " 'Jess D Audio (3) 1.mp3': array([[1.2296390e-01],\n",
              "        [5.4037178e-06],\n",
              "        [8.6382592e-05],\n",
              "        [8.3081261e-04],\n",
              "        [6.9390726e-04],\n",
              "        [8.8994545e-10],\n",
              "        [5.4041761e-06],\n",
              "        [7.6311819e-02],\n",
              "        [8.5622519e-03],\n",
              "        [7.2403133e-10],\n",
              "        [1.1851016e-07],\n",
              "        [1.0000000e+00],\n",
              "        [9.9999344e-01],\n",
              "        [3.2826067e-13],\n",
              "        [5.3206579e-05],\n",
              "        [3.1847362e-06],\n",
              "        [1.0000000e+00],\n",
              "        [4.1540638e-12],\n",
              "        [1.3328122e-01],\n",
              "        [9.5759219e-01],\n",
              "        [1.0000000e+00],\n",
              "        [9.9917656e-01],\n",
              "        [7.5183375e-12],\n",
              "        [1.0000000e+00],\n",
              "        [1.0000000e+00],\n",
              "        [1.0000000e+00],\n",
              "        [2.4735834e-01],\n",
              "        [6.1376333e-02],\n",
              "        [2.0944374e-03],\n",
              "        [1.6301414e-03],\n",
              "        [2.3927994e-03],\n",
              "        [1.3451667e-02],\n",
              "        [8.6408395e-01],\n",
              "        [2.2780080e-01],\n",
              "        [7.0175515e-03],\n",
              "        [8.9168771e-06],\n",
              "        [4.1202836e-07],\n",
              "        [9.9997985e-01],\n",
              "        [9.5129928e-12],\n",
              "        [2.9542609e-05],\n",
              "        [9.9999940e-01],\n",
              "        [4.1952980e-10],\n",
              "        [3.5230027e-11],\n",
              "        [7.3108904e-14],\n",
              "        [8.0008727e-17],\n",
              "        [1.5357028e-10],\n",
              "        [3.0065364e-06],\n",
              "        [2.7406050e-15],\n",
              "        [9.5851102e-17],\n",
              "        [3.0756131e-12],\n",
              "        [2.3176830e-16],\n",
              "        [9.4602602e-17],\n",
              "        [2.5414176e-19],\n",
              "        [3.4702278e-16],\n",
              "        [5.5976149e-13],\n",
              "        [6.7934146e-13],\n",
              "        [8.1493177e-16],\n",
              "        [1.2638401e-13],\n",
              "        [1.6140704e-05],\n",
              "        [1.3820523e-09]], dtype=float32),\n",
              " 'Jess D Audio (4) 1.mp3': array([[1.4113255e-09],\n",
              "        [1.0000000e+00],\n",
              "        [8.9736409e-02],\n",
              "        [6.0646233e-20],\n",
              "        [1.2884742e-10],\n",
              "        [8.2473667e-11],\n",
              "        [1.1414777e-16],\n",
              "        [4.0224055e-03],\n",
              "        [1.3653880e-13],\n",
              "        [1.1549819e-23],\n",
              "        [2.9136251e-28],\n",
              "        [4.1508315e-24],\n",
              "        [7.5374292e-17],\n",
              "        [6.6593057e-11],\n",
              "        [6.2004973e-10],\n",
              "        [3.3171537e-17],\n",
              "        [3.2781359e-15],\n",
              "        [2.0641011e-12],\n",
              "        [6.9808253e-18],\n",
              "        [2.8744831e-17],\n",
              "        [1.5339987e-18],\n",
              "        [1.0000000e+00],\n",
              "        [1.0000000e+00],\n",
              "        [2.7165784e-25],\n",
              "        [3.9867316e-17],\n",
              "        [6.0519311e-14],\n",
              "        [8.9856616e-13],\n",
              "        [1.5527403e-23],\n",
              "        [2.4380579e-21],\n",
              "        [4.0068303e-30],\n",
              "        [7.6274623e-06],\n",
              "        [3.5998626e-14],\n",
              "        [2.1266408e-22],\n",
              "        [3.2536529e-24],\n",
              "        [5.8126937e-15],\n",
              "        [2.4040266e-20],\n",
              "        [3.8791468e-27],\n",
              "        [1.2624143e-27],\n",
              "        [2.1408358e-11],\n",
              "        [2.4595812e-13],\n",
              "        [5.6791087e-06],\n",
              "        [2.2298456e-03],\n",
              "        [3.5552486e-05],\n",
              "        [1.4228544e-07],\n",
              "        [8.4775884e-08],\n",
              "        [7.2856834e-05],\n",
              "        [9.6819009e-18],\n",
              "        [4.3764963e-25],\n",
              "        [8.4442985e-30],\n",
              "        [5.7696944e-18],\n",
              "        [2.6198196e-35],\n",
              "        [2.3140158e-17],\n",
              "        [0.0000000e+00],\n",
              "        [0.0000000e+00],\n",
              "        [1.0000000e+00],\n",
              "        [9.7117903e-33],\n",
              "        [8.0688467e-34],\n",
              "        [0.0000000e+00],\n",
              "        [1.0000000e+00],\n",
              "        [1.4088494e-30]], dtype=float32),\n",
              " 'Jess D Audio (5) 1.mp3': array([[1.2470769e-30],\n",
              "        [1.9967430e-14],\n",
              "        [3.3700802e-20],\n",
              "        [2.4293377e-23],\n",
              "        [7.6309393e-12],\n",
              "        [3.5840468e-31],\n",
              "        [1.8052140e-15],\n",
              "        [2.1122520e-12],\n",
              "        [1.1825439e-14],\n",
              "        [8.8242178e-26],\n",
              "        [6.9571183e-16],\n",
              "        [1.4879327e-24],\n",
              "        [1.6101790e-22],\n",
              "        [3.3225945e-20],\n",
              "        [2.1141759e-22],\n",
              "        [1.0021588e-09],\n",
              "        [3.8598524e-09],\n",
              "        [4.0599726e-08],\n",
              "        [3.3042196e-02],\n",
              "        [1.8120875e-06],\n",
              "        [4.0505152e-02],\n",
              "        [6.0458851e-06],\n",
              "        [5.6602132e-02],\n",
              "        [8.1421982e-05],\n",
              "        [4.0633035e-12],\n",
              "        [6.6282115e-07],\n",
              "        [0.0000000e+00],\n",
              "        [0.0000000e+00],\n",
              "        [1.0000000e+00],\n",
              "        [1.9043322e-36],\n",
              "        [2.2694575e-17],\n",
              "        [0.0000000e+00],\n",
              "        [9.7332559e-06],\n",
              "        [0.0000000e+00],\n",
              "        [1.1823327e-20],\n",
              "        [0.0000000e+00],\n",
              "        [5.1720616e-17],\n",
              "        [2.2748768e-38],\n",
              "        [7.8263229e-12],\n",
              "        [8.9432238e-13],\n",
              "        [6.1025330e-12],\n",
              "        [8.2255696e-09],\n",
              "        [1.9735416e-09],\n",
              "        [1.4341275e-13],\n",
              "        [7.3862693e-29],\n",
              "        [2.3267861e-34],\n",
              "        [0.0000000e+00],\n",
              "        [2.1706148e-20],\n",
              "        [4.2874285e-10],\n",
              "        [6.5958223e-15],\n",
              "        [4.1635179e-24],\n",
              "        [1.0483895e-25],\n",
              "        [1.9074815e-35],\n",
              "        [6.4055466e-19],\n",
              "        [9.6348353e-29],\n",
              "        [1.5008217e-24],\n",
              "        [1.7513995e-34],\n",
              "        [1.6998191e-29],\n",
              "        [7.6522643e-34],\n",
              "        [0.0000000e+00]], dtype=float32),\n",
              " 'Jess O Audio (1) 1.mp3': array([[8.07391376e-11],\n",
              "        [5.32644044e-05],\n",
              "        [2.84400925e-09],\n",
              "        [4.69919740e-07],\n",
              "        [8.58621895e-01],\n",
              "        [1.00000000e+00],\n",
              "        [9.99999762e-01],\n",
              "        [1.43456349e-08],\n",
              "        [9.98519003e-01],\n",
              "        [1.16173406e-15],\n",
              "        [2.15001856e-22],\n",
              "        [6.47061427e-07],\n",
              "        [8.66176910e-04],\n",
              "        [1.76788320e-10],\n",
              "        [2.19077239e-11],\n",
              "        [3.77925062e-06],\n",
              "        [2.51626323e-23],\n",
              "        [8.05249035e-01],\n",
              "        [1.50059261e-24],\n",
              "        [7.10192472e-02],\n",
              "        [2.45427191e-06],\n",
              "        [9.76244569e-01],\n",
              "        [4.04618249e-11],\n",
              "        [2.36384672e-08],\n",
              "        [5.09303954e-18],\n",
              "        [1.00000000e+00],\n",
              "        [1.00000000e+00],\n",
              "        [1.52838724e-23],\n",
              "        [1.00000000e+00],\n",
              "        [1.00000000e+00],\n",
              "        [9.98390079e-01],\n",
              "        [1.00000000e+00],\n",
              "        [9.99990225e-01],\n",
              "        [9.56632320e-08],\n",
              "        [2.54312022e-06],\n",
              "        [1.23980185e-13],\n",
              "        [1.32312237e-16],\n",
              "        [5.00000868e-23],\n",
              "        [0.00000000e+00],\n",
              "        [9.99970913e-01],\n",
              "        [2.00415386e-07],\n",
              "        [2.58604125e-08],\n",
              "        [1.10782128e-09],\n",
              "        [7.09387677e-08],\n",
              "        [6.95178137e-10],\n",
              "        [2.51536605e-08],\n",
              "        [1.14242435e-10],\n",
              "        [2.30420039e-08],\n",
              "        [2.68880496e-09],\n",
              "        [3.49158331e-14],\n",
              "        [9.99998450e-01],\n",
              "        [7.19638921e-30],\n",
              "        [1.00000000e+00],\n",
              "        [1.47241656e-06],\n",
              "        [2.48555734e-05],\n",
              "        [1.44685800e-11],\n",
              "        [1.01097154e-04],\n",
              "        [9.12878051e-10],\n",
              "        [9.93409395e-01],\n",
              "        [9.98851299e-01]], dtype=float32),\n",
              " 'Jess O Audio (2) 1.mp3': array([[1.14674208e-11],\n",
              "        [9.46789622e-01],\n",
              "        [4.18147264e-16],\n",
              "        [1.49375057e-09],\n",
              "        [9.97246385e-01],\n",
              "        [1.02722400e-03],\n",
              "        [6.38687325e-10],\n",
              "        [2.36143327e-10],\n",
              "        [3.95947927e-06],\n",
              "        [1.85192199e-08],\n",
              "        [1.19521005e-07],\n",
              "        [1.00000000e+00],\n",
              "        [9.99662161e-01],\n",
              "        [9.54578170e-12],\n",
              "        [1.00000000e+00],\n",
              "        [1.00000000e+00],\n",
              "        [1.00000000e+00],\n",
              "        [1.34979637e-04],\n",
              "        [8.08768847e-04],\n",
              "        [5.19061473e-07],\n",
              "        [4.95547403e-18],\n",
              "        [3.73256318e-18],\n",
              "        [3.05559099e-13],\n",
              "        [1.27543283e-16],\n",
              "        [9.99999642e-01],\n",
              "        [5.36324533e-15],\n",
              "        [9.98054862e-01],\n",
              "        [2.32375239e-08],\n",
              "        [4.90740171e-10],\n",
              "        [5.23413757e-09],\n",
              "        [2.39420511e-10],\n",
              "        [1.45884460e-09],\n",
              "        [5.01445783e-08],\n",
              "        [6.15551032e-09],\n",
              "        [1.80974009e-08],\n",
              "        [1.10940137e-08],\n",
              "        [5.88366711e-05],\n",
              "        [4.05482986e-25],\n",
              "        [1.00000000e+00],\n",
              "        [9.47830796e-01],\n",
              "        [1.00000000e+00],\n",
              "        [1.74848438e-07],\n",
              "        [1.00000000e+00],\n",
              "        [1.42853176e-02],\n",
              "        [1.35822565e-05],\n",
              "        [6.12828255e-01],\n",
              "        [7.38615142e-08],\n",
              "        [9.92383420e-01],\n",
              "        [1.97223003e-15],\n",
              "        [1.00000000e+00],\n",
              "        [2.04058215e-09],\n",
              "        [1.55261342e-11],\n",
              "        [9.94678259e-01],\n",
              "        [4.69552964e-01],\n",
              "        [1.00000000e+00],\n",
              "        [9.97840047e-01],\n",
              "        [1.00000000e+00],\n",
              "        [1.00000000e+00],\n",
              "        [1.35137081e-01],\n",
              "        [2.31940782e-16]], dtype=float32),\n",
              " 'Jess O Audio (3) 1.mp3': array([[4.78462425e-07],\n",
              "        [1.34411471e-09],\n",
              "        [5.01977326e-03],\n",
              "        [1.29829526e-01],\n",
              "        [1.34120728e-10],\n",
              "        [3.08638809e-10],\n",
              "        [3.80780304e-28],\n",
              "        [4.62197606e-03],\n",
              "        [4.42721033e-12],\n",
              "        [9.99802411e-01],\n",
              "        [7.41051040e-11],\n",
              "        [1.00000000e+00],\n",
              "        [6.18286888e-09],\n",
              "        [1.04907931e-05],\n",
              "        [8.69026482e-02],\n",
              "        [2.71377712e-03],\n",
              "        [1.52148300e-06],\n",
              "        [5.21894661e-04],\n",
              "        [5.92248663e-02],\n",
              "        [2.05268815e-01],\n",
              "        [2.50857443e-01],\n",
              "        [1.15857415e-01],\n",
              "        [3.40267569e-02],\n",
              "        [8.34510684e-01],\n",
              "        [1.64070225e-03],\n",
              "        [1.04910471e-02],\n",
              "        [9.99997973e-01],\n",
              "        [6.53922319e-01],\n",
              "        [7.16148119e-09],\n",
              "        [9.99998331e-01],\n",
              "        [4.16968630e-12],\n",
              "        [4.35690607e-14],\n",
              "        [4.84119994e-17],\n",
              "        [4.23632372e-07],\n",
              "        [3.49261066e-13],\n",
              "        [1.00000000e+00],\n",
              "        [3.45474929e-01],\n",
              "        [4.27970376e-12],\n",
              "        [3.88798810e-07],\n",
              "        [2.97200710e-01],\n",
              "        [9.99985814e-01],\n",
              "        [2.92281902e-06],\n",
              "        [5.69684477e-14],\n",
              "        [6.28741589e-07],\n",
              "        [1.54101429e-06],\n",
              "        [8.66905825e-10],\n",
              "        [9.60756838e-01],\n",
              "        [2.69028244e-09],\n",
              "        [1.06410080e-05],\n",
              "        [8.52501551e-16],\n",
              "        [2.36310711e-12],\n",
              "        [7.40741321e-04],\n",
              "        [1.84165295e-02],\n",
              "        [4.13154513e-01],\n",
              "        [2.26672575e-01],\n",
              "        [8.02901387e-02],\n",
              "        [3.41650516e-01],\n",
              "        [4.15148467e-01],\n",
              "        [5.89330820e-03],\n",
              "        [9.42471251e-03]], dtype=float32),\n",
              " 'Jess O Audio (4) 1.mp3': array([[1.0000000e+00],\n",
              "        [9.9999571e-01],\n",
              "        [7.2567623e-06],\n",
              "        [6.3852568e-09],\n",
              "        [1.7587946e-01],\n",
              "        [9.9999702e-01],\n",
              "        [0.0000000e+00],\n",
              "        [8.5896214e-15],\n",
              "        [5.4800411e-19],\n",
              "        [6.1739112e-13],\n",
              "        [9.8346754e-13],\n",
              "        [5.4295897e-16],\n",
              "        [3.3063940e-11],\n",
              "        [5.3261952e-24],\n",
              "        [3.6201513e-04],\n",
              "        [6.5085143e-01],\n",
              "        [5.5623101e-10],\n",
              "        [3.1582215e-30],\n",
              "        [1.8497042e-02],\n",
              "        [2.4964545e-22],\n",
              "        [9.1604972e-16],\n",
              "        [6.7869382e-17],\n",
              "        [2.1457051e-18],\n",
              "        [1.0038843e-13],\n",
              "        [4.2408446e-09],\n",
              "        [1.5532111e-08],\n",
              "        [6.7583029e-04],\n",
              "        [4.6717025e-02],\n",
              "        [7.4171454e-05],\n",
              "        [3.2921042e-04],\n",
              "        [4.8334581e-10],\n",
              "        [6.5594895e-06],\n",
              "        [4.5499765e-10],\n",
              "        [1.8884616e-20],\n",
              "        [2.4788618e-21],\n",
              "        [6.9852928e-20],\n",
              "        [2.7797933e-16],\n",
              "        [8.8509894e-10],\n",
              "        [2.6955335e-15],\n",
              "        [1.0000000e+00],\n",
              "        [1.2561167e-03],\n",
              "        [4.9475192e-19],\n",
              "        [5.4973772e-19],\n",
              "        [1.0000000e+00],\n",
              "        [5.3404120e-18],\n",
              "        [0.0000000e+00],\n",
              "        [8.6367990e-16],\n",
              "        [3.5689777e-20],\n",
              "        [3.6252487e-13],\n",
              "        [9.9271774e-16],\n",
              "        [2.4165280e-15],\n",
              "        [1.9467424e-10],\n",
              "        [3.9967233e-08],\n",
              "        [0.0000000e+00],\n",
              "        [5.4463260e-02],\n",
              "        [6.8368793e-01],\n",
              "        [1.1220644e-21],\n",
              "        [1.7851233e-04],\n",
              "        [6.0399770e-24],\n",
              "        [2.4532788e-03]], dtype=float32),\n",
              " 'Jess O Audio (5) 1.mp3': array([[1.0000000e+00],\n",
              "        [9.9960440e-01],\n",
              "        [1.6410297e-21],\n",
              "        [1.0000000e+00],\n",
              "        [0.0000000e+00],\n",
              "        [1.8668030e-19],\n",
              "        [0.0000000e+00],\n",
              "        [1.3163477e-29],\n",
              "        [1.4994429e-16],\n",
              "        [1.5107821e-24],\n",
              "        [7.7779009e-03],\n",
              "        [2.0843205e-09],\n",
              "        [3.1179497e-13],\n",
              "        [4.5397380e-18],\n",
              "        [4.1386998e-11],\n",
              "        [3.0796998e-15],\n",
              "        [1.3205272e-10],\n",
              "        [1.5584093e-28],\n",
              "        [1.4748779e-03],\n",
              "        [1.7742983e-03],\n",
              "        [2.5674408e-05],\n",
              "        [4.4161254e-07],\n",
              "        [2.6320768e-05],\n",
              "        [5.2512523e-06],\n",
              "        [1.0191933e-04],\n",
              "        [4.2301647e-09],\n",
              "        [1.3185320e-07],\n",
              "        [3.3586635e-05],\n",
              "        [0.0000000e+00],\n",
              "        [2.0582673e-05],\n",
              "        [3.7162378e-26],\n",
              "        [1.0000000e+00],\n",
              "        [3.7934590e-12],\n",
              "        [1.0000000e+00],\n",
              "        [0.0000000e+00],\n",
              "        [1.2275919e-24],\n",
              "        [1.1327460e-31],\n",
              "        [1.0000000e+00],\n",
              "        [4.6252837e-27],\n",
              "        [8.9070566e-30],\n",
              "        [1.0000000e+00],\n",
              "        [7.9881761e-12],\n",
              "        [1.0192641e-06],\n",
              "        [2.6474300e-18],\n",
              "        [9.2009234e-01],\n",
              "        [5.6317685e-16],\n",
              "        [2.3950102e-09],\n",
              "        [0.0000000e+00],\n",
              "        [9.9999833e-01],\n",
              "        [1.0000000e+00],\n",
              "        [1.0000000e+00],\n",
              "        [3.8626924e-37],\n",
              "        [2.2179371e-07],\n",
              "        [1.0570300e-20],\n",
              "        [3.0900737e-11],\n",
              "        [1.1797864e-10],\n",
              "        [1.2432488e-22],\n",
              "        [2.5377107e-16],\n",
              "        [3.6406791e-25],\n",
              "        [6.2370210e-13]], dtype=float32),\n",
              " 'Shayne Audio (1) 1.mp3': array([[1.00000000e+00],\n",
              "        [5.62160969e-01],\n",
              "        [1.00000000e+00],\n",
              "        [9.13157463e-01],\n",
              "        [9.99992967e-01],\n",
              "        [3.15651201e-37],\n",
              "        [1.00000000e+00],\n",
              "        [9.99998450e-01],\n",
              "        [9.92015481e-01],\n",
              "        [1.10848004e-10],\n",
              "        [9.59680406e-20],\n",
              "        [1.56613685e-38],\n",
              "        [1.45679866e-12],\n",
              "        [5.41138507e-19],\n",
              "        [2.31368207e-38],\n",
              "        [3.63532466e-31],\n",
              "        [0.00000000e+00],\n",
              "        [1.11726415e-03],\n",
              "        [1.00000000e+00],\n",
              "        [0.00000000e+00],\n",
              "        [6.35637442e-20],\n",
              "        [1.00000000e+00],\n",
              "        [1.30317070e-24],\n",
              "        [0.00000000e+00],\n",
              "        [2.20817444e-03],\n",
              "        [1.00000000e+00],\n",
              "        [4.74258013e-06],\n",
              "        [3.03786551e-10],\n",
              "        [9.99997854e-01],\n",
              "        [0.00000000e+00],\n",
              "        [1.00000000e+00],\n",
              "        [0.00000000e+00],\n",
              "        [9.99999881e-01],\n",
              "        [1.00000000e+00],\n",
              "        [2.84065188e-29],\n",
              "        [0.00000000e+00],\n",
              "        [0.00000000e+00],\n",
              "        [3.42207734e-22],\n",
              "        [1.00000000e+00],\n",
              "        [1.00000000e+00],\n",
              "        [1.00000000e+00],\n",
              "        [1.00000000e+00],\n",
              "        [1.00000000e+00],\n",
              "        [1.00000000e+00],\n",
              "        [1.00000000e+00],\n",
              "        [1.00000000e+00],\n",
              "        [2.26133820e-10],\n",
              "        [0.00000000e+00],\n",
              "        [1.22384823e-04],\n",
              "        [9.93755817e-01],\n",
              "        [9.99812543e-01],\n",
              "        [1.08560694e-09],\n",
              "        [1.00000000e+00],\n",
              "        [1.00000000e+00],\n",
              "        [7.49102946e-06],\n",
              "        [9.20116145e-05],\n",
              "        [4.34505673e-05],\n",
              "        [3.56247110e-05],\n",
              "        [7.48918239e-07],\n",
              "        [5.23106152e-21]], dtype=float32),\n",
              " 'Shayne Audio (2) 1.mp3': array([[9.9995720e-01],\n",
              "        [0.0000000e+00],\n",
              "        [9.9999535e-01],\n",
              "        [1.6015843e-22],\n",
              "        [9.9579805e-01],\n",
              "        [4.1399200e-09],\n",
              "        [3.0921513e-17],\n",
              "        [3.0656072e-25],\n",
              "        [8.4416469e-25],\n",
              "        [1.0000000e+00],\n",
              "        [5.6999792e-09],\n",
              "        [1.0000000e+00],\n",
              "        [1.0000000e+00],\n",
              "        [1.0000000e+00],\n",
              "        [1.0000000e+00],\n",
              "        [8.8268993e-05],\n",
              "        [9.9999547e-01],\n",
              "        [1.0000000e+00],\n",
              "        [2.4885132e-16],\n",
              "        [0.0000000e+00],\n",
              "        [9.9993205e-01],\n",
              "        [9.9771821e-01],\n",
              "        [9.9998772e-01],\n",
              "        [1.0000000e+00],\n",
              "        [1.0000000e+00],\n",
              "        [1.0000000e+00],\n",
              "        [1.3234287e-04],\n",
              "        [1.4693062e-04],\n",
              "        [2.1959777e-04],\n",
              "        [3.3472918e-04],\n",
              "        [3.0206435e-09],\n",
              "        [9.9305677e-01],\n",
              "        [9.9994588e-01],\n",
              "        [1.0000000e+00],\n",
              "        [3.1935483e-02],\n",
              "        [1.0000000e+00],\n",
              "        [8.0275726e-01],\n",
              "        [1.0000000e+00],\n",
              "        [9.9998426e-01],\n",
              "        [1.0000000e+00],\n",
              "        [1.0000000e+00],\n",
              "        [3.0195594e-01],\n",
              "        [1.0000000e+00],\n",
              "        [5.6962003e-06],\n",
              "        [1.0000000e+00],\n",
              "        [1.0000000e+00],\n",
              "        [5.7522498e-09],\n",
              "        [1.0000000e+00],\n",
              "        [7.1858724e-14],\n",
              "        [1.3733945e-04],\n",
              "        [4.3049674e-16],\n",
              "        [1.0000000e+00],\n",
              "        [2.4173161e-05],\n",
              "        [1.0000000e+00],\n",
              "        [1.0000000e+00],\n",
              "        [1.0000000e+00],\n",
              "        [5.2125105e-12],\n",
              "        [1.7332928e-21],\n",
              "        [5.0913849e-07],\n",
              "        [1.0000000e+00]], dtype=float32),\n",
              " 'Shayne Audio (3) 1.mp3': array([[5.77706373e-21],\n",
              "        [1.47597359e-20],\n",
              "        [1.34172700e-36],\n",
              "        [1.14137161e-34],\n",
              "        [3.39543185e-08],\n",
              "        [9.99999762e-01],\n",
              "        [1.94640115e-36],\n",
              "        [0.00000000e+00],\n",
              "        [2.62128264e-01],\n",
              "        [2.08244510e-02],\n",
              "        [4.11503047e-01],\n",
              "        [3.83181632e-01],\n",
              "        [4.81293559e-01],\n",
              "        [2.36628309e-01],\n",
              "        [7.43182123e-01],\n",
              "        [1.06250115e-01],\n",
              "        [3.50993723e-01],\n",
              "        [2.37086817e-19],\n",
              "        [6.69084271e-26],\n",
              "        [1.00000000e+00],\n",
              "        [9.99981403e-01],\n",
              "        [1.38412635e-23],\n",
              "        [8.56973827e-02],\n",
              "        [2.42506407e-35],\n",
              "        [0.00000000e+00],\n",
              "        [5.28778415e-04],\n",
              "        [2.11968581e-04],\n",
              "        [1.76074245e-05],\n",
              "        [1.97152869e-04],\n",
              "        [2.58334094e-05],\n",
              "        [1.65354257e-19],\n",
              "        [1.00000000e+00],\n",
              "        [9.99997973e-01],\n",
              "        [1.00000000e+00],\n",
              "        [5.30557889e-29],\n",
              "        [3.91119622e-20],\n",
              "        [1.00000000e+00],\n",
              "        [3.12244254e-07],\n",
              "        [3.53205502e-13],\n",
              "        [1.00000000e+00],\n",
              "        [1.00000000e+00],\n",
              "        [0.00000000e+00],\n",
              "        [3.97120689e-23],\n",
              "        [1.00000000e+00],\n",
              "        [1.00000000e+00],\n",
              "        [1.00000000e+00],\n",
              "        [1.00000000e+00],\n",
              "        [1.19003538e-18],\n",
              "        [2.52899834e-09],\n",
              "        [1.00000000e+00],\n",
              "        [2.30086415e-33],\n",
              "        [4.15968895e-02],\n",
              "        [4.51464839e-02],\n",
              "        [2.19529122e-01],\n",
              "        [2.10195541e-01],\n",
              "        [1.06962755e-01],\n",
              "        [9.02529284e-02],\n",
              "        [8.38021517e-01],\n",
              "        [4.70913023e-01],\n",
              "        [1.14058837e-01]], dtype=float32),\n",
              " 'Shayne Audio (4) 1.mp3': array([[1.0646956e-07],\n",
              "        [9.7729266e-14],\n",
              "        [1.0000000e+00],\n",
              "        [1.0000000e+00],\n",
              "        [5.8319842e-11],\n",
              "        [9.2037939e-05],\n",
              "        [1.0000000e+00],\n",
              "        [0.0000000e+00],\n",
              "        [1.2310725e-30],\n",
              "        [2.8183969e-02],\n",
              "        [9.8268396e-01],\n",
              "        [2.9462919e-15],\n",
              "        [6.3313676e-15],\n",
              "        [1.0000000e+00],\n",
              "        [1.0758716e-12],\n",
              "        [2.8913813e-03],\n",
              "        [1.0236925e-01],\n",
              "        [4.9268696e-02],\n",
              "        [1.0000000e+00],\n",
              "        [1.0000000e+00],\n",
              "        [4.2950760e-05],\n",
              "        [2.1475398e-10],\n",
              "        [3.8602820e-06],\n",
              "        [1.3763255e-03],\n",
              "        [1.8582165e-23],\n",
              "        [2.1916033e-08],\n",
              "        [1.1344221e-19],\n",
              "        [0.0000000e+00],\n",
              "        [9.9813497e-01],\n",
              "        [1.0000000e+00],\n",
              "        [1.6419759e-09],\n",
              "        [1.0000000e+00],\n",
              "        [0.0000000e+00],\n",
              "        [1.2030431e-05],\n",
              "        [9.1153942e-03],\n",
              "        [9.9999952e-01],\n",
              "        [4.2189496e-16],\n",
              "        [2.5695608e-19],\n",
              "        [1.0000000e+00],\n",
              "        [2.3295945e-25],\n",
              "        [0.0000000e+00],\n",
              "        [1.0000000e+00],\n",
              "        [3.6160566e-06],\n",
              "        [9.7192572e-07],\n",
              "        [7.5368494e-02],\n",
              "        [4.5429245e-01],\n",
              "        [6.2736936e-02],\n",
              "        [2.5159335e-01],\n",
              "        [1.4122394e-02],\n",
              "        [7.8424655e-02],\n",
              "        [5.9078906e-02],\n",
              "        [8.0690423e-09],\n",
              "        [3.1826829e-11],\n",
              "        [0.0000000e+00],\n",
              "        [0.0000000e+00],\n",
              "        [1.0000000e+00],\n",
              "        [0.0000000e+00],\n",
              "        [1.8903171e-01],\n",
              "        [0.0000000e+00],\n",
              "        [9.9999940e-01]], dtype=float32),\n",
              " 'Shayne Audio (5) 1.mp3': array([[3.04035783e-01],\n",
              "        [3.27201098e-01],\n",
              "        [1.01329704e-13],\n",
              "        [9.37163308e-02],\n",
              "        [4.25793409e-01],\n",
              "        [2.28123009e-01],\n",
              "        [1.22667007e-01],\n",
              "        [1.39104547e-02],\n",
              "        [1.16873518e-01],\n",
              "        [7.99544528e-03],\n",
              "        [0.00000000e+00],\n",
              "        [2.82015042e-35],\n",
              "        [0.00000000e+00],\n",
              "        [1.38061260e-33],\n",
              "        [1.00000000e+00],\n",
              "        [0.00000000e+00],\n",
              "        [0.00000000e+00],\n",
              "        [0.00000000e+00],\n",
              "        [1.00000000e+00],\n",
              "        [0.00000000e+00],\n",
              "        [3.71439796e-07],\n",
              "        [0.00000000e+00],\n",
              "        [1.00000000e+00],\n",
              "        [1.66996223e-32],\n",
              "        [1.00000000e+00],\n",
              "        [1.00000000e+00],\n",
              "        [9.95486200e-01],\n",
              "        [4.84349839e-05],\n",
              "        [1.00000000e+00],\n",
              "        [1.00000000e+00],\n",
              "        [1.31060107e-13],\n",
              "        [0.00000000e+00],\n",
              "        [0.00000000e+00],\n",
              "        [1.00000000e+00],\n",
              "        [1.00000000e+00],\n",
              "        [1.24687376e-05],\n",
              "        [7.51056859e-07],\n",
              "        [1.00000000e+00],\n",
              "        [0.00000000e+00],\n",
              "        [9.61156283e-03],\n",
              "        [7.80714388e-21],\n",
              "        [1.00000000e+00],\n",
              "        [1.03696440e-21],\n",
              "        [3.84559172e-07],\n",
              "        [4.04247135e-34],\n",
              "        [2.33243622e-28],\n",
              "        [2.17992955e-16],\n",
              "        [2.01605737e-01],\n",
              "        [4.24791008e-01],\n",
              "        [1.00000000e+00],\n",
              "        [4.36242577e-26],\n",
              "        [1.38649415e-15],\n",
              "        [9.99999642e-01],\n",
              "        [3.97377312e-01],\n",
              "        [8.15249812e-10],\n",
              "        [1.69490818e-02],\n",
              "        [1.00000000e+00],\n",
              "        [1.00288525e-01],\n",
              "        [3.32821369e-01],\n",
              "        [2.64436407e-16]], dtype=float32)}"
            ]
          },
          "metadata": {},
          "execution_count": 104
        }
      ]
    },
    {
      "cell_type": "markdown",
      "source": [
        "### 10.2 Convert Predictions into Classes"
      ],
      "metadata": {
        "id": "gJDYT8dE17Rs"
      }
    },
    {
      "cell_type": "code",
      "source": [
        "class_preds = {}\n",
        "for file, logits in results.items():\n",
        "    class_preds[file] = [1 if prediction > 0.99 else 0 for prediction in logits]\n",
        "class_preds"
      ],
      "metadata": {
        "id": "CYF5DDlD19xC",
        "colab": {
          "base_uri": "https://localhost:8080/"
        },
        "outputId": "8e4182ff-97ea-4ac0-e207-cddeb8a63456"
      },
      "execution_count": 105,
      "outputs": [
        {
          "output_type": "execute_result",
          "data": {
            "text/plain": [
              "{'Chayce Audio (1) 1.mp3': [1,\n",
              "  1,\n",
              "  1,\n",
              "  0,\n",
              "  1,\n",
              "  0,\n",
              "  0,\n",
              "  0,\n",
              "  0,\n",
              "  1,\n",
              "  1,\n",
              "  0,\n",
              "  0,\n",
              "  0,\n",
              "  1,\n",
              "  0,\n",
              "  1,\n",
              "  1,\n",
              "  0,\n",
              "  0,\n",
              "  0,\n",
              "  0,\n",
              "  0,\n",
              "  0,\n",
              "  0,\n",
              "  0,\n",
              "  0,\n",
              "  0,\n",
              "  0,\n",
              "  0,\n",
              "  0,\n",
              "  0,\n",
              "  1,\n",
              "  0,\n",
              "  1,\n",
              "  1,\n",
              "  1,\n",
              "  1,\n",
              "  1,\n",
              "  0,\n",
              "  1,\n",
              "  1,\n",
              "  1,\n",
              "  0,\n",
              "  1,\n",
              "  1,\n",
              "  1,\n",
              "  1,\n",
              "  1,\n",
              "  1,\n",
              "  1,\n",
              "  0,\n",
              "  0,\n",
              "  1,\n",
              "  1,\n",
              "  0,\n",
              "  0,\n",
              "  1,\n",
              "  1,\n",
              "  1],\n",
              " 'Chayce Audio (2) 1.mp3': [0,\n",
              "  0,\n",
              "  0,\n",
              "  0,\n",
              "  0,\n",
              "  0,\n",
              "  0,\n",
              "  0,\n",
              "  0,\n",
              "  0,\n",
              "  0,\n",
              "  0,\n",
              "  0,\n",
              "  0,\n",
              "  0,\n",
              "  0,\n",
              "  0,\n",
              "  1,\n",
              "  0,\n",
              "  1,\n",
              "  0,\n",
              "  1,\n",
              "  1,\n",
              "  1,\n",
              "  0,\n",
              "  1,\n",
              "  0,\n",
              "  0,\n",
              "  0,\n",
              "  0,\n",
              "  0,\n",
              "  0,\n",
              "  0,\n",
              "  0,\n",
              "  0,\n",
              "  0,\n",
              "  0,\n",
              "  0,\n",
              "  0,\n",
              "  0,\n",
              "  0,\n",
              "  1,\n",
              "  1,\n",
              "  0,\n",
              "  1,\n",
              "  0,\n",
              "  1,\n",
              "  1,\n",
              "  0,\n",
              "  1,\n",
              "  1,\n",
              "  1,\n",
              "  1,\n",
              "  0,\n",
              "  1,\n",
              "  0,\n",
              "  0,\n",
              "  0,\n",
              "  1,\n",
              "  0],\n",
              " 'Chayce Audio (3) 1.mp3': [0,\n",
              "  0,\n",
              "  0,\n",
              "  0,\n",
              "  0,\n",
              "  0,\n",
              "  0,\n",
              "  0,\n",
              "  0,\n",
              "  0,\n",
              "  0,\n",
              "  0,\n",
              "  0,\n",
              "  0,\n",
              "  0,\n",
              "  1,\n",
              "  1,\n",
              "  0,\n",
              "  1,\n",
              "  1,\n",
              "  0,\n",
              "  1,\n",
              "  0,\n",
              "  1,\n",
              "  1,\n",
              "  1,\n",
              "  1,\n",
              "  1,\n",
              "  1,\n",
              "  1,\n",
              "  1,\n",
              "  0,\n",
              "  0,\n",
              "  0,\n",
              "  0,\n",
              "  1,\n",
              "  1,\n",
              "  1,\n",
              "  1,\n",
              "  1,\n",
              "  1,\n",
              "  0,\n",
              "  1,\n",
              "  1,\n",
              "  0,\n",
              "  0,\n",
              "  0,\n",
              "  0,\n",
              "  0,\n",
              "  0,\n",
              "  0,\n",
              "  0,\n",
              "  1,\n",
              "  0,\n",
              "  0,\n",
              "  0,\n",
              "  0,\n",
              "  0,\n",
              "  0,\n",
              "  0],\n",
              " 'Chayce Audio (4) 1.mp3': [0,\n",
              "  0,\n",
              "  0,\n",
              "  0,\n",
              "  0,\n",
              "  0,\n",
              "  0,\n",
              "  0,\n",
              "  0,\n",
              "  0,\n",
              "  0,\n",
              "  0,\n",
              "  0,\n",
              "  0,\n",
              "  0,\n",
              "  0,\n",
              "  0,\n",
              "  1,\n",
              "  1,\n",
              "  1,\n",
              "  1,\n",
              "  1,\n",
              "  0,\n",
              "  0,\n",
              "  0,\n",
              "  0,\n",
              "  0,\n",
              "  1,\n",
              "  0,\n",
              "  1,\n",
              "  1,\n",
              "  1,\n",
              "  1,\n",
              "  1,\n",
              "  1,\n",
              "  1,\n",
              "  1,\n",
              "  1,\n",
              "  1,\n",
              "  1,\n",
              "  1,\n",
              "  1,\n",
              "  1,\n",
              "  0,\n",
              "  0,\n",
              "  1,\n",
              "  1,\n",
              "  1,\n",
              "  1,\n",
              "  1,\n",
              "  1,\n",
              "  1,\n",
              "  0,\n",
              "  1,\n",
              "  1,\n",
              "  1,\n",
              "  1,\n",
              "  1,\n",
              "  1,\n",
              "  0],\n",
              " 'Chayce Audio (5) 1.mp3': [1,\n",
              "  1,\n",
              "  1,\n",
              "  1,\n",
              "  0,\n",
              "  0,\n",
              "  1,\n",
              "  1,\n",
              "  1,\n",
              "  1,\n",
              "  1,\n",
              "  0,\n",
              "  0,\n",
              "  1,\n",
              "  0,\n",
              "  0,\n",
              "  0,\n",
              "  1,\n",
              "  1,\n",
              "  0,\n",
              "  1,\n",
              "  1,\n",
              "  0,\n",
              "  1,\n",
              "  1,\n",
              "  1,\n",
              "  1,\n",
              "  0,\n",
              "  1,\n",
              "  0,\n",
              "  1,\n",
              "  0,\n",
              "  0,\n",
              "  0,\n",
              "  0,\n",
              "  0,\n",
              "  0,\n",
              "  1,\n",
              "  0,\n",
              "  1,\n",
              "  0,\n",
              "  0,\n",
              "  0,\n",
              "  0,\n",
              "  0,\n",
              "  0,\n",
              "  0,\n",
              "  0,\n",
              "  0,\n",
              "  0,\n",
              "  0,\n",
              "  0,\n",
              "  0,\n",
              "  0,\n",
              "  0,\n",
              "  0,\n",
              "  0,\n",
              "  0,\n",
              "  0,\n",
              "  0],\n",
              " 'Jess D Audio (1) 1.mp3': [0,\n",
              "  0,\n",
              "  0,\n",
              "  0,\n",
              "  1,\n",
              "  1,\n",
              "  0,\n",
              "  0,\n",
              "  0,\n",
              "  0,\n",
              "  0,\n",
              "  1,\n",
              "  1,\n",
              "  0,\n",
              "  0,\n",
              "  0,\n",
              "  0,\n",
              "  0,\n",
              "  0,\n",
              "  0,\n",
              "  0,\n",
              "  0,\n",
              "  0,\n",
              "  0,\n",
              "  0,\n",
              "  1,\n",
              "  1,\n",
              "  0,\n",
              "  0,\n",
              "  1,\n",
              "  1,\n",
              "  1,\n",
              "  1,\n",
              "  1,\n",
              "  0,\n",
              "  1,\n",
              "  1,\n",
              "  0,\n",
              "  0,\n",
              "  1,\n",
              "  0,\n",
              "  0,\n",
              "  0,\n",
              "  0,\n",
              "  0,\n",
              "  0,\n",
              "  0,\n",
              "  0,\n",
              "  0,\n",
              "  0,\n",
              "  0,\n",
              "  0,\n",
              "  1,\n",
              "  0,\n",
              "  1,\n",
              "  0,\n",
              "  0,\n",
              "  0,\n",
              "  0,\n",
              "  1],\n",
              " 'Jess D Audio (2) 1.mp3': [0,\n",
              "  0,\n",
              "  0,\n",
              "  0,\n",
              "  1,\n",
              "  0,\n",
              "  1,\n",
              "  1,\n",
              "  0,\n",
              "  0,\n",
              "  1,\n",
              "  1,\n",
              "  1,\n",
              "  1,\n",
              "  1,\n",
              "  1,\n",
              "  1,\n",
              "  1,\n",
              "  1,\n",
              "  0,\n",
              "  0,\n",
              "  0,\n",
              "  0,\n",
              "  0,\n",
              "  0,\n",
              "  1,\n",
              "  0,\n",
              "  0,\n",
              "  0,\n",
              "  0,\n",
              "  0,\n",
              "  0,\n",
              "  0,\n",
              "  0,\n",
              "  0,\n",
              "  0,\n",
              "  0,\n",
              "  0,\n",
              "  1,\n",
              "  0,\n",
              "  0,\n",
              "  0,\n",
              "  0,\n",
              "  0,\n",
              "  0,\n",
              "  0,\n",
              "  0,\n",
              "  0,\n",
              "  0,\n",
              "  0,\n",
              "  0,\n",
              "  0,\n",
              "  1,\n",
              "  1,\n",
              "  1,\n",
              "  1,\n",
              "  1,\n",
              "  1,\n",
              "  0,\n",
              "  0],\n",
              " 'Jess D Audio (3) 1.mp3': [0,\n",
              "  0,\n",
              "  0,\n",
              "  0,\n",
              "  0,\n",
              "  0,\n",
              "  0,\n",
              "  0,\n",
              "  0,\n",
              "  0,\n",
              "  0,\n",
              "  1,\n",
              "  1,\n",
              "  0,\n",
              "  0,\n",
              "  0,\n",
              "  1,\n",
              "  0,\n",
              "  0,\n",
              "  0,\n",
              "  1,\n",
              "  1,\n",
              "  0,\n",
              "  1,\n",
              "  1,\n",
              "  1,\n",
              "  0,\n",
              "  0,\n",
              "  0,\n",
              "  0,\n",
              "  0,\n",
              "  0,\n",
              "  0,\n",
              "  0,\n",
              "  0,\n",
              "  0,\n",
              "  0,\n",
              "  1,\n",
              "  0,\n",
              "  0,\n",
              "  1,\n",
              "  0,\n",
              "  0,\n",
              "  0,\n",
              "  0,\n",
              "  0,\n",
              "  0,\n",
              "  0,\n",
              "  0,\n",
              "  0,\n",
              "  0,\n",
              "  0,\n",
              "  0,\n",
              "  0,\n",
              "  0,\n",
              "  0,\n",
              "  0,\n",
              "  0,\n",
              "  0,\n",
              "  0],\n",
              " 'Jess D Audio (4) 1.mp3': [0,\n",
              "  1,\n",
              "  0,\n",
              "  0,\n",
              "  0,\n",
              "  0,\n",
              "  0,\n",
              "  0,\n",
              "  0,\n",
              "  0,\n",
              "  0,\n",
              "  0,\n",
              "  0,\n",
              "  0,\n",
              "  0,\n",
              "  0,\n",
              "  0,\n",
              "  0,\n",
              "  0,\n",
              "  0,\n",
              "  0,\n",
              "  1,\n",
              "  1,\n",
              "  0,\n",
              "  0,\n",
              "  0,\n",
              "  0,\n",
              "  0,\n",
              "  0,\n",
              "  0,\n",
              "  0,\n",
              "  0,\n",
              "  0,\n",
              "  0,\n",
              "  0,\n",
              "  0,\n",
              "  0,\n",
              "  0,\n",
              "  0,\n",
              "  0,\n",
              "  0,\n",
              "  0,\n",
              "  0,\n",
              "  0,\n",
              "  0,\n",
              "  0,\n",
              "  0,\n",
              "  0,\n",
              "  0,\n",
              "  0,\n",
              "  0,\n",
              "  0,\n",
              "  0,\n",
              "  0,\n",
              "  1,\n",
              "  0,\n",
              "  0,\n",
              "  0,\n",
              "  1,\n",
              "  0],\n",
              " 'Jess D Audio (5) 1.mp3': [0,\n",
              "  0,\n",
              "  0,\n",
              "  0,\n",
              "  0,\n",
              "  0,\n",
              "  0,\n",
              "  0,\n",
              "  0,\n",
              "  0,\n",
              "  0,\n",
              "  0,\n",
              "  0,\n",
              "  0,\n",
              "  0,\n",
              "  0,\n",
              "  0,\n",
              "  0,\n",
              "  0,\n",
              "  0,\n",
              "  0,\n",
              "  0,\n",
              "  0,\n",
              "  0,\n",
              "  0,\n",
              "  0,\n",
              "  0,\n",
              "  0,\n",
              "  1,\n",
              "  0,\n",
              "  0,\n",
              "  0,\n",
              "  0,\n",
              "  0,\n",
              "  0,\n",
              "  0,\n",
              "  0,\n",
              "  0,\n",
              "  0,\n",
              "  0,\n",
              "  0,\n",
              "  0,\n",
              "  0,\n",
              "  0,\n",
              "  0,\n",
              "  0,\n",
              "  0,\n",
              "  0,\n",
              "  0,\n",
              "  0,\n",
              "  0,\n",
              "  0,\n",
              "  0,\n",
              "  0,\n",
              "  0,\n",
              "  0,\n",
              "  0,\n",
              "  0,\n",
              "  0,\n",
              "  0],\n",
              " 'Jess O Audio (1) 1.mp3': [0,\n",
              "  0,\n",
              "  0,\n",
              "  0,\n",
              "  0,\n",
              "  1,\n",
              "  1,\n",
              "  0,\n",
              "  1,\n",
              "  0,\n",
              "  0,\n",
              "  0,\n",
              "  0,\n",
              "  0,\n",
              "  0,\n",
              "  0,\n",
              "  0,\n",
              "  0,\n",
              "  0,\n",
              "  0,\n",
              "  0,\n",
              "  0,\n",
              "  0,\n",
              "  0,\n",
              "  0,\n",
              "  1,\n",
              "  1,\n",
              "  0,\n",
              "  1,\n",
              "  1,\n",
              "  1,\n",
              "  1,\n",
              "  1,\n",
              "  0,\n",
              "  0,\n",
              "  0,\n",
              "  0,\n",
              "  0,\n",
              "  0,\n",
              "  1,\n",
              "  0,\n",
              "  0,\n",
              "  0,\n",
              "  0,\n",
              "  0,\n",
              "  0,\n",
              "  0,\n",
              "  0,\n",
              "  0,\n",
              "  0,\n",
              "  1,\n",
              "  0,\n",
              "  1,\n",
              "  0,\n",
              "  0,\n",
              "  0,\n",
              "  0,\n",
              "  0,\n",
              "  1,\n",
              "  1],\n",
              " 'Jess O Audio (2) 1.mp3': [0,\n",
              "  0,\n",
              "  0,\n",
              "  0,\n",
              "  1,\n",
              "  0,\n",
              "  0,\n",
              "  0,\n",
              "  0,\n",
              "  0,\n",
              "  0,\n",
              "  1,\n",
              "  1,\n",
              "  0,\n",
              "  1,\n",
              "  1,\n",
              "  1,\n",
              "  0,\n",
              "  0,\n",
              "  0,\n",
              "  0,\n",
              "  0,\n",
              "  0,\n",
              "  0,\n",
              "  1,\n",
              "  0,\n",
              "  1,\n",
              "  0,\n",
              "  0,\n",
              "  0,\n",
              "  0,\n",
              "  0,\n",
              "  0,\n",
              "  0,\n",
              "  0,\n",
              "  0,\n",
              "  0,\n",
              "  0,\n",
              "  1,\n",
              "  0,\n",
              "  1,\n",
              "  0,\n",
              "  1,\n",
              "  0,\n",
              "  0,\n",
              "  0,\n",
              "  0,\n",
              "  1,\n",
              "  0,\n",
              "  1,\n",
              "  0,\n",
              "  0,\n",
              "  1,\n",
              "  0,\n",
              "  1,\n",
              "  1,\n",
              "  1,\n",
              "  1,\n",
              "  0,\n",
              "  0],\n",
              " 'Jess O Audio (3) 1.mp3': [0,\n",
              "  0,\n",
              "  0,\n",
              "  0,\n",
              "  0,\n",
              "  0,\n",
              "  0,\n",
              "  0,\n",
              "  0,\n",
              "  1,\n",
              "  0,\n",
              "  1,\n",
              "  0,\n",
              "  0,\n",
              "  0,\n",
              "  0,\n",
              "  0,\n",
              "  0,\n",
              "  0,\n",
              "  0,\n",
              "  0,\n",
              "  0,\n",
              "  0,\n",
              "  0,\n",
              "  0,\n",
              "  0,\n",
              "  1,\n",
              "  0,\n",
              "  0,\n",
              "  1,\n",
              "  0,\n",
              "  0,\n",
              "  0,\n",
              "  0,\n",
              "  0,\n",
              "  1,\n",
              "  0,\n",
              "  0,\n",
              "  0,\n",
              "  0,\n",
              "  1,\n",
              "  0,\n",
              "  0,\n",
              "  0,\n",
              "  0,\n",
              "  0,\n",
              "  0,\n",
              "  0,\n",
              "  0,\n",
              "  0,\n",
              "  0,\n",
              "  0,\n",
              "  0,\n",
              "  0,\n",
              "  0,\n",
              "  0,\n",
              "  0,\n",
              "  0,\n",
              "  0,\n",
              "  0],\n",
              " 'Jess O Audio (4) 1.mp3': [1,\n",
              "  1,\n",
              "  0,\n",
              "  0,\n",
              "  0,\n",
              "  1,\n",
              "  0,\n",
              "  0,\n",
              "  0,\n",
              "  0,\n",
              "  0,\n",
              "  0,\n",
              "  0,\n",
              "  0,\n",
              "  0,\n",
              "  0,\n",
              "  0,\n",
              "  0,\n",
              "  0,\n",
              "  0,\n",
              "  0,\n",
              "  0,\n",
              "  0,\n",
              "  0,\n",
              "  0,\n",
              "  0,\n",
              "  0,\n",
              "  0,\n",
              "  0,\n",
              "  0,\n",
              "  0,\n",
              "  0,\n",
              "  0,\n",
              "  0,\n",
              "  0,\n",
              "  0,\n",
              "  0,\n",
              "  0,\n",
              "  0,\n",
              "  1,\n",
              "  0,\n",
              "  0,\n",
              "  0,\n",
              "  1,\n",
              "  0,\n",
              "  0,\n",
              "  0,\n",
              "  0,\n",
              "  0,\n",
              "  0,\n",
              "  0,\n",
              "  0,\n",
              "  0,\n",
              "  0,\n",
              "  0,\n",
              "  0,\n",
              "  0,\n",
              "  0,\n",
              "  0,\n",
              "  0],\n",
              " 'Jess O Audio (5) 1.mp3': [1,\n",
              "  1,\n",
              "  0,\n",
              "  1,\n",
              "  0,\n",
              "  0,\n",
              "  0,\n",
              "  0,\n",
              "  0,\n",
              "  0,\n",
              "  0,\n",
              "  0,\n",
              "  0,\n",
              "  0,\n",
              "  0,\n",
              "  0,\n",
              "  0,\n",
              "  0,\n",
              "  0,\n",
              "  0,\n",
              "  0,\n",
              "  0,\n",
              "  0,\n",
              "  0,\n",
              "  0,\n",
              "  0,\n",
              "  0,\n",
              "  0,\n",
              "  0,\n",
              "  0,\n",
              "  0,\n",
              "  1,\n",
              "  0,\n",
              "  1,\n",
              "  0,\n",
              "  0,\n",
              "  0,\n",
              "  1,\n",
              "  0,\n",
              "  0,\n",
              "  1,\n",
              "  0,\n",
              "  0,\n",
              "  0,\n",
              "  0,\n",
              "  0,\n",
              "  0,\n",
              "  0,\n",
              "  1,\n",
              "  1,\n",
              "  1,\n",
              "  0,\n",
              "  0,\n",
              "  0,\n",
              "  0,\n",
              "  0,\n",
              "  0,\n",
              "  0,\n",
              "  0,\n",
              "  0],\n",
              " 'Shayne Audio (1) 1.mp3': [1,\n",
              "  0,\n",
              "  1,\n",
              "  0,\n",
              "  1,\n",
              "  0,\n",
              "  1,\n",
              "  1,\n",
              "  1,\n",
              "  0,\n",
              "  0,\n",
              "  0,\n",
              "  0,\n",
              "  0,\n",
              "  0,\n",
              "  0,\n",
              "  0,\n",
              "  0,\n",
              "  1,\n",
              "  0,\n",
              "  0,\n",
              "  1,\n",
              "  0,\n",
              "  0,\n",
              "  0,\n",
              "  1,\n",
              "  0,\n",
              "  0,\n",
              "  1,\n",
              "  0,\n",
              "  1,\n",
              "  0,\n",
              "  1,\n",
              "  1,\n",
              "  0,\n",
              "  0,\n",
              "  0,\n",
              "  0,\n",
              "  1,\n",
              "  1,\n",
              "  1,\n",
              "  1,\n",
              "  1,\n",
              "  1,\n",
              "  1,\n",
              "  1,\n",
              "  0,\n",
              "  0,\n",
              "  0,\n",
              "  1,\n",
              "  1,\n",
              "  0,\n",
              "  1,\n",
              "  1,\n",
              "  0,\n",
              "  0,\n",
              "  0,\n",
              "  0,\n",
              "  0,\n",
              "  0],\n",
              " 'Shayne Audio (2) 1.mp3': [1,\n",
              "  0,\n",
              "  1,\n",
              "  0,\n",
              "  1,\n",
              "  0,\n",
              "  0,\n",
              "  0,\n",
              "  0,\n",
              "  1,\n",
              "  0,\n",
              "  1,\n",
              "  1,\n",
              "  1,\n",
              "  1,\n",
              "  0,\n",
              "  1,\n",
              "  1,\n",
              "  0,\n",
              "  0,\n",
              "  1,\n",
              "  1,\n",
              "  1,\n",
              "  1,\n",
              "  1,\n",
              "  1,\n",
              "  0,\n",
              "  0,\n",
              "  0,\n",
              "  0,\n",
              "  0,\n",
              "  1,\n",
              "  1,\n",
              "  1,\n",
              "  0,\n",
              "  1,\n",
              "  0,\n",
              "  1,\n",
              "  1,\n",
              "  1,\n",
              "  1,\n",
              "  0,\n",
              "  1,\n",
              "  0,\n",
              "  1,\n",
              "  1,\n",
              "  0,\n",
              "  1,\n",
              "  0,\n",
              "  0,\n",
              "  0,\n",
              "  1,\n",
              "  0,\n",
              "  1,\n",
              "  1,\n",
              "  1,\n",
              "  0,\n",
              "  0,\n",
              "  0,\n",
              "  1],\n",
              " 'Shayne Audio (3) 1.mp3': [0,\n",
              "  0,\n",
              "  0,\n",
              "  0,\n",
              "  0,\n",
              "  1,\n",
              "  0,\n",
              "  0,\n",
              "  0,\n",
              "  0,\n",
              "  0,\n",
              "  0,\n",
              "  0,\n",
              "  0,\n",
              "  0,\n",
              "  0,\n",
              "  0,\n",
              "  0,\n",
              "  0,\n",
              "  1,\n",
              "  1,\n",
              "  0,\n",
              "  0,\n",
              "  0,\n",
              "  0,\n",
              "  0,\n",
              "  0,\n",
              "  0,\n",
              "  0,\n",
              "  0,\n",
              "  0,\n",
              "  1,\n",
              "  1,\n",
              "  1,\n",
              "  0,\n",
              "  0,\n",
              "  1,\n",
              "  0,\n",
              "  0,\n",
              "  1,\n",
              "  1,\n",
              "  0,\n",
              "  0,\n",
              "  1,\n",
              "  1,\n",
              "  1,\n",
              "  1,\n",
              "  0,\n",
              "  0,\n",
              "  1,\n",
              "  0,\n",
              "  0,\n",
              "  0,\n",
              "  0,\n",
              "  0,\n",
              "  0,\n",
              "  0,\n",
              "  0,\n",
              "  0,\n",
              "  0],\n",
              " 'Shayne Audio (4) 1.mp3': [0,\n",
              "  0,\n",
              "  1,\n",
              "  1,\n",
              "  0,\n",
              "  0,\n",
              "  1,\n",
              "  0,\n",
              "  0,\n",
              "  0,\n",
              "  0,\n",
              "  0,\n",
              "  0,\n",
              "  1,\n",
              "  0,\n",
              "  0,\n",
              "  0,\n",
              "  0,\n",
              "  1,\n",
              "  1,\n",
              "  0,\n",
              "  0,\n",
              "  0,\n",
              "  0,\n",
              "  0,\n",
              "  0,\n",
              "  0,\n",
              "  0,\n",
              "  1,\n",
              "  1,\n",
              "  0,\n",
              "  1,\n",
              "  0,\n",
              "  0,\n",
              "  0,\n",
              "  1,\n",
              "  0,\n",
              "  0,\n",
              "  1,\n",
              "  0,\n",
              "  0,\n",
              "  1,\n",
              "  0,\n",
              "  0,\n",
              "  0,\n",
              "  0,\n",
              "  0,\n",
              "  0,\n",
              "  0,\n",
              "  0,\n",
              "  0,\n",
              "  0,\n",
              "  0,\n",
              "  0,\n",
              "  0,\n",
              "  1,\n",
              "  0,\n",
              "  0,\n",
              "  0,\n",
              "  1],\n",
              " 'Shayne Audio (5) 1.mp3': [0,\n",
              "  0,\n",
              "  0,\n",
              "  0,\n",
              "  0,\n",
              "  0,\n",
              "  0,\n",
              "  0,\n",
              "  0,\n",
              "  0,\n",
              "  0,\n",
              "  0,\n",
              "  0,\n",
              "  0,\n",
              "  1,\n",
              "  0,\n",
              "  0,\n",
              "  0,\n",
              "  1,\n",
              "  0,\n",
              "  0,\n",
              "  0,\n",
              "  1,\n",
              "  0,\n",
              "  1,\n",
              "  1,\n",
              "  1,\n",
              "  0,\n",
              "  1,\n",
              "  1,\n",
              "  0,\n",
              "  0,\n",
              "  0,\n",
              "  1,\n",
              "  1,\n",
              "  0,\n",
              "  0,\n",
              "  1,\n",
              "  0,\n",
              "  0,\n",
              "  0,\n",
              "  1,\n",
              "  0,\n",
              "  0,\n",
              "  0,\n",
              "  0,\n",
              "  0,\n",
              "  0,\n",
              "  0,\n",
              "  1,\n",
              "  0,\n",
              "  0,\n",
              "  1,\n",
              "  0,\n",
              "  0,\n",
              "  0,\n",
              "  1,\n",
              "  0,\n",
              "  0,\n",
              "  0]}"
            ]
          },
          "metadata": {},
          "execution_count": 105
        }
      ]
    },
    {
      "cell_type": "code",
      "source": [
        "# For every single recording, we have a prediction for every set\n",
        "# of slices withing that audio file.\n",
        "# Intrepetting it like this can be a bit difficult, so below we will run\n",
        "# some code that will convert all of our precitions into classes."
      ],
      "metadata": {
        "id": "O6DMOkZA-5yu"
      },
      "execution_count": null,
      "outputs": []
    },
    {
      "cell_type": "markdown",
      "source": [
        "### 10.3 Group Consecutive Detections"
      ],
      "metadata": {
        "id": "Hagvxq-w2Cyw"
      }
    },
    {
      "cell_type": "code",
      "source": [
        "postprocessed = {}\n",
        "for file, scores in class_preds.items():\n",
        "    postprocessed[file] = tf.math.reduce_sum([key for key, group in groupby(scores)]).numpy()\n",
        "postprocessed"
      ],
      "metadata": {
        "id": "ZZo6WZvo2Gil",
        "colab": {
          "base_uri": "https://localhost:8080/"
        },
        "outputId": "e2480646-c7dd-404e-e452-a1cc7170598c"
      },
      "execution_count": 106,
      "outputs": [
        {
          "output_type": "execute_result",
          "data": {
            "text/plain": [
              "{'Chayce Audio (1) 1.mp3': 11,\n",
              " 'Chayce Audio (2) 1.mp3': 10,\n",
              " 'Chayce Audio (3) 1.mp3': 7,\n",
              " 'Chayce Audio (4) 1.mp3': 5,\n",
              " 'Chayce Audio (5) 1.mp3': 10,\n",
              " 'Jess D Audio (1) 1.mp3': 9,\n",
              " 'Jess D Audio (2) 1.mp3': 6,\n",
              " 'Jess D Audio (3) 1.mp3': 6,\n",
              " 'Jess D Audio (4) 1.mp3': 4,\n",
              " 'Jess D Audio (5) 1.mp3': 1,\n",
              " 'Jess O Audio (1) 1.mp3': 8,\n",
              " 'Jess O Audio (2) 1.mp3': 12,\n",
              " 'Jess O Audio (3) 1.mp3': 6,\n",
              " 'Jess O Audio (4) 1.mp3': 4,\n",
              " 'Jess O Audio (5) 1.mp3': 7,\n",
              " 'Shayne Audio (1) 1.mp3': 13,\n",
              " 'Shayne Audio (2) 1.mp3': 16,\n",
              " 'Shayne Audio (3) 1.mp3': 7,\n",
              " 'Shayne Audio (4) 1.mp3': 11,\n",
              " 'Shayne Audio (5) 1.mp3': 11}"
            ]
          },
          "metadata": {},
          "execution_count": 106
        }
      ]
    },
    {
      "cell_type": "markdown",
      "source": [
        "## 11. Export Results"
      ],
      "metadata": {
        "id": "P0zir-Rv2Ksx"
      }
    },
    {
      "cell_type": "code",
      "source": [
        "import csv"
      ],
      "metadata": {
        "id": "T-EKAHwa2Nfs"
      },
      "execution_count": 107,
      "outputs": []
    },
    {
      "cell_type": "code",
      "source": [
        "with open('Density of Female Vocal Signals.csv', 'w', newline='') as f:\n",
        "    writer = csv.writer(f, delimiter=',')\n",
        "    writer.writerow(['Recording', 'Female_Vocal_Signal'])\n",
        "    for key, value in postprocessed.items():\n",
        "        writer.writerow([key, value])"
      ],
      "metadata": {
        "id": "IjurGN-P2Quq"
      },
      "execution_count": 108,
      "outputs": []
    },
    {
      "cell_type": "code",
      "source": [
        "# The model and final results can be used to engineer the A.I. for the \n",
        "# microphones. They will be used to increase the A.I.'s efficiency and ability \n",
        "# to detect and remove any unwanted signal before the signal is sent out of\n",
        "# the microphone and onto the audio interface."
      ],
      "metadata": {
        "id": "iYSPFxDb_HLa"
      },
      "execution_count": null,
      "outputs": []
    }
  ]
}